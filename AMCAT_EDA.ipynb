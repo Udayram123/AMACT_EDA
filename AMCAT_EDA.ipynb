{
 "cells": [
  {
   "cell_type": "code",
   "execution_count": 122,
   "id": "101f8969",
   "metadata": {},
   "outputs": [],
   "source": [
    "import pandas as pd\n",
    "import numpy as np\n",
    "import seaborn as sns\n",
    "import matplotlib.pyplot as plt"
   ]
  },
  {
   "cell_type": "code",
   "execution_count": 123,
   "id": "a9cf8033",
   "metadata": {},
   "outputs": [],
   "source": [
    "df = pd.read_csv(\"free.csv\")"
   ]
  },
  {
   "cell_type": "markdown",
   "id": "e03d59de",
   "metadata": {},
   "source": [
    "## Step - 1 - Introduction -> Give a detailed data description and objective"
   ]
  },
  {
   "cell_type": "markdown",
   "id": "d7370eaf",
   "metadata": {},
   "source": [
    "## Step - 2 - Import the data and display the head, shape and description of the data."
   ]
  },
  {
   "cell_type": "code",
   "execution_count": 124,
   "id": "ae20e3a1",
   "metadata": {},
   "outputs": [
    {
     "data": {
      "text/html": [
       "<div>\n",
       "<style scoped>\n",
       "    .dataframe tbody tr th:only-of-type {\n",
       "        vertical-align: middle;\n",
       "    }\n",
       "\n",
       "    .dataframe tbody tr th {\n",
       "        vertical-align: top;\n",
       "    }\n",
       "\n",
       "    .dataframe thead th {\n",
       "        text-align: right;\n",
       "    }\n",
       "</style>\n",
       "<table border=\"1\" class=\"dataframe\">\n",
       "  <thead>\n",
       "    <tr style=\"text-align: right;\">\n",
       "      <th></th>\n",
       "      <th>ID</th>\n",
       "      <th>Salary</th>\n",
       "      <th>DOJ</th>\n",
       "      <th>DOL</th>\n",
       "      <th>Designation</th>\n",
       "      <th>JobCity</th>\n",
       "      <th>Gender</th>\n",
       "      <th>DOB</th>\n",
       "      <th>10percentage</th>\n",
       "      <th>10board</th>\n",
       "      <th>...</th>\n",
       "      <th>CivilEngg</th>\n",
       "      <th>conscientiousness</th>\n",
       "      <th>agreeableness</th>\n",
       "      <th>extraversion</th>\n",
       "      <th>nueroticism</th>\n",
       "      <th>openess_to_experience</th>\n",
       "      <th>age</th>\n",
       "      <th>Joining_year</th>\n",
       "      <th>leaving_year</th>\n",
       "      <th>experience</th>\n",
       "    </tr>\n",
       "  </thead>\n",
       "  <tbody>\n",
       "    <tr>\n",
       "      <th>0</th>\n",
       "      <td>203097</td>\n",
       "      <td>420000.0</td>\n",
       "      <td>2012-06-01</td>\n",
       "      <td>2015-01-01</td>\n",
       "      <td>senior quality engineer</td>\n",
       "      <td>Bangalore</td>\n",
       "      <td>f</td>\n",
       "      <td>1990-02-19</td>\n",
       "      <td>84.3</td>\n",
       "      <td>board ofsecondary education,ap</td>\n",
       "      <td>...</td>\n",
       "      <td>0</td>\n",
       "      <td>0.9737</td>\n",
       "      <td>0.8128</td>\n",
       "      <td>0.5269</td>\n",
       "      <td>1.35490</td>\n",
       "      <td>-0.4455</td>\n",
       "      <td>34</td>\n",
       "      <td>2012</td>\n",
       "      <td>2015</td>\n",
       "      <td>3</td>\n",
       "    </tr>\n",
       "    <tr>\n",
       "      <th>1</th>\n",
       "      <td>579905</td>\n",
       "      <td>500000.0</td>\n",
       "      <td>2013-09-01</td>\n",
       "      <td>2015-01-01</td>\n",
       "      <td>assistant manager</td>\n",
       "      <td>Indore</td>\n",
       "      <td>m</td>\n",
       "      <td>1989-10-04</td>\n",
       "      <td>85.4</td>\n",
       "      <td>cbse</td>\n",
       "      <td>...</td>\n",
       "      <td>0</td>\n",
       "      <td>-0.7335</td>\n",
       "      <td>0.3789</td>\n",
       "      <td>1.2396</td>\n",
       "      <td>-0.10760</td>\n",
       "      <td>0.8637</td>\n",
       "      <td>35</td>\n",
       "      <td>2013</td>\n",
       "      <td>2015</td>\n",
       "      <td>2</td>\n",
       "    </tr>\n",
       "    <tr>\n",
       "      <th>2</th>\n",
       "      <td>810601</td>\n",
       "      <td>325000.0</td>\n",
       "      <td>2014-06-01</td>\n",
       "      <td>2015-01-01</td>\n",
       "      <td>systems engineer</td>\n",
       "      <td>Chennai</td>\n",
       "      <td>f</td>\n",
       "      <td>1992-08-03</td>\n",
       "      <td>85.0</td>\n",
       "      <td>cbse</td>\n",
       "      <td>...</td>\n",
       "      <td>0</td>\n",
       "      <td>0.2718</td>\n",
       "      <td>1.7109</td>\n",
       "      <td>0.1637</td>\n",
       "      <td>-0.86820</td>\n",
       "      <td>0.6721</td>\n",
       "      <td>32</td>\n",
       "      <td>2014</td>\n",
       "      <td>2015</td>\n",
       "      <td>1</td>\n",
       "    </tr>\n",
       "    <tr>\n",
       "      <th>3</th>\n",
       "      <td>267447</td>\n",
       "      <td>1100000.0</td>\n",
       "      <td>2011-07-01</td>\n",
       "      <td>2015-01-01</td>\n",
       "      <td>senior software engineer</td>\n",
       "      <td>Gurgaon</td>\n",
       "      <td>m</td>\n",
       "      <td>1989-12-05</td>\n",
       "      <td>85.6</td>\n",
       "      <td>cbse</td>\n",
       "      <td>...</td>\n",
       "      <td>0</td>\n",
       "      <td>0.0464</td>\n",
       "      <td>0.3448</td>\n",
       "      <td>-0.3440</td>\n",
       "      <td>-0.40780</td>\n",
       "      <td>-0.9194</td>\n",
       "      <td>35</td>\n",
       "      <td>2011</td>\n",
       "      <td>2015</td>\n",
       "      <td>4</td>\n",
       "    </tr>\n",
       "    <tr>\n",
       "      <th>4</th>\n",
       "      <td>343523</td>\n",
       "      <td>200000.0</td>\n",
       "      <td>2014-03-01</td>\n",
       "      <td>2015-03-01</td>\n",
       "      <td>get</td>\n",
       "      <td>Manesar</td>\n",
       "      <td>m</td>\n",
       "      <td>1991-02-27</td>\n",
       "      <td>78.0</td>\n",
       "      <td>cbse</td>\n",
       "      <td>...</td>\n",
       "      <td>0</td>\n",
       "      <td>-0.8810</td>\n",
       "      <td>-0.2793</td>\n",
       "      <td>-1.0697</td>\n",
       "      <td>0.09163</td>\n",
       "      <td>-0.1295</td>\n",
       "      <td>33</td>\n",
       "      <td>2014</td>\n",
       "      <td>2015</td>\n",
       "      <td>1</td>\n",
       "    </tr>\n",
       "  </tbody>\n",
       "</table>\n",
       "<p>5 rows × 42 columns</p>\n",
       "</div>"
      ],
      "text/plain": [
       "       ID     Salary         DOJ         DOL               Designation  \\\n",
       "0  203097   420000.0  2012-06-01  2015-01-01   senior quality engineer   \n",
       "1  579905   500000.0  2013-09-01  2015-01-01         assistant manager   \n",
       "2  810601   325000.0  2014-06-01  2015-01-01          systems engineer   \n",
       "3  267447  1100000.0  2011-07-01  2015-01-01  senior software engineer   \n",
       "4  343523   200000.0  2014-03-01  2015-03-01                       get   \n",
       "\n",
       "     JobCity Gender         DOB  10percentage                         10board  \\\n",
       "0  Bangalore      f  1990-02-19          84.3  board ofsecondary education,ap   \n",
       "1     Indore      m  1989-10-04          85.4                            cbse   \n",
       "2    Chennai      f  1992-08-03          85.0                            cbse   \n",
       "3    Gurgaon      m  1989-12-05          85.6                            cbse   \n",
       "4    Manesar      m  1991-02-27          78.0                            cbse   \n",
       "\n",
       "   ...  CivilEngg  conscientiousness agreeableness  extraversion  nueroticism  \\\n",
       "0  ...          0             0.9737        0.8128        0.5269      1.35490   \n",
       "1  ...          0            -0.7335        0.3789        1.2396     -0.10760   \n",
       "2  ...          0             0.2718        1.7109        0.1637     -0.86820   \n",
       "3  ...          0             0.0464        0.3448       -0.3440     -0.40780   \n",
       "4  ...          0            -0.8810       -0.2793       -1.0697      0.09163   \n",
       "\n",
       "  openess_to_experience age  Joining_year  leaving_year  experience  \n",
       "0               -0.4455  34          2012          2015           3  \n",
       "1                0.8637  35          2013          2015           2  \n",
       "2                0.6721  32          2014          2015           1  \n",
       "3               -0.9194  35          2011          2015           4  \n",
       "4               -0.1295  33          2014          2015           1  \n",
       "\n",
       "[5 rows x 42 columns]"
      ]
     },
     "execution_count": 124,
     "metadata": {},
     "output_type": "execute_result"
    }
   ],
   "source": [
    "df.head()"
   ]
  },
  {
   "cell_type": "code",
   "execution_count": 125,
   "id": "2c6a289d",
   "metadata": {},
   "outputs": [
    {
     "name": "stdout",
     "output_type": "stream",
     "text": [
      "<class 'pandas.core.frame.DataFrame'>\n",
      "RangeIndex: 3998 entries, 0 to 3997\n",
      "Data columns (total 42 columns):\n",
      " #   Column                 Non-Null Count  Dtype  \n",
      "---  ------                 --------------  -----  \n",
      " 0   ID                     3998 non-null   int64  \n",
      " 1   Salary                 3998 non-null   float64\n",
      " 2   DOJ                    3998 non-null   object \n",
      " 3   DOL                    3998 non-null   object \n",
      " 4   Designation            3998 non-null   object \n",
      " 5   JobCity                3998 non-null   object \n",
      " 6   Gender                 3998 non-null   object \n",
      " 7   DOB                    3998 non-null   object \n",
      " 8   10percentage           3998 non-null   float64\n",
      " 9   10board                3998 non-null   object \n",
      " 10  12graduation           3998 non-null   int64  \n",
      " 11  12percentage           3998 non-null   float64\n",
      " 12  12board                3998 non-null   object \n",
      " 13  CollegeID              3998 non-null   int64  \n",
      " 14  CollegeTier            3998 non-null   int64  \n",
      " 15  Degree                 3998 non-null   object \n",
      " 16  Specialization         3998 non-null   object \n",
      " 17  collegeGPA             3998 non-null   float64\n",
      " 18  CollegeCityID          3998 non-null   int64  \n",
      " 19  CollegeCityTier        3998 non-null   int64  \n",
      " 20  CollegeState           3998 non-null   object \n",
      " 21  GraduationYear         3998 non-null   int64  \n",
      " 22  English                3998 non-null   int64  \n",
      " 23  Logical                3998 non-null   int64  \n",
      " 24  Quant                  3998 non-null   int64  \n",
      " 25  Domain                 3998 non-null   float64\n",
      " 26  ComputerProgramming    3998 non-null   int64  \n",
      " 27  ElectronicsAndSemicon  3998 non-null   int64  \n",
      " 28  ComputerScience        3998 non-null   int64  \n",
      " 29  MechanicalEngg         3998 non-null   int64  \n",
      " 30  ElectricalEngg         3998 non-null   int64  \n",
      " 31  TelecomEngg            3998 non-null   int64  \n",
      " 32  CivilEngg              3998 non-null   int64  \n",
      " 33  conscientiousness      3998 non-null   float64\n",
      " 34  agreeableness          3998 non-null   float64\n",
      " 35  extraversion           3998 non-null   float64\n",
      " 36  nueroticism            3998 non-null   float64\n",
      " 37  openess_to_experience  3998 non-null   float64\n",
      " 38  age                    3998 non-null   int64  \n",
      " 39  Joining_year           3998 non-null   int64  \n",
      " 40  leaving_year           3998 non-null   int64  \n",
      " 41  experience             3998 non-null   int64  \n",
      "dtypes: float64(10), int64(21), object(11)\n",
      "memory usage: 1.3+ MB\n"
     ]
    }
   ],
   "source": [
    "df.info()"
   ]
  },
  {
   "cell_type": "code",
   "execution_count": 126,
   "id": "831db478",
   "metadata": {},
   "outputs": [
    {
     "data": {
      "text/html": [
       "<div>\n",
       "<style scoped>\n",
       "    .dataframe tbody tr th:only-of-type {\n",
       "        vertical-align: middle;\n",
       "    }\n",
       "\n",
       "    .dataframe tbody tr th {\n",
       "        vertical-align: top;\n",
       "    }\n",
       "\n",
       "    .dataframe thead th {\n",
       "        text-align: right;\n",
       "    }\n",
       "</style>\n",
       "<table border=\"1\" class=\"dataframe\">\n",
       "  <thead>\n",
       "    <tr style=\"text-align: right;\">\n",
       "      <th></th>\n",
       "      <th>ID</th>\n",
       "      <th>Salary</th>\n",
       "      <th>10percentage</th>\n",
       "      <th>12graduation</th>\n",
       "      <th>12percentage</th>\n",
       "      <th>CollegeID</th>\n",
       "      <th>CollegeTier</th>\n",
       "      <th>collegeGPA</th>\n",
       "      <th>CollegeCityID</th>\n",
       "      <th>CollegeCityTier</th>\n",
       "      <th>...</th>\n",
       "      <th>CivilEngg</th>\n",
       "      <th>conscientiousness</th>\n",
       "      <th>agreeableness</th>\n",
       "      <th>extraversion</th>\n",
       "      <th>nueroticism</th>\n",
       "      <th>openess_to_experience</th>\n",
       "      <th>age</th>\n",
       "      <th>Joining_year</th>\n",
       "      <th>leaving_year</th>\n",
       "      <th>experience</th>\n",
       "    </tr>\n",
       "  </thead>\n",
       "  <tbody>\n",
       "    <tr>\n",
       "      <th>count</th>\n",
       "      <td>3.998000e+03</td>\n",
       "      <td>3.998000e+03</td>\n",
       "      <td>3998.000000</td>\n",
       "      <td>3998.000000</td>\n",
       "      <td>3998.000000</td>\n",
       "      <td>3998.000000</td>\n",
       "      <td>3998.000000</td>\n",
       "      <td>3998.000000</td>\n",
       "      <td>3998.000000</td>\n",
       "      <td>3998.000000</td>\n",
       "      <td>...</td>\n",
       "      <td>3998.000000</td>\n",
       "      <td>3998.000000</td>\n",
       "      <td>3998.000000</td>\n",
       "      <td>3998.000000</td>\n",
       "      <td>3998.000000</td>\n",
       "      <td>3998.000000</td>\n",
       "      <td>3998.000000</td>\n",
       "      <td>3998.000000</td>\n",
       "      <td>3998.000000</td>\n",
       "      <td>3998.000000</td>\n",
       "    </tr>\n",
       "    <tr>\n",
       "      <th>mean</th>\n",
       "      <td>6.637945e+05</td>\n",
       "      <td>3.076998e+05</td>\n",
       "      <td>77.925443</td>\n",
       "      <td>2008.087544</td>\n",
       "      <td>74.466366</td>\n",
       "      <td>5156.851426</td>\n",
       "      <td>1.925713</td>\n",
       "      <td>71.486171</td>\n",
       "      <td>5156.851426</td>\n",
       "      <td>0.300400</td>\n",
       "      <td>...</td>\n",
       "      <td>3.673337</td>\n",
       "      <td>-0.037831</td>\n",
       "      <td>0.146496</td>\n",
       "      <td>0.002763</td>\n",
       "      <td>-0.169033</td>\n",
       "      <td>-0.138110</td>\n",
       "      <td>33.572536</td>\n",
       "      <td>2013.038769</td>\n",
       "      <td>2014.573037</td>\n",
       "      <td>1.534267</td>\n",
       "    </tr>\n",
       "    <tr>\n",
       "      <th>std</th>\n",
       "      <td>3.632182e+05</td>\n",
       "      <td>2.127375e+05</td>\n",
       "      <td>9.850162</td>\n",
       "      <td>1.653599</td>\n",
       "      <td>10.999933</td>\n",
       "      <td>4802.261482</td>\n",
       "      <td>0.262270</td>\n",
       "      <td>8.167338</td>\n",
       "      <td>4802.261482</td>\n",
       "      <td>0.458489</td>\n",
       "      <td>...</td>\n",
       "      <td>36.559052</td>\n",
       "      <td>1.028666</td>\n",
       "      <td>0.941782</td>\n",
       "      <td>0.951471</td>\n",
       "      <td>1.007580</td>\n",
       "      <td>1.008075</td>\n",
       "      <td>1.767473</td>\n",
       "      <td>1.328372</td>\n",
       "      <td>0.852695</td>\n",
       "      <td>1.161772</td>\n",
       "    </tr>\n",
       "    <tr>\n",
       "      <th>min</th>\n",
       "      <td>1.124400e+04</td>\n",
       "      <td>3.500000e+04</td>\n",
       "      <td>43.000000</td>\n",
       "      <td>1995.000000</td>\n",
       "      <td>40.000000</td>\n",
       "      <td>2.000000</td>\n",
       "      <td>1.000000</td>\n",
       "      <td>6.450000</td>\n",
       "      <td>2.000000</td>\n",
       "      <td>0.000000</td>\n",
       "      <td>...</td>\n",
       "      <td>0.000000</td>\n",
       "      <td>-4.126700</td>\n",
       "      <td>-5.781600</td>\n",
       "      <td>-4.600900</td>\n",
       "      <td>-2.643000</td>\n",
       "      <td>-7.375700</td>\n",
       "      <td>27.000000</td>\n",
       "      <td>1991.000000</td>\n",
       "      <td>2005.000000</td>\n",
       "      <td>0.000000</td>\n",
       "    </tr>\n",
       "    <tr>\n",
       "      <th>25%</th>\n",
       "      <td>3.342842e+05</td>\n",
       "      <td>1.800000e+05</td>\n",
       "      <td>71.680000</td>\n",
       "      <td>2007.000000</td>\n",
       "      <td>66.000000</td>\n",
       "      <td>494.000000</td>\n",
       "      <td>2.000000</td>\n",
       "      <td>66.407500</td>\n",
       "      <td>494.000000</td>\n",
       "      <td>0.000000</td>\n",
       "      <td>...</td>\n",
       "      <td>0.000000</td>\n",
       "      <td>-0.713525</td>\n",
       "      <td>-0.287100</td>\n",
       "      <td>-0.604800</td>\n",
       "      <td>-0.868200</td>\n",
       "      <td>-0.669200</td>\n",
       "      <td>32.000000</td>\n",
       "      <td>2012.000000</td>\n",
       "      <td>2014.000000</td>\n",
       "      <td>1.000000</td>\n",
       "    </tr>\n",
       "    <tr>\n",
       "      <th>50%</th>\n",
       "      <td>6.396000e+05</td>\n",
       "      <td>3.000000e+05</td>\n",
       "      <td>79.150000</td>\n",
       "      <td>2008.000000</td>\n",
       "      <td>74.400000</td>\n",
       "      <td>3879.000000</td>\n",
       "      <td>2.000000</td>\n",
       "      <td>71.720000</td>\n",
       "      <td>3879.000000</td>\n",
       "      <td>0.000000</td>\n",
       "      <td>...</td>\n",
       "      <td>0.000000</td>\n",
       "      <td>0.046400</td>\n",
       "      <td>0.212400</td>\n",
       "      <td>0.091400</td>\n",
       "      <td>-0.234400</td>\n",
       "      <td>-0.094300</td>\n",
       "      <td>33.000000</td>\n",
       "      <td>2013.000000</td>\n",
       "      <td>2015.000000</td>\n",
       "      <td>1.000000</td>\n",
       "    </tr>\n",
       "    <tr>\n",
       "      <th>75%</th>\n",
       "      <td>9.904800e+05</td>\n",
       "      <td>3.700000e+05</td>\n",
       "      <td>85.670000</td>\n",
       "      <td>2009.000000</td>\n",
       "      <td>82.600000</td>\n",
       "      <td>8818.000000</td>\n",
       "      <td>2.000000</td>\n",
       "      <td>76.327500</td>\n",
       "      <td>8818.000000</td>\n",
       "      <td>1.000000</td>\n",
       "      <td>...</td>\n",
       "      <td>0.000000</td>\n",
       "      <td>0.702700</td>\n",
       "      <td>0.812800</td>\n",
       "      <td>0.672000</td>\n",
       "      <td>0.526200</td>\n",
       "      <td>0.502400</td>\n",
       "      <td>35.000000</td>\n",
       "      <td>2014.000000</td>\n",
       "      <td>2015.000000</td>\n",
       "      <td>2.000000</td>\n",
       "    </tr>\n",
       "    <tr>\n",
       "      <th>max</th>\n",
       "      <td>1.298275e+06</td>\n",
       "      <td>4.000000e+06</td>\n",
       "      <td>97.760000</td>\n",
       "      <td>2013.000000</td>\n",
       "      <td>98.700000</td>\n",
       "      <td>18409.000000</td>\n",
       "      <td>2.000000</td>\n",
       "      <td>99.930000</td>\n",
       "      <td>18409.000000</td>\n",
       "      <td>1.000000</td>\n",
       "      <td>...</td>\n",
       "      <td>516.000000</td>\n",
       "      <td>1.995300</td>\n",
       "      <td>1.904800</td>\n",
       "      <td>2.535400</td>\n",
       "      <td>3.352500</td>\n",
       "      <td>1.822400</td>\n",
       "      <td>47.000000</td>\n",
       "      <td>2015.000000</td>\n",
       "      <td>2015.000000</td>\n",
       "      <td>24.000000</td>\n",
       "    </tr>\n",
       "  </tbody>\n",
       "</table>\n",
       "<p>8 rows × 31 columns</p>\n",
       "</div>"
      ],
      "text/plain": [
       "                 ID        Salary  10percentage  12graduation  12percentage  \\\n",
       "count  3.998000e+03  3.998000e+03   3998.000000   3998.000000   3998.000000   \n",
       "mean   6.637945e+05  3.076998e+05     77.925443   2008.087544     74.466366   \n",
       "std    3.632182e+05  2.127375e+05      9.850162      1.653599     10.999933   \n",
       "min    1.124400e+04  3.500000e+04     43.000000   1995.000000     40.000000   \n",
       "25%    3.342842e+05  1.800000e+05     71.680000   2007.000000     66.000000   \n",
       "50%    6.396000e+05  3.000000e+05     79.150000   2008.000000     74.400000   \n",
       "75%    9.904800e+05  3.700000e+05     85.670000   2009.000000     82.600000   \n",
       "max    1.298275e+06  4.000000e+06     97.760000   2013.000000     98.700000   \n",
       "\n",
       "          CollegeID  CollegeTier   collegeGPA  CollegeCityID  CollegeCityTier  \\\n",
       "count   3998.000000  3998.000000  3998.000000    3998.000000      3998.000000   \n",
       "mean    5156.851426     1.925713    71.486171    5156.851426         0.300400   \n",
       "std     4802.261482     0.262270     8.167338    4802.261482         0.458489   \n",
       "min        2.000000     1.000000     6.450000       2.000000         0.000000   \n",
       "25%      494.000000     2.000000    66.407500     494.000000         0.000000   \n",
       "50%     3879.000000     2.000000    71.720000    3879.000000         0.000000   \n",
       "75%     8818.000000     2.000000    76.327500    8818.000000         1.000000   \n",
       "max    18409.000000     2.000000    99.930000   18409.000000         1.000000   \n",
       "\n",
       "       ...    CivilEngg  conscientiousness  agreeableness  extraversion  \\\n",
       "count  ...  3998.000000        3998.000000    3998.000000   3998.000000   \n",
       "mean   ...     3.673337          -0.037831       0.146496      0.002763   \n",
       "std    ...    36.559052           1.028666       0.941782      0.951471   \n",
       "min    ...     0.000000          -4.126700      -5.781600     -4.600900   \n",
       "25%    ...     0.000000          -0.713525      -0.287100     -0.604800   \n",
       "50%    ...     0.000000           0.046400       0.212400      0.091400   \n",
       "75%    ...     0.000000           0.702700       0.812800      0.672000   \n",
       "max    ...   516.000000           1.995300       1.904800      2.535400   \n",
       "\n",
       "       nueroticism  openess_to_experience          age  Joining_year  \\\n",
       "count  3998.000000            3998.000000  3998.000000   3998.000000   \n",
       "mean     -0.169033              -0.138110    33.572536   2013.038769   \n",
       "std       1.007580               1.008075     1.767473      1.328372   \n",
       "min      -2.643000              -7.375700    27.000000   1991.000000   \n",
       "25%      -0.868200              -0.669200    32.000000   2012.000000   \n",
       "50%      -0.234400              -0.094300    33.000000   2013.000000   \n",
       "75%       0.526200               0.502400    35.000000   2014.000000   \n",
       "max       3.352500               1.822400    47.000000   2015.000000   \n",
       "\n",
       "       leaving_year   experience  \n",
       "count   3998.000000  3998.000000  \n",
       "mean    2014.573037     1.534267  \n",
       "std        0.852695     1.161772  \n",
       "min     2005.000000     0.000000  \n",
       "25%     2014.000000     1.000000  \n",
       "50%     2015.000000     1.000000  \n",
       "75%     2015.000000     2.000000  \n",
       "max     2015.000000    24.000000  \n",
       "\n",
       "[8 rows x 31 columns]"
      ]
     },
     "execution_count": 126,
     "metadata": {},
     "output_type": "execute_result"
    }
   ],
   "source": [
    "df.describe()"
   ]
  },
  {
   "cell_type": "code",
   "execution_count": 127,
   "id": "7e09aee5",
   "metadata": {},
   "outputs": [
    {
     "data": {
      "text/html": [
       "<div>\n",
       "<style scoped>\n",
       "    .dataframe tbody tr th:only-of-type {\n",
       "        vertical-align: middle;\n",
       "    }\n",
       "\n",
       "    .dataframe tbody tr th {\n",
       "        vertical-align: top;\n",
       "    }\n",
       "\n",
       "    .dataframe thead th {\n",
       "        text-align: right;\n",
       "    }\n",
       "</style>\n",
       "<table border=\"1\" class=\"dataframe\">\n",
       "  <thead>\n",
       "    <tr style=\"text-align: right;\">\n",
       "      <th></th>\n",
       "      <th>ID</th>\n",
       "      <th>Salary</th>\n",
       "      <th>DOJ</th>\n",
       "      <th>DOL</th>\n",
       "      <th>Designation</th>\n",
       "      <th>JobCity</th>\n",
       "      <th>Gender</th>\n",
       "      <th>DOB</th>\n",
       "      <th>10percentage</th>\n",
       "      <th>10board</th>\n",
       "      <th>...</th>\n",
       "      <th>CivilEngg</th>\n",
       "      <th>conscientiousness</th>\n",
       "      <th>agreeableness</th>\n",
       "      <th>extraversion</th>\n",
       "      <th>nueroticism</th>\n",
       "      <th>openess_to_experience</th>\n",
       "      <th>age</th>\n",
       "      <th>Joining_year</th>\n",
       "      <th>leaving_year</th>\n",
       "      <th>experience</th>\n",
       "    </tr>\n",
       "  </thead>\n",
       "  <tbody>\n",
       "    <tr>\n",
       "      <th>0</th>\n",
       "      <td>203097</td>\n",
       "      <td>420000.0</td>\n",
       "      <td>2012-06-01</td>\n",
       "      <td>2015-01-01</td>\n",
       "      <td>senior quality engineer</td>\n",
       "      <td>Bangalore</td>\n",
       "      <td>f</td>\n",
       "      <td>1990-02-19</td>\n",
       "      <td>84.3</td>\n",
       "      <td>board ofsecondary education,ap</td>\n",
       "      <td>...</td>\n",
       "      <td>0</td>\n",
       "      <td>0.9737</td>\n",
       "      <td>0.8128</td>\n",
       "      <td>0.5269</td>\n",
       "      <td>1.35490</td>\n",
       "      <td>-0.4455</td>\n",
       "      <td>34</td>\n",
       "      <td>2012</td>\n",
       "      <td>2015</td>\n",
       "      <td>3</td>\n",
       "    </tr>\n",
       "    <tr>\n",
       "      <th>1</th>\n",
       "      <td>579905</td>\n",
       "      <td>500000.0</td>\n",
       "      <td>2013-09-01</td>\n",
       "      <td>2015-01-01</td>\n",
       "      <td>assistant manager</td>\n",
       "      <td>Indore</td>\n",
       "      <td>m</td>\n",
       "      <td>1989-10-04</td>\n",
       "      <td>85.4</td>\n",
       "      <td>cbse</td>\n",
       "      <td>...</td>\n",
       "      <td>0</td>\n",
       "      <td>-0.7335</td>\n",
       "      <td>0.3789</td>\n",
       "      <td>1.2396</td>\n",
       "      <td>-0.10760</td>\n",
       "      <td>0.8637</td>\n",
       "      <td>35</td>\n",
       "      <td>2013</td>\n",
       "      <td>2015</td>\n",
       "      <td>2</td>\n",
       "    </tr>\n",
       "    <tr>\n",
       "      <th>2</th>\n",
       "      <td>810601</td>\n",
       "      <td>325000.0</td>\n",
       "      <td>2014-06-01</td>\n",
       "      <td>2015-01-01</td>\n",
       "      <td>systems engineer</td>\n",
       "      <td>Chennai</td>\n",
       "      <td>f</td>\n",
       "      <td>1992-08-03</td>\n",
       "      <td>85.0</td>\n",
       "      <td>cbse</td>\n",
       "      <td>...</td>\n",
       "      <td>0</td>\n",
       "      <td>0.2718</td>\n",
       "      <td>1.7109</td>\n",
       "      <td>0.1637</td>\n",
       "      <td>-0.86820</td>\n",
       "      <td>0.6721</td>\n",
       "      <td>32</td>\n",
       "      <td>2014</td>\n",
       "      <td>2015</td>\n",
       "      <td>1</td>\n",
       "    </tr>\n",
       "    <tr>\n",
       "      <th>3</th>\n",
       "      <td>267447</td>\n",
       "      <td>1100000.0</td>\n",
       "      <td>2011-07-01</td>\n",
       "      <td>2015-01-01</td>\n",
       "      <td>senior software engineer</td>\n",
       "      <td>Gurgaon</td>\n",
       "      <td>m</td>\n",
       "      <td>1989-12-05</td>\n",
       "      <td>85.6</td>\n",
       "      <td>cbse</td>\n",
       "      <td>...</td>\n",
       "      <td>0</td>\n",
       "      <td>0.0464</td>\n",
       "      <td>0.3448</td>\n",
       "      <td>-0.3440</td>\n",
       "      <td>-0.40780</td>\n",
       "      <td>-0.9194</td>\n",
       "      <td>35</td>\n",
       "      <td>2011</td>\n",
       "      <td>2015</td>\n",
       "      <td>4</td>\n",
       "    </tr>\n",
       "    <tr>\n",
       "      <th>4</th>\n",
       "      <td>343523</td>\n",
       "      <td>200000.0</td>\n",
       "      <td>2014-03-01</td>\n",
       "      <td>2015-03-01</td>\n",
       "      <td>get</td>\n",
       "      <td>Manesar</td>\n",
       "      <td>m</td>\n",
       "      <td>1991-02-27</td>\n",
       "      <td>78.0</td>\n",
       "      <td>cbse</td>\n",
       "      <td>...</td>\n",
       "      <td>0</td>\n",
       "      <td>-0.8810</td>\n",
       "      <td>-0.2793</td>\n",
       "      <td>-1.0697</td>\n",
       "      <td>0.09163</td>\n",
       "      <td>-0.1295</td>\n",
       "      <td>33</td>\n",
       "      <td>2014</td>\n",
       "      <td>2015</td>\n",
       "      <td>1</td>\n",
       "    </tr>\n",
       "  </tbody>\n",
       "</table>\n",
       "<p>5 rows × 42 columns</p>\n",
       "</div>"
      ],
      "text/plain": [
       "       ID     Salary         DOJ         DOL               Designation  \\\n",
       "0  203097   420000.0  2012-06-01  2015-01-01   senior quality engineer   \n",
       "1  579905   500000.0  2013-09-01  2015-01-01         assistant manager   \n",
       "2  810601   325000.0  2014-06-01  2015-01-01          systems engineer   \n",
       "3  267447  1100000.0  2011-07-01  2015-01-01  senior software engineer   \n",
       "4  343523   200000.0  2014-03-01  2015-03-01                       get   \n",
       "\n",
       "     JobCity Gender         DOB  10percentage                         10board  \\\n",
       "0  Bangalore      f  1990-02-19          84.3  board ofsecondary education,ap   \n",
       "1     Indore      m  1989-10-04          85.4                            cbse   \n",
       "2    Chennai      f  1992-08-03          85.0                            cbse   \n",
       "3    Gurgaon      m  1989-12-05          85.6                            cbse   \n",
       "4    Manesar      m  1991-02-27          78.0                            cbse   \n",
       "\n",
       "   ...  CivilEngg  conscientiousness agreeableness  extraversion  nueroticism  \\\n",
       "0  ...          0             0.9737        0.8128        0.5269      1.35490   \n",
       "1  ...          0            -0.7335        0.3789        1.2396     -0.10760   \n",
       "2  ...          0             0.2718        1.7109        0.1637     -0.86820   \n",
       "3  ...          0             0.0464        0.3448       -0.3440     -0.40780   \n",
       "4  ...          0            -0.8810       -0.2793       -1.0697      0.09163   \n",
       "\n",
       "  openess_to_experience age  Joining_year  leaving_year  experience  \n",
       "0               -0.4455  34          2012          2015           3  \n",
       "1                0.8637  35          2013          2015           2  \n",
       "2                0.6721  32          2014          2015           1  \n",
       "3               -0.9194  35          2011          2015           4  \n",
       "4               -0.1295  33          2014          2015           1  \n",
       "\n",
       "[5 rows x 42 columns]"
      ]
     },
     "execution_count": 127,
     "metadata": {},
     "output_type": "execute_result"
    }
   ],
   "source": [
    "df.head()"
   ]
  },
  {
   "cell_type": "code",
   "execution_count": 128,
   "id": "f0d9b37e",
   "metadata": {},
   "outputs": [
    {
     "data": {
      "text/plain": [
       "Index(['ID', 'Salary', 'DOJ', 'DOL', 'Designation', 'JobCity', 'Gender', 'DOB',\n",
       "       '10percentage', '10board', '12graduation', '12percentage', '12board',\n",
       "       'CollegeID', 'CollegeTier', 'Degree', 'Specialization', 'collegeGPA',\n",
       "       'CollegeCityID', 'CollegeCityTier', 'CollegeState', 'GraduationYear',\n",
       "       'English', 'Logical', 'Quant', 'Domain', 'ComputerProgramming',\n",
       "       'ElectronicsAndSemicon', 'ComputerScience', 'MechanicalEngg',\n",
       "       'ElectricalEngg', 'TelecomEngg', 'CivilEngg', 'conscientiousness',\n",
       "       'agreeableness', 'extraversion', 'nueroticism', 'openess_to_experience',\n",
       "       'age', 'Joining_year', 'leaving_year', 'experience'],\n",
       "      dtype='object')"
      ]
     },
     "execution_count": 128,
     "metadata": {},
     "output_type": "execute_result"
    }
   ],
   "source": [
    "df.columns"
   ]
  },
  {
   "cell_type": "code",
   "execution_count": 129,
   "id": "2a4ae7ee",
   "metadata": {},
   "outputs": [],
   "source": [
    "df_ = df.drop(columns={'ID','CollegeID','CollegeCityID','CollegeCityTier'})"
   ]
  },
  {
   "cell_type": "code",
   "execution_count": 130,
   "id": "88ba5cb4",
   "metadata": {},
   "outputs": [
    {
     "data": {
      "text/html": [
       "<div>\n",
       "<style scoped>\n",
       "    .dataframe tbody tr th:only-of-type {\n",
       "        vertical-align: middle;\n",
       "    }\n",
       "\n",
       "    .dataframe tbody tr th {\n",
       "        vertical-align: top;\n",
       "    }\n",
       "\n",
       "    .dataframe thead th {\n",
       "        text-align: right;\n",
       "    }\n",
       "</style>\n",
       "<table border=\"1\" class=\"dataframe\">\n",
       "  <thead>\n",
       "    <tr style=\"text-align: right;\">\n",
       "      <th></th>\n",
       "      <th>Salary</th>\n",
       "      <th>DOJ</th>\n",
       "      <th>DOL</th>\n",
       "      <th>Designation</th>\n",
       "      <th>JobCity</th>\n",
       "      <th>Gender</th>\n",
       "      <th>DOB</th>\n",
       "      <th>10percentage</th>\n",
       "      <th>10board</th>\n",
       "      <th>12graduation</th>\n",
       "      <th>...</th>\n",
       "      <th>CivilEngg</th>\n",
       "      <th>conscientiousness</th>\n",
       "      <th>agreeableness</th>\n",
       "      <th>extraversion</th>\n",
       "      <th>nueroticism</th>\n",
       "      <th>openess_to_experience</th>\n",
       "      <th>age</th>\n",
       "      <th>Joining_year</th>\n",
       "      <th>leaving_year</th>\n",
       "      <th>experience</th>\n",
       "    </tr>\n",
       "  </thead>\n",
       "  <tbody>\n",
       "    <tr>\n",
       "      <th>0</th>\n",
       "      <td>420000.0</td>\n",
       "      <td>2012-06-01</td>\n",
       "      <td>2015-01-01</td>\n",
       "      <td>senior quality engineer</td>\n",
       "      <td>Bangalore</td>\n",
       "      <td>f</td>\n",
       "      <td>1990-02-19</td>\n",
       "      <td>84.30</td>\n",
       "      <td>board ofsecondary education,ap</td>\n",
       "      <td>2007</td>\n",
       "      <td>...</td>\n",
       "      <td>0</td>\n",
       "      <td>0.9737</td>\n",
       "      <td>0.8128</td>\n",
       "      <td>0.5269</td>\n",
       "      <td>1.35490</td>\n",
       "      <td>-0.4455</td>\n",
       "      <td>34</td>\n",
       "      <td>2012</td>\n",
       "      <td>2015</td>\n",
       "      <td>3</td>\n",
       "    </tr>\n",
       "    <tr>\n",
       "      <th>1</th>\n",
       "      <td>500000.0</td>\n",
       "      <td>2013-09-01</td>\n",
       "      <td>2015-01-01</td>\n",
       "      <td>assistant manager</td>\n",
       "      <td>Indore</td>\n",
       "      <td>m</td>\n",
       "      <td>1989-10-04</td>\n",
       "      <td>85.40</td>\n",
       "      <td>cbse</td>\n",
       "      <td>2007</td>\n",
       "      <td>...</td>\n",
       "      <td>0</td>\n",
       "      <td>-0.7335</td>\n",
       "      <td>0.3789</td>\n",
       "      <td>1.2396</td>\n",
       "      <td>-0.10760</td>\n",
       "      <td>0.8637</td>\n",
       "      <td>35</td>\n",
       "      <td>2013</td>\n",
       "      <td>2015</td>\n",
       "      <td>2</td>\n",
       "    </tr>\n",
       "    <tr>\n",
       "      <th>2</th>\n",
       "      <td>325000.0</td>\n",
       "      <td>2014-06-01</td>\n",
       "      <td>2015-01-01</td>\n",
       "      <td>systems engineer</td>\n",
       "      <td>Chennai</td>\n",
       "      <td>f</td>\n",
       "      <td>1992-08-03</td>\n",
       "      <td>85.00</td>\n",
       "      <td>cbse</td>\n",
       "      <td>2010</td>\n",
       "      <td>...</td>\n",
       "      <td>0</td>\n",
       "      <td>0.2718</td>\n",
       "      <td>1.7109</td>\n",
       "      <td>0.1637</td>\n",
       "      <td>-0.86820</td>\n",
       "      <td>0.6721</td>\n",
       "      <td>32</td>\n",
       "      <td>2014</td>\n",
       "      <td>2015</td>\n",
       "      <td>1</td>\n",
       "    </tr>\n",
       "    <tr>\n",
       "      <th>3</th>\n",
       "      <td>1100000.0</td>\n",
       "      <td>2011-07-01</td>\n",
       "      <td>2015-01-01</td>\n",
       "      <td>senior software engineer</td>\n",
       "      <td>Gurgaon</td>\n",
       "      <td>m</td>\n",
       "      <td>1989-12-05</td>\n",
       "      <td>85.60</td>\n",
       "      <td>cbse</td>\n",
       "      <td>2007</td>\n",
       "      <td>...</td>\n",
       "      <td>0</td>\n",
       "      <td>0.0464</td>\n",
       "      <td>0.3448</td>\n",
       "      <td>-0.3440</td>\n",
       "      <td>-0.40780</td>\n",
       "      <td>-0.9194</td>\n",
       "      <td>35</td>\n",
       "      <td>2011</td>\n",
       "      <td>2015</td>\n",
       "      <td>4</td>\n",
       "    </tr>\n",
       "    <tr>\n",
       "      <th>4</th>\n",
       "      <td>200000.0</td>\n",
       "      <td>2014-03-01</td>\n",
       "      <td>2015-03-01</td>\n",
       "      <td>get</td>\n",
       "      <td>Manesar</td>\n",
       "      <td>m</td>\n",
       "      <td>1991-02-27</td>\n",
       "      <td>78.00</td>\n",
       "      <td>cbse</td>\n",
       "      <td>2008</td>\n",
       "      <td>...</td>\n",
       "      <td>0</td>\n",
       "      <td>-0.8810</td>\n",
       "      <td>-0.2793</td>\n",
       "      <td>-1.0697</td>\n",
       "      <td>0.09163</td>\n",
       "      <td>-0.1295</td>\n",
       "      <td>33</td>\n",
       "      <td>2014</td>\n",
       "      <td>2015</td>\n",
       "      <td>1</td>\n",
       "    </tr>\n",
       "    <tr>\n",
       "      <th>...</th>\n",
       "      <td>...</td>\n",
       "      <td>...</td>\n",
       "      <td>...</td>\n",
       "      <td>...</td>\n",
       "      <td>...</td>\n",
       "      <td>...</td>\n",
       "      <td>...</td>\n",
       "      <td>...</td>\n",
       "      <td>...</td>\n",
       "      <td>...</td>\n",
       "      <td>...</td>\n",
       "      <td>...</td>\n",
       "      <td>...</td>\n",
       "      <td>...</td>\n",
       "      <td>...</td>\n",
       "      <td>...</td>\n",
       "      <td>...</td>\n",
       "      <td>...</td>\n",
       "      <td>...</td>\n",
       "      <td>...</td>\n",
       "      <td>...</td>\n",
       "    </tr>\n",
       "    <tr>\n",
       "      <th>3993</th>\n",
       "      <td>280000.0</td>\n",
       "      <td>2011-10-01</td>\n",
       "      <td>2012-10-01</td>\n",
       "      <td>software engineer</td>\n",
       "      <td>New Delhi</td>\n",
       "      <td>m</td>\n",
       "      <td>1987-04-15</td>\n",
       "      <td>52.09</td>\n",
       "      <td>cbse</td>\n",
       "      <td>2006</td>\n",
       "      <td>...</td>\n",
       "      <td>0</td>\n",
       "      <td>-0.1082</td>\n",
       "      <td>0.3448</td>\n",
       "      <td>0.2366</td>\n",
       "      <td>0.64980</td>\n",
       "      <td>-0.9194</td>\n",
       "      <td>37</td>\n",
       "      <td>2011</td>\n",
       "      <td>2012</td>\n",
       "      <td>1</td>\n",
       "    </tr>\n",
       "    <tr>\n",
       "      <th>3994</th>\n",
       "      <td>100000.0</td>\n",
       "      <td>2013-07-01</td>\n",
       "      <td>2013-07-01</td>\n",
       "      <td>technical writer</td>\n",
       "      <td>Hyderabad</td>\n",
       "      <td>f</td>\n",
       "      <td>1992-08-27</td>\n",
       "      <td>90.00</td>\n",
       "      <td>state board</td>\n",
       "      <td>2009</td>\n",
       "      <td>...</td>\n",
       "      <td>0</td>\n",
       "      <td>-0.3027</td>\n",
       "      <td>0.8784</td>\n",
       "      <td>0.9322</td>\n",
       "      <td>0.77980</td>\n",
       "      <td>-0.0943</td>\n",
       "      <td>32</td>\n",
       "      <td>2013</td>\n",
       "      <td>2013</td>\n",
       "      <td>0</td>\n",
       "    </tr>\n",
       "    <tr>\n",
       "      <th>3995</th>\n",
       "      <td>320000.0</td>\n",
       "      <td>2013-07-01</td>\n",
       "      <td>2015-01-01</td>\n",
       "      <td>associate software engineer</td>\n",
       "      <td>Bangalore</td>\n",
       "      <td>m</td>\n",
       "      <td>1991-07-03</td>\n",
       "      <td>81.86</td>\n",
       "      <td>bse,odisha</td>\n",
       "      <td>2008</td>\n",
       "      <td>...</td>\n",
       "      <td>0</td>\n",
       "      <td>-1.5765</td>\n",
       "      <td>-1.5273</td>\n",
       "      <td>-1.5051</td>\n",
       "      <td>-1.31840</td>\n",
       "      <td>-0.7615</td>\n",
       "      <td>33</td>\n",
       "      <td>2013</td>\n",
       "      <td>2015</td>\n",
       "      <td>2</td>\n",
       "    </tr>\n",
       "    <tr>\n",
       "      <th>3996</th>\n",
       "      <td>200000.0</td>\n",
       "      <td>2014-07-01</td>\n",
       "      <td>2015-01-01</td>\n",
       "      <td>software developer</td>\n",
       "      <td>Asifabadbanglore</td>\n",
       "      <td>f</td>\n",
       "      <td>1992-03-20</td>\n",
       "      <td>78.72</td>\n",
       "      <td>state board</td>\n",
       "      <td>2010</td>\n",
       "      <td>...</td>\n",
       "      <td>0</td>\n",
       "      <td>-0.1590</td>\n",
       "      <td>0.0459</td>\n",
       "      <td>-0.4511</td>\n",
       "      <td>-0.36120</td>\n",
       "      <td>-0.0943</td>\n",
       "      <td>32</td>\n",
       "      <td>2014</td>\n",
       "      <td>2015</td>\n",
       "      <td>1</td>\n",
       "    </tr>\n",
       "    <tr>\n",
       "      <th>3997</th>\n",
       "      <td>400000.0</td>\n",
       "      <td>2013-02-01</td>\n",
       "      <td>2015-01-01</td>\n",
       "      <td>senior systems engineer</td>\n",
       "      <td>Chennai</td>\n",
       "      <td>f</td>\n",
       "      <td>1991-02-26</td>\n",
       "      <td>70.60</td>\n",
       "      <td>cbse</td>\n",
       "      <td>2008</td>\n",
       "      <td>...</td>\n",
       "      <td>0</td>\n",
       "      <td>-1.1128</td>\n",
       "      <td>-0.2793</td>\n",
       "      <td>-0.6343</td>\n",
       "      <td>1.32553</td>\n",
       "      <td>-0.6035</td>\n",
       "      <td>33</td>\n",
       "      <td>2013</td>\n",
       "      <td>2015</td>\n",
       "      <td>2</td>\n",
       "    </tr>\n",
       "  </tbody>\n",
       "</table>\n",
       "<p>3998 rows × 38 columns</p>\n",
       "</div>"
      ],
      "text/plain": [
       "         Salary         DOJ         DOL                  Designation  \\\n",
       "0      420000.0  2012-06-01  2015-01-01      senior quality engineer   \n",
       "1      500000.0  2013-09-01  2015-01-01            assistant manager   \n",
       "2      325000.0  2014-06-01  2015-01-01             systems engineer   \n",
       "3     1100000.0  2011-07-01  2015-01-01     senior software engineer   \n",
       "4      200000.0  2014-03-01  2015-03-01                          get   \n",
       "...         ...         ...         ...                          ...   \n",
       "3993   280000.0  2011-10-01  2012-10-01            software engineer   \n",
       "3994   100000.0  2013-07-01  2013-07-01             technical writer   \n",
       "3995   320000.0  2013-07-01  2015-01-01  associate software engineer   \n",
       "3996   200000.0  2014-07-01  2015-01-01           software developer   \n",
       "3997   400000.0  2013-02-01  2015-01-01      senior systems engineer   \n",
       "\n",
       "               JobCity Gender         DOB  10percentage  \\\n",
       "0            Bangalore      f  1990-02-19         84.30   \n",
       "1               Indore      m  1989-10-04         85.40   \n",
       "2              Chennai      f  1992-08-03         85.00   \n",
       "3              Gurgaon      m  1989-12-05         85.60   \n",
       "4              Manesar      m  1991-02-27         78.00   \n",
       "...                ...    ...         ...           ...   \n",
       "3993        New Delhi       m  1987-04-15         52.09   \n",
       "3994         Hyderabad      f  1992-08-27         90.00   \n",
       "3995         Bangalore      m  1991-07-03         81.86   \n",
       "3996  Asifabadbanglore      f  1992-03-20         78.72   \n",
       "3997           Chennai      f  1991-02-26         70.60   \n",
       "\n",
       "                             10board  12graduation  ...  CivilEngg  \\\n",
       "0     board ofsecondary education,ap          2007  ...          0   \n",
       "1                               cbse          2007  ...          0   \n",
       "2                               cbse          2010  ...          0   \n",
       "3                               cbse          2007  ...          0   \n",
       "4                               cbse          2008  ...          0   \n",
       "...                              ...           ...  ...        ...   \n",
       "3993                            cbse          2006  ...          0   \n",
       "3994                     state board          2009  ...          0   \n",
       "3995                      bse,odisha          2008  ...          0   \n",
       "3996                     state board          2010  ...          0   \n",
       "3997                            cbse          2008  ...          0   \n",
       "\n",
       "     conscientiousness  agreeableness extraversion nueroticism  \\\n",
       "0               0.9737         0.8128       0.5269     1.35490   \n",
       "1              -0.7335         0.3789       1.2396    -0.10760   \n",
       "2               0.2718         1.7109       0.1637    -0.86820   \n",
       "3               0.0464         0.3448      -0.3440    -0.40780   \n",
       "4              -0.8810        -0.2793      -1.0697     0.09163   \n",
       "...                ...            ...          ...         ...   \n",
       "3993           -0.1082         0.3448       0.2366     0.64980   \n",
       "3994           -0.3027         0.8784       0.9322     0.77980   \n",
       "3995           -1.5765        -1.5273      -1.5051    -1.31840   \n",
       "3996           -0.1590         0.0459      -0.4511    -0.36120   \n",
       "3997           -1.1128        -0.2793      -0.6343     1.32553   \n",
       "\n",
       "      openess_to_experience age  Joining_year  leaving_year  experience  \n",
       "0                   -0.4455  34          2012          2015           3  \n",
       "1                    0.8637  35          2013          2015           2  \n",
       "2                    0.6721  32          2014          2015           1  \n",
       "3                   -0.9194  35          2011          2015           4  \n",
       "4                   -0.1295  33          2014          2015           1  \n",
       "...                     ...  ..           ...           ...         ...  \n",
       "3993                -0.9194  37          2011          2012           1  \n",
       "3994                -0.0943  32          2013          2013           0  \n",
       "3995                -0.7615  33          2013          2015           2  \n",
       "3996                -0.0943  32          2014          2015           1  \n",
       "3997                -0.6035  33          2013          2015           2  \n",
       "\n",
       "[3998 rows x 38 columns]"
      ]
     },
     "execution_count": 130,
     "metadata": {},
     "output_type": "execute_result"
    }
   ],
   "source": [
    "df_"
   ]
  },
  {
   "cell_type": "code",
   "execution_count": 131,
   "id": "93ca47de",
   "metadata": {},
   "outputs": [
    {
     "data": {
      "text/html": [
       "<div>\n",
       "<style scoped>\n",
       "    .dataframe tbody tr th:only-of-type {\n",
       "        vertical-align: middle;\n",
       "    }\n",
       "\n",
       "    .dataframe tbody tr th {\n",
       "        vertical-align: top;\n",
       "    }\n",
       "\n",
       "    .dataframe thead th {\n",
       "        text-align: right;\n",
       "    }\n",
       "</style>\n",
       "<table border=\"1\" class=\"dataframe\">\n",
       "  <thead>\n",
       "    <tr style=\"text-align: right;\">\n",
       "      <th></th>\n",
       "      <th>Salary</th>\n",
       "      <th>DOJ</th>\n",
       "      <th>DOL</th>\n",
       "      <th>Designation</th>\n",
       "      <th>JobCity</th>\n",
       "      <th>Gender</th>\n",
       "      <th>DOB</th>\n",
       "      <th>10percentage</th>\n",
       "      <th>10board</th>\n",
       "      <th>12graduation</th>\n",
       "      <th>...</th>\n",
       "      <th>CivilEngg</th>\n",
       "      <th>conscientiousness</th>\n",
       "      <th>agreeableness</th>\n",
       "      <th>extraversion</th>\n",
       "      <th>nueroticism</th>\n",
       "      <th>openess_to_experience</th>\n",
       "      <th>age</th>\n",
       "      <th>Joining_year</th>\n",
       "      <th>leaving_year</th>\n",
       "      <th>experience</th>\n",
       "    </tr>\n",
       "  </thead>\n",
       "  <tbody>\n",
       "    <tr>\n",
       "      <th>18</th>\n",
       "      <td>120000.0</td>\n",
       "      <td>2014-01-01</td>\n",
       "      <td>2014-06-01</td>\n",
       "      <td>data entry operator</td>\n",
       "      <td>Gurgaon</td>\n",
       "      <td>m</td>\n",
       "      <td>1992-12-07</td>\n",
       "      <td>65.00</td>\n",
       "      <td>state board</td>\n",
       "      <td>2008</td>\n",
       "      <td>...</td>\n",
       "      <td>0</td>\n",
       "      <td>-0.1590</td>\n",
       "      <td>0.3789</td>\n",
       "      <td>1.3933</td>\n",
       "      <td>-0.2344</td>\n",
       "      <td>1.4386</td>\n",
       "      <td>32</td>\n",
       "      <td>2014</td>\n",
       "      <td>2014</td>\n",
       "      <td>0</td>\n",
       "    </tr>\n",
       "    <tr>\n",
       "      <th>28</th>\n",
       "      <td>145000.0</td>\n",
       "      <td>2015-02-01</td>\n",
       "      <td>2015-04-01</td>\n",
       "      <td>telecommunication engineer</td>\n",
       "      <td>Noida</td>\n",
       "      <td>m</td>\n",
       "      <td>1994-01-20</td>\n",
       "      <td>84.00</td>\n",
       "      <td>cbse</td>\n",
       "      <td>2011</td>\n",
       "      <td>...</td>\n",
       "      <td>0</td>\n",
       "      <td>0.1282</td>\n",
       "      <td>0.7119</td>\n",
       "      <td>1.3933</td>\n",
       "      <td>-0.3612</td>\n",
       "      <td>-0.0943</td>\n",
       "      <td>30</td>\n",
       "      <td>2015</td>\n",
       "      <td>2015</td>\n",
       "      <td>0</td>\n",
       "    </tr>\n",
       "    <tr>\n",
       "      <th>29</th>\n",
       "      <td>220000.0</td>\n",
       "      <td>2014-11-01</td>\n",
       "      <td>2014-04-01</td>\n",
       "      <td>java software engineer</td>\n",
       "      <td>Gurgaon</td>\n",
       "      <td>m</td>\n",
       "      <td>1992-06-11</td>\n",
       "      <td>64.00</td>\n",
       "      <td>cbse</td>\n",
       "      <td>2010</td>\n",
       "      <td>...</td>\n",
       "      <td>0</td>\n",
       "      <td>-3.1994</td>\n",
       "      <td>-1.8393</td>\n",
       "      <td>0.0552</td>\n",
       "      <td>0.0623</td>\n",
       "      <td>-0.7615</td>\n",
       "      <td>32</td>\n",
       "      <td>2014</td>\n",
       "      <td>2014</td>\n",
       "      <td>0</td>\n",
       "    </tr>\n",
       "    <tr>\n",
       "      <th>34</th>\n",
       "      <td>215000.0</td>\n",
       "      <td>2015-01-01</td>\n",
       "      <td>2015-01-01</td>\n",
       "      <td>executive assistant</td>\n",
       "      <td>Bangalore</td>\n",
       "      <td>f</td>\n",
       "      <td>1989-08-30</td>\n",
       "      <td>71.00</td>\n",
       "      <td>cbse</td>\n",
       "      <td>2009</td>\n",
       "      <td>...</td>\n",
       "      <td>0</td>\n",
       "      <td>1.5644</td>\n",
       "      <td>1.0449</td>\n",
       "      <td>0.3174</td>\n",
       "      <td>-1.8824</td>\n",
       "      <td>1.0554</td>\n",
       "      <td>35</td>\n",
       "      <td>2015</td>\n",
       "      <td>2015</td>\n",
       "      <td>0</td>\n",
       "    </tr>\n",
       "    <tr>\n",
       "      <th>39</th>\n",
       "      <td>200000.0</td>\n",
       "      <td>2013-01-01</td>\n",
       "      <td>2013-06-01</td>\n",
       "      <td>management trainee</td>\n",
       "      <td>not mentioned</td>\n",
       "      <td>m</td>\n",
       "      <td>1991-02-28</td>\n",
       "      <td>88.00</td>\n",
       "      <td>kerala state technical education</td>\n",
       "      <td>2008</td>\n",
       "      <td>...</td>\n",
       "      <td>0</td>\n",
       "      <td>0.3941</td>\n",
       "      <td>1.2808</td>\n",
       "      <td>0.2366</td>\n",
       "      <td>-2.1998</td>\n",
       "      <td>-0.4455</td>\n",
       "      <td>33</td>\n",
       "      <td>2013</td>\n",
       "      <td>2013</td>\n",
       "      <td>0</td>\n",
       "    </tr>\n",
       "    <tr>\n",
       "      <th>...</th>\n",
       "      <td>...</td>\n",
       "      <td>...</td>\n",
       "      <td>...</td>\n",
       "      <td>...</td>\n",
       "      <td>...</td>\n",
       "      <td>...</td>\n",
       "      <td>...</td>\n",
       "      <td>...</td>\n",
       "      <td>...</td>\n",
       "      <td>...</td>\n",
       "      <td>...</td>\n",
       "      <td>...</td>\n",
       "      <td>...</td>\n",
       "      <td>...</td>\n",
       "      <td>...</td>\n",
       "      <td>...</td>\n",
       "      <td>...</td>\n",
       "      <td>...</td>\n",
       "      <td>...</td>\n",
       "      <td>...</td>\n",
       "      <td>...</td>\n",
       "    </tr>\n",
       "    <tr>\n",
       "      <th>3976</th>\n",
       "      <td>300000.0</td>\n",
       "      <td>2015-01-01</td>\n",
       "      <td>2015-01-01</td>\n",
       "      <td>graduate engineer trainee</td>\n",
       "      <td>Navi Mumbai</td>\n",
       "      <td>f</td>\n",
       "      <td>1992-09-13</td>\n",
       "      <td>64.20</td>\n",
       "      <td>icse</td>\n",
       "      <td>2010</td>\n",
       "      <td>...</td>\n",
       "      <td>0</td>\n",
       "      <td>0.4155</td>\n",
       "      <td>0.0459</td>\n",
       "      <td>0.0100</td>\n",
       "      <td>0.2727</td>\n",
       "      <td>0.0973</td>\n",
       "      <td>32</td>\n",
       "      <td>2015</td>\n",
       "      <td>2015</td>\n",
       "      <td>0</td>\n",
       "    </tr>\n",
       "    <tr>\n",
       "      <th>3983</th>\n",
       "      <td>315000.0</td>\n",
       "      <td>2015-01-01</td>\n",
       "      <td>2015-01-01</td>\n",
       "      <td>system administrator</td>\n",
       "      <td>Hyderabad</td>\n",
       "      <td>m</td>\n",
       "      <td>1991-06-20</td>\n",
       "      <td>88.10</td>\n",
       "      <td>state board</td>\n",
       "      <td>2009</td>\n",
       "      <td>...</td>\n",
       "      <td>0</td>\n",
       "      <td>-0.1590</td>\n",
       "      <td>0.8784</td>\n",
       "      <td>0.4711</td>\n",
       "      <td>0.2727</td>\n",
       "      <td>0.6721</td>\n",
       "      <td>33</td>\n",
       "      <td>2015</td>\n",
       "      <td>2015</td>\n",
       "      <td>0</td>\n",
       "    </tr>\n",
       "    <tr>\n",
       "      <th>3986</th>\n",
       "      <td>225000.0</td>\n",
       "      <td>2010-01-01</td>\n",
       "      <td>2010-10-01</td>\n",
       "      <td>software test engineer</td>\n",
       "      <td>Bangalore</td>\n",
       "      <td>f</td>\n",
       "      <td>1986-02-28</td>\n",
       "      <td>84.93</td>\n",
       "      <td>maharashtra state board</td>\n",
       "      <td>2004</td>\n",
       "      <td>...</td>\n",
       "      <td>0</td>\n",
       "      <td>-0.1082</td>\n",
       "      <td>1.1248</td>\n",
       "      <td>1.9782</td>\n",
       "      <td>-1.9354</td>\n",
       "      <td>-1.0774</td>\n",
       "      <td>38</td>\n",
       "      <td>2010</td>\n",
       "      <td>2010</td>\n",
       "      <td>0</td>\n",
       "    </tr>\n",
       "    <tr>\n",
       "      <th>3988</th>\n",
       "      <td>200000.0</td>\n",
       "      <td>2013-02-01</td>\n",
       "      <td>2013-07-01</td>\n",
       "      <td>data analyst</td>\n",
       "      <td>Bangalore</td>\n",
       "      <td>f</td>\n",
       "      <td>1991-05-15</td>\n",
       "      <td>74.40</td>\n",
       "      <td>0</td>\n",
       "      <td>2008</td>\n",
       "      <td>...</td>\n",
       "      <td>0</td>\n",
       "      <td>-0.5332</td>\n",
       "      <td>-0.1232</td>\n",
       "      <td>-0.0537</td>\n",
       "      <td>1.3255</td>\n",
       "      <td>0.5024</td>\n",
       "      <td>33</td>\n",
       "      <td>2013</td>\n",
       "      <td>2013</td>\n",
       "      <td>0</td>\n",
       "    </tr>\n",
       "    <tr>\n",
       "      <th>3994</th>\n",
       "      <td>100000.0</td>\n",
       "      <td>2013-07-01</td>\n",
       "      <td>2013-07-01</td>\n",
       "      <td>technical writer</td>\n",
       "      <td>Hyderabad</td>\n",
       "      <td>f</td>\n",
       "      <td>1992-08-27</td>\n",
       "      <td>90.00</td>\n",
       "      <td>state board</td>\n",
       "      <td>2009</td>\n",
       "      <td>...</td>\n",
       "      <td>0</td>\n",
       "      <td>-0.3027</td>\n",
       "      <td>0.8784</td>\n",
       "      <td>0.9322</td>\n",
       "      <td>0.7798</td>\n",
       "      <td>-0.0943</td>\n",
       "      <td>32</td>\n",
       "      <td>2013</td>\n",
       "      <td>2013</td>\n",
       "      <td>0</td>\n",
       "    </tr>\n",
       "  </tbody>\n",
       "</table>\n",
       "<p>484 rows × 38 columns</p>\n",
       "</div>"
      ],
      "text/plain": [
       "        Salary         DOJ         DOL                 Designation  \\\n",
       "18    120000.0  2014-01-01  2014-06-01         data entry operator   \n",
       "28    145000.0  2015-02-01  2015-04-01  telecommunication engineer   \n",
       "29    220000.0  2014-11-01  2014-04-01      java software engineer   \n",
       "34    215000.0  2015-01-01  2015-01-01         executive assistant   \n",
       "39    200000.0  2013-01-01  2013-06-01          management trainee   \n",
       "...        ...         ...         ...                         ...   \n",
       "3976  300000.0  2015-01-01  2015-01-01   graduate engineer trainee   \n",
       "3983  315000.0  2015-01-01  2015-01-01        system administrator   \n",
       "3986  225000.0  2010-01-01  2010-10-01      software test engineer   \n",
       "3988  200000.0  2013-02-01  2013-07-01                data analyst   \n",
       "3994  100000.0  2013-07-01  2013-07-01            technical writer   \n",
       "\n",
       "            JobCity Gender         DOB  10percentage  \\\n",
       "18          Gurgaon      m  1992-12-07         65.00   \n",
       "28            Noida      m  1994-01-20         84.00   \n",
       "29          Gurgaon      m  1992-06-11         64.00   \n",
       "34        Bangalore      f  1989-08-30         71.00   \n",
       "39    not mentioned      m  1991-02-28         88.00   \n",
       "...             ...    ...         ...           ...   \n",
       "3976    Navi Mumbai      f  1992-09-13         64.20   \n",
       "3983      Hyderabad      m  1991-06-20         88.10   \n",
       "3986      Bangalore      f  1986-02-28         84.93   \n",
       "3988      Bangalore      f  1991-05-15         74.40   \n",
       "3994      Hyderabad      f  1992-08-27         90.00   \n",
       "\n",
       "                               10board  12graduation  ...  CivilEngg  \\\n",
       "18                         state board          2008  ...          0   \n",
       "28                                cbse          2011  ...          0   \n",
       "29                                cbse          2010  ...          0   \n",
       "34                                cbse          2009  ...          0   \n",
       "39    kerala state technical education          2008  ...          0   \n",
       "...                                ...           ...  ...        ...   \n",
       "3976                              icse          2010  ...          0   \n",
       "3983                       state board          2009  ...          0   \n",
       "3986           maharashtra state board          2004  ...          0   \n",
       "3988                                 0          2008  ...          0   \n",
       "3994                       state board          2009  ...          0   \n",
       "\n",
       "     conscientiousness  agreeableness extraversion nueroticism  \\\n",
       "18             -0.1590         0.3789       1.3933     -0.2344   \n",
       "28              0.1282         0.7119       1.3933     -0.3612   \n",
       "29             -3.1994        -1.8393       0.0552      0.0623   \n",
       "34              1.5644         1.0449       0.3174     -1.8824   \n",
       "39              0.3941         1.2808       0.2366     -2.1998   \n",
       "...                ...            ...          ...         ...   \n",
       "3976            0.4155         0.0459       0.0100      0.2727   \n",
       "3983           -0.1590         0.8784       0.4711      0.2727   \n",
       "3986           -0.1082         1.1248       1.9782     -1.9354   \n",
       "3988           -0.5332        -0.1232      -0.0537      1.3255   \n",
       "3994           -0.3027         0.8784       0.9322      0.7798   \n",
       "\n",
       "      openess_to_experience age  Joining_year  leaving_year  experience  \n",
       "18                   1.4386  32          2014          2014           0  \n",
       "28                  -0.0943  30          2015          2015           0  \n",
       "29                  -0.7615  32          2014          2014           0  \n",
       "34                   1.0554  35          2015          2015           0  \n",
       "39                  -0.4455  33          2013          2013           0  \n",
       "...                     ...  ..           ...           ...         ...  \n",
       "3976                 0.0973  32          2015          2015           0  \n",
       "3983                 0.6721  33          2015          2015           0  \n",
       "3986                -1.0774  38          2010          2010           0  \n",
       "3988                 0.5024  33          2013          2013           0  \n",
       "3994                -0.0943  32          2013          2013           0  \n",
       "\n",
       "[484 rows x 38 columns]"
      ]
     },
     "execution_count": 131,
     "metadata": {},
     "output_type": "execute_result"
    }
   ],
   "source": [
    "df_[~(df_['Joining_year'] < df_['leaving_year'])]"
   ]
  },
  {
   "cell_type": "code",
   "execution_count": 132,
   "id": "39db153e",
   "metadata": {},
   "outputs": [],
   "source": [
    "df_ = df_.drop(columns={'DOJ','DOL'})"
   ]
  },
  {
   "cell_type": "code",
   "execution_count": 133,
   "id": "2ea87fbe",
   "metadata": {},
   "outputs": [
    {
     "data": {
      "text/html": [
       "<div>\n",
       "<style scoped>\n",
       "    .dataframe tbody tr th:only-of-type {\n",
       "        vertical-align: middle;\n",
       "    }\n",
       "\n",
       "    .dataframe tbody tr th {\n",
       "        vertical-align: top;\n",
       "    }\n",
       "\n",
       "    .dataframe thead th {\n",
       "        text-align: right;\n",
       "    }\n",
       "</style>\n",
       "<table border=\"1\" class=\"dataframe\">\n",
       "  <thead>\n",
       "    <tr style=\"text-align: right;\">\n",
       "      <th></th>\n",
       "      <th>Salary</th>\n",
       "      <th>Designation</th>\n",
       "      <th>JobCity</th>\n",
       "      <th>Gender</th>\n",
       "      <th>DOB</th>\n",
       "      <th>10percentage</th>\n",
       "      <th>10board</th>\n",
       "      <th>12graduation</th>\n",
       "      <th>12percentage</th>\n",
       "      <th>12board</th>\n",
       "      <th>...</th>\n",
       "      <th>CivilEngg</th>\n",
       "      <th>conscientiousness</th>\n",
       "      <th>agreeableness</th>\n",
       "      <th>extraversion</th>\n",
       "      <th>nueroticism</th>\n",
       "      <th>openess_to_experience</th>\n",
       "      <th>age</th>\n",
       "      <th>Joining_year</th>\n",
       "      <th>leaving_year</th>\n",
       "      <th>experience</th>\n",
       "    </tr>\n",
       "  </thead>\n",
       "  <tbody>\n",
       "    <tr>\n",
       "      <th>0</th>\n",
       "      <td>420000.0</td>\n",
       "      <td>senior quality engineer</td>\n",
       "      <td>Bangalore</td>\n",
       "      <td>f</td>\n",
       "      <td>1990-02-19</td>\n",
       "      <td>84.30</td>\n",
       "      <td>board ofsecondary education,ap</td>\n",
       "      <td>2007</td>\n",
       "      <td>95.80</td>\n",
       "      <td>board of intermediate education,ap</td>\n",
       "      <td>...</td>\n",
       "      <td>0</td>\n",
       "      <td>0.9737</td>\n",
       "      <td>0.8128</td>\n",
       "      <td>0.5269</td>\n",
       "      <td>1.35490</td>\n",
       "      <td>-0.4455</td>\n",
       "      <td>34</td>\n",
       "      <td>2012</td>\n",
       "      <td>2015</td>\n",
       "      <td>3</td>\n",
       "    </tr>\n",
       "    <tr>\n",
       "      <th>1</th>\n",
       "      <td>500000.0</td>\n",
       "      <td>assistant manager</td>\n",
       "      <td>Indore</td>\n",
       "      <td>m</td>\n",
       "      <td>1989-10-04</td>\n",
       "      <td>85.40</td>\n",
       "      <td>cbse</td>\n",
       "      <td>2007</td>\n",
       "      <td>85.00</td>\n",
       "      <td>cbse</td>\n",
       "      <td>...</td>\n",
       "      <td>0</td>\n",
       "      <td>-0.7335</td>\n",
       "      <td>0.3789</td>\n",
       "      <td>1.2396</td>\n",
       "      <td>-0.10760</td>\n",
       "      <td>0.8637</td>\n",
       "      <td>35</td>\n",
       "      <td>2013</td>\n",
       "      <td>2015</td>\n",
       "      <td>2</td>\n",
       "    </tr>\n",
       "    <tr>\n",
       "      <th>2</th>\n",
       "      <td>325000.0</td>\n",
       "      <td>systems engineer</td>\n",
       "      <td>Chennai</td>\n",
       "      <td>f</td>\n",
       "      <td>1992-08-03</td>\n",
       "      <td>85.00</td>\n",
       "      <td>cbse</td>\n",
       "      <td>2010</td>\n",
       "      <td>68.20</td>\n",
       "      <td>cbse</td>\n",
       "      <td>...</td>\n",
       "      <td>0</td>\n",
       "      <td>0.2718</td>\n",
       "      <td>1.7109</td>\n",
       "      <td>0.1637</td>\n",
       "      <td>-0.86820</td>\n",
       "      <td>0.6721</td>\n",
       "      <td>32</td>\n",
       "      <td>2014</td>\n",
       "      <td>2015</td>\n",
       "      <td>1</td>\n",
       "    </tr>\n",
       "    <tr>\n",
       "      <th>3</th>\n",
       "      <td>1100000.0</td>\n",
       "      <td>senior software engineer</td>\n",
       "      <td>Gurgaon</td>\n",
       "      <td>m</td>\n",
       "      <td>1989-12-05</td>\n",
       "      <td>85.60</td>\n",
       "      <td>cbse</td>\n",
       "      <td>2007</td>\n",
       "      <td>83.60</td>\n",
       "      <td>cbse</td>\n",
       "      <td>...</td>\n",
       "      <td>0</td>\n",
       "      <td>0.0464</td>\n",
       "      <td>0.3448</td>\n",
       "      <td>-0.3440</td>\n",
       "      <td>-0.40780</td>\n",
       "      <td>-0.9194</td>\n",
       "      <td>35</td>\n",
       "      <td>2011</td>\n",
       "      <td>2015</td>\n",
       "      <td>4</td>\n",
       "    </tr>\n",
       "    <tr>\n",
       "      <th>4</th>\n",
       "      <td>200000.0</td>\n",
       "      <td>get</td>\n",
       "      <td>Manesar</td>\n",
       "      <td>m</td>\n",
       "      <td>1991-02-27</td>\n",
       "      <td>78.00</td>\n",
       "      <td>cbse</td>\n",
       "      <td>2008</td>\n",
       "      <td>76.80</td>\n",
       "      <td>cbse</td>\n",
       "      <td>...</td>\n",
       "      <td>0</td>\n",
       "      <td>-0.8810</td>\n",
       "      <td>-0.2793</td>\n",
       "      <td>-1.0697</td>\n",
       "      <td>0.09163</td>\n",
       "      <td>-0.1295</td>\n",
       "      <td>33</td>\n",
       "      <td>2014</td>\n",
       "      <td>2015</td>\n",
       "      <td>1</td>\n",
       "    </tr>\n",
       "    <tr>\n",
       "      <th>...</th>\n",
       "      <td>...</td>\n",
       "      <td>...</td>\n",
       "      <td>...</td>\n",
       "      <td>...</td>\n",
       "      <td>...</td>\n",
       "      <td>...</td>\n",
       "      <td>...</td>\n",
       "      <td>...</td>\n",
       "      <td>...</td>\n",
       "      <td>...</td>\n",
       "      <td>...</td>\n",
       "      <td>...</td>\n",
       "      <td>...</td>\n",
       "      <td>...</td>\n",
       "      <td>...</td>\n",
       "      <td>...</td>\n",
       "      <td>...</td>\n",
       "      <td>...</td>\n",
       "      <td>...</td>\n",
       "      <td>...</td>\n",
       "      <td>...</td>\n",
       "    </tr>\n",
       "    <tr>\n",
       "      <th>3993</th>\n",
       "      <td>280000.0</td>\n",
       "      <td>software engineer</td>\n",
       "      <td>New Delhi</td>\n",
       "      <td>m</td>\n",
       "      <td>1987-04-15</td>\n",
       "      <td>52.09</td>\n",
       "      <td>cbse</td>\n",
       "      <td>2006</td>\n",
       "      <td>55.50</td>\n",
       "      <td>cbse</td>\n",
       "      <td>...</td>\n",
       "      <td>0</td>\n",
       "      <td>-0.1082</td>\n",
       "      <td>0.3448</td>\n",
       "      <td>0.2366</td>\n",
       "      <td>0.64980</td>\n",
       "      <td>-0.9194</td>\n",
       "      <td>37</td>\n",
       "      <td>2011</td>\n",
       "      <td>2012</td>\n",
       "      <td>1</td>\n",
       "    </tr>\n",
       "    <tr>\n",
       "      <th>3994</th>\n",
       "      <td>100000.0</td>\n",
       "      <td>technical writer</td>\n",
       "      <td>Hyderabad</td>\n",
       "      <td>f</td>\n",
       "      <td>1992-08-27</td>\n",
       "      <td>90.00</td>\n",
       "      <td>state board</td>\n",
       "      <td>2009</td>\n",
       "      <td>93.00</td>\n",
       "      <td>state board</td>\n",
       "      <td>...</td>\n",
       "      <td>0</td>\n",
       "      <td>-0.3027</td>\n",
       "      <td>0.8784</td>\n",
       "      <td>0.9322</td>\n",
       "      <td>0.77980</td>\n",
       "      <td>-0.0943</td>\n",
       "      <td>32</td>\n",
       "      <td>2013</td>\n",
       "      <td>2013</td>\n",
       "      <td>0</td>\n",
       "    </tr>\n",
       "    <tr>\n",
       "      <th>3995</th>\n",
       "      <td>320000.0</td>\n",
       "      <td>associate software engineer</td>\n",
       "      <td>Bangalore</td>\n",
       "      <td>m</td>\n",
       "      <td>1991-07-03</td>\n",
       "      <td>81.86</td>\n",
       "      <td>bse,odisha</td>\n",
       "      <td>2008</td>\n",
       "      <td>65.50</td>\n",
       "      <td>chse,odisha</td>\n",
       "      <td>...</td>\n",
       "      <td>0</td>\n",
       "      <td>-1.5765</td>\n",
       "      <td>-1.5273</td>\n",
       "      <td>-1.5051</td>\n",
       "      <td>-1.31840</td>\n",
       "      <td>-0.7615</td>\n",
       "      <td>33</td>\n",
       "      <td>2013</td>\n",
       "      <td>2015</td>\n",
       "      <td>2</td>\n",
       "    </tr>\n",
       "    <tr>\n",
       "      <th>3996</th>\n",
       "      <td>200000.0</td>\n",
       "      <td>software developer</td>\n",
       "      <td>Asifabadbanglore</td>\n",
       "      <td>f</td>\n",
       "      <td>1992-03-20</td>\n",
       "      <td>78.72</td>\n",
       "      <td>state board</td>\n",
       "      <td>2010</td>\n",
       "      <td>69.88</td>\n",
       "      <td>state board</td>\n",
       "      <td>...</td>\n",
       "      <td>0</td>\n",
       "      <td>-0.1590</td>\n",
       "      <td>0.0459</td>\n",
       "      <td>-0.4511</td>\n",
       "      <td>-0.36120</td>\n",
       "      <td>-0.0943</td>\n",
       "      <td>32</td>\n",
       "      <td>2014</td>\n",
       "      <td>2015</td>\n",
       "      <td>1</td>\n",
       "    </tr>\n",
       "    <tr>\n",
       "      <th>3997</th>\n",
       "      <td>400000.0</td>\n",
       "      <td>senior systems engineer</td>\n",
       "      <td>Chennai</td>\n",
       "      <td>f</td>\n",
       "      <td>1991-02-26</td>\n",
       "      <td>70.60</td>\n",
       "      <td>cbse</td>\n",
       "      <td>2008</td>\n",
       "      <td>68.00</td>\n",
       "      <td>cbse</td>\n",
       "      <td>...</td>\n",
       "      <td>0</td>\n",
       "      <td>-1.1128</td>\n",
       "      <td>-0.2793</td>\n",
       "      <td>-0.6343</td>\n",
       "      <td>1.32553</td>\n",
       "      <td>-0.6035</td>\n",
       "      <td>33</td>\n",
       "      <td>2013</td>\n",
       "      <td>2015</td>\n",
       "      <td>2</td>\n",
       "    </tr>\n",
       "  </tbody>\n",
       "</table>\n",
       "<p>3998 rows × 36 columns</p>\n",
       "</div>"
      ],
      "text/plain": [
       "         Salary                  Designation           JobCity Gender  \\\n",
       "0      420000.0      senior quality engineer         Bangalore      f   \n",
       "1      500000.0            assistant manager            Indore      m   \n",
       "2      325000.0             systems engineer           Chennai      f   \n",
       "3     1100000.0     senior software engineer           Gurgaon      m   \n",
       "4      200000.0                          get           Manesar      m   \n",
       "...         ...                          ...               ...    ...   \n",
       "3993   280000.0            software engineer        New Delhi       m   \n",
       "3994   100000.0             technical writer         Hyderabad      f   \n",
       "3995   320000.0  associate software engineer         Bangalore      m   \n",
       "3996   200000.0           software developer  Asifabadbanglore      f   \n",
       "3997   400000.0      senior systems engineer           Chennai      f   \n",
       "\n",
       "             DOB  10percentage                         10board  12graduation  \\\n",
       "0     1990-02-19         84.30  board ofsecondary education,ap          2007   \n",
       "1     1989-10-04         85.40                            cbse          2007   \n",
       "2     1992-08-03         85.00                            cbse          2010   \n",
       "3     1989-12-05         85.60                            cbse          2007   \n",
       "4     1991-02-27         78.00                            cbse          2008   \n",
       "...          ...           ...                             ...           ...   \n",
       "3993  1987-04-15         52.09                            cbse          2006   \n",
       "3994  1992-08-27         90.00                     state board          2009   \n",
       "3995  1991-07-03         81.86                      bse,odisha          2008   \n",
       "3996  1992-03-20         78.72                     state board          2010   \n",
       "3997  1991-02-26         70.60                            cbse          2008   \n",
       "\n",
       "      12percentage                             12board  ...  CivilEngg  \\\n",
       "0            95.80  board of intermediate education,ap  ...          0   \n",
       "1            85.00                                cbse  ...          0   \n",
       "2            68.20                                cbse  ...          0   \n",
       "3            83.60                                cbse  ...          0   \n",
       "4            76.80                                cbse  ...          0   \n",
       "...            ...                                 ...  ...        ...   \n",
       "3993         55.50                                cbse  ...          0   \n",
       "3994         93.00                         state board  ...          0   \n",
       "3995         65.50                         chse,odisha  ...          0   \n",
       "3996         69.88                         state board  ...          0   \n",
       "3997         68.00                                cbse  ...          0   \n",
       "\n",
       "     conscientiousness agreeableness  extraversion nueroticism  \\\n",
       "0               0.9737        0.8128        0.5269     1.35490   \n",
       "1              -0.7335        0.3789        1.2396    -0.10760   \n",
       "2               0.2718        1.7109        0.1637    -0.86820   \n",
       "3               0.0464        0.3448       -0.3440    -0.40780   \n",
       "4              -0.8810       -0.2793       -1.0697     0.09163   \n",
       "...                ...           ...           ...         ...   \n",
       "3993           -0.1082        0.3448        0.2366     0.64980   \n",
       "3994           -0.3027        0.8784        0.9322     0.77980   \n",
       "3995           -1.5765       -1.5273       -1.5051    -1.31840   \n",
       "3996           -0.1590        0.0459       -0.4511    -0.36120   \n",
       "3997           -1.1128       -0.2793       -0.6343     1.32553   \n",
       "\n",
       "      openess_to_experience  age  Joining_year  leaving_year  experience  \n",
       "0                   -0.4455   34          2012          2015           3  \n",
       "1                    0.8637   35          2013          2015           2  \n",
       "2                    0.6721   32          2014          2015           1  \n",
       "3                   -0.9194   35          2011          2015           4  \n",
       "4                   -0.1295   33          2014          2015           1  \n",
       "...                     ...  ...           ...           ...         ...  \n",
       "3993                -0.9194   37          2011          2012           1  \n",
       "3994                -0.0943   32          2013          2013           0  \n",
       "3995                -0.7615   33          2013          2015           2  \n",
       "3996                -0.0943   32          2014          2015           1  \n",
       "3997                -0.6035   33          2013          2015           2  \n",
       "\n",
       "[3998 rows x 36 columns]"
      ]
     },
     "execution_count": 133,
     "metadata": {},
     "output_type": "execute_result"
    }
   ],
   "source": [
    "df_"
   ]
  },
  {
   "cell_type": "code",
   "execution_count": 134,
   "id": "d62cf6f4",
   "metadata": {},
   "outputs": [],
   "source": [
    "df_['JobCity'] =df_['JobCity'].replace({'Banglore':'Bangalore'})"
   ]
  },
  {
   "cell_type": "code",
   "execution_count": 135,
   "id": "a06e83af",
   "metadata": {},
   "outputs": [
    {
     "data": {
      "text/plain": [
       "338"
      ]
     },
     "execution_count": 135,
     "metadata": {},
     "output_type": "execute_result"
    }
   ],
   "source": [
    "df_['JobCity'].nunique()"
   ]
  },
  {
   "cell_type": "code",
   "execution_count": 136,
   "id": "a99efb35",
   "metadata": {},
   "outputs": [],
   "source": [
    "lst =[]\n",
    "for data in df_['JobCity']:\n",
    "    if \"Bang\" in data:\n",
    "        lst.append(data)"
   ]
  },
  {
   "cell_type": "code",
   "execution_count": 137,
   "id": "55dcb1a0",
   "metadata": {},
   "outputs": [
    {
     "data": {
      "text/plain": [
       "{'Bangalore', 'Bangalore ', 'Banglore ', 'Chennai, Bangalore'}"
      ]
     },
     "execution_count": 137,
     "metadata": {},
     "output_type": "execute_result"
    }
   ],
   "source": [
    "set(lst)"
   ]
  },
  {
   "cell_type": "code",
   "execution_count": 138,
   "id": "a1798d4e",
   "metadata": {},
   "outputs": [],
   "source": [
    "df_['JobCity'] =df_['JobCity'].replace({'Bangalore ':'Bangalore','Banglore ':'Bangalore','Chennai, Bangalore':'Bangalore'})"
   ]
  },
  {
   "cell_type": "code",
   "execution_count": 139,
   "id": "48b1d371",
   "metadata": {},
   "outputs": [
    {
     "data": {
      "text/plain": [
       "array(['Bangalore', 'Indore', 'Chennai', 'Gurgaon', 'Manesar',\n",
       "       'Hyderabad', 'Noida', 'Kolkata', 'Pune', 'not mentioned', 'mohali',\n",
       "       'Jhansi', 'Delhi', 'Hyderabad ', 'noida', 'delhi', 'Bhubaneswar',\n",
       "       'Navi Mumbai', 'Mumbai', 'New Delhi', 'Mangalore', 'Rewari',\n",
       "       'Gaziabaad', 'Bhiwadi', 'Mysore', 'Rajkot', 'Greater Noida',\n",
       "       'Jaipur', 'noida ', 'HYDERABAD', 'mysore', 'THANE', 'Maharajganj',\n",
       "       'Thiruvananthapuram', 'Punchkula', 'Bhubaneshwar', 'Pune ',\n",
       "       'coimbatore', 'Dhanbad', 'Lucknow', 'Trivandrum', 'kolkata',\n",
       "       'mumbai', 'Gandhi Nagar', 'Una', 'Daman and Diu', 'chennai',\n",
       "       'GURGOAN', 'vsakhapttnam', 'pune', 'Nagpur', 'Bhagalpur',\n",
       "       'new delhi - jaisalmer', 'Coimbatore', 'Ahmedabad', 'Kochi/Cochin',\n",
       "       'Bankura', 'Bengaluru', 'Mysore ', 'Kanpur ', 'jaipur', 'Gurgaon ',\n",
       "       'bangalore', 'CHENNAI', 'Vijayawada', 'Kochi', 'Beawar', 'Alwar',\n",
       "       'NOIDA', 'Greater noida', 'Siliguri ', 'raipur', 'gurgaon',\n",
       "       'Bhopal', 'Faridabad', 'Jodhpur', 'udaipur', 'Muzaffarpur',\n",
       "       'Kolkata`', 'Bulandshahar', 'Haridwar', 'Raigarh', 'Visakhapatnam',\n",
       "       'Jabalpur', 'hyderabad', 'Unnao', 'KOLKATA', 'Thane', 'Aurangabad',\n",
       "       'Belgaum', 'gurgoan', 'Dehradun', 'Rudrapur', 'Jamshedpur',\n",
       "       'vizag', 'Nouda', 'Dharamshala', 'Banagalore', 'Hissar', 'Ranchi',\n",
       "       'BANGALORE', 'Madurai', 'Gurga', 'Chandigarh', 'Australia',\n",
       "       ' Chennai', 'CHEYYAR', 'Mumbai ', 'sonepat', 'Ghaziabad',\n",
       "       'Pantnagar', 'Siliguri', 'mumbai ', 'Jagdalpur', 'Chennai ',\n",
       "       'angul', 'Baroda', ' ariyalur', 'Jowai',\n",
       "       'Kochi/Cochin, Chennai and Coimbatore', 'bhubaneswar', 'Neemrana',\n",
       "       'VIZAG', 'Tirupathi', 'Lucknow ', 'Ahmedabad ', 'Bhubneshwar',\n",
       "       'Noida ', 'pune ', 'Calicut', 'Gandhinagar', 'LUCKNOW', 'Dubai',\n",
       "       'bengaluru', 'MUMBAI', 'Ahmednagar', 'Nashik', 'New delhi',\n",
       "       'Bellary', 'Ludhiana', 'New Delhi ', 'Muzaffarnagar', 'BHOPAL',\n",
       "       'Gurgoan', 'Gagret', 'Indirapuram, Ghaziabad', 'Gwalior',\n",
       "       'new delhi', 'TRIVANDRUM', 'Chennai & Mumbai', 'Rajasthan',\n",
       "       'Sonipat', 'Bareli', 'Kanpur', 'Hospete', 'Miryalaguda', ' mumbai',\n",
       "       'Dharuhera', 'lucknow', 'meerut', 'dehradun', 'Ganjam', 'Hubli',\n",
       "       'bangalore ', 'NAVI MUMBAI', 'ncr', 'Agra', 'Trichy',\n",
       "       'kudankulam ,tarapur', 'Ongole', 'Sambalpur', 'Pondicherry',\n",
       "       'Bundi', 'SADULPUR,RAJGARH,DISTT-CHURU,RAJASTHAN', 'AM', 'Bikaner',\n",
       "       'Vadodara', 'BAngalore', 'india', 'Asansol', 'Tirunelvelli',\n",
       "       'Ernakulam', 'DELHI', 'Bilaspur', 'Chandrapur', 'Nanded',\n",
       "       'Dharmapuri', 'Vandavasi', 'Rohtak', 'trivandrum', 'Nagpur ',\n",
       "       'Udaipur', 'Patna', 'banglore', 'indore', 'Salem', 'Nasikcity',\n",
       "       'Gandhinagar ', 'Technopark, Trivandrum', 'Bharuch', 'Tornagallu',\n",
       "       'Raipur', 'Kolkata ', 'Jaspur', 'Burdwan', 'Bhubaneswar ',\n",
       "       'Shimla', 'ahmedabad', 'Gajiabaad', 'Jammu', 'Shahdol',\n",
       "       'Muvattupuzha', 'Al Jubail,Saudi Arabia', 'Kalmar, Sweden',\n",
       "       'Secunderabad', 'A-64,sec-64,noida', 'Ratnagiri', 'Jhajjar',\n",
       "       'Gulbarga', 'hyderabad(bhadurpally)', 'Nalagarh', 'Chandigarh ',\n",
       "       'Jaipur ', 'Jeddah Saudi Arabia', ' Delhi', 'PATNA', 'SHAHDOL',\n",
       "       'Bhopal ', 'Jamnagar', 'PUNE', 'Tirupati', 'Gonda', 'jamnagar',\n",
       "       'chennai ', 'orissa', 'kharagpur', 'Trivandrum ',\n",
       "       'Navi Mumbai , Hyderabad', 'Joshimath', 'chandigarh', 'Bathinda',\n",
       "       'Johannesburg', 'kala amb ', 'Karnal', 'LONDON', 'Kota',\n",
       "       'Panchkula', 'Baddi HP', 'Nagari', 'Mettur, Tamil Nadu ',\n",
       "       'Durgapur', 'pondi', 'Surat', 'Kurnool', 'kolhapur', 'Madurai ',\n",
       "       'GREATER NOIDA', 'Bhilai', ' Pune', 'hderabad', 'KOTA', 'thane',\n",
       "       'Vizag', 'Bahadurgarh', 'Rayagada, Odisha', 'kakinada', 'GURGAON',\n",
       "       'Varanasi', 'punr', 'Nellore', 'patna', 'Meerut', 'hyderabad ',\n",
       "       'Sahibabad', 'Howrah', 'BHUBANESWAR', 'Trichur', 'Ambala',\n",
       "       'Khopoli', 'keral', 'Roorkee', 'Greater NOIDA', 'Navi mumbai',\n",
       "       'ghaziabad', 'Allahabad', 'Delhi/NCR', 'Panchkula ', 'Ranchi ',\n",
       "       'Jalandhar', 'manesar', 'vapi', 'PILANI', 'muzzafarpur',\n",
       "       'RAS AL KHAIMAH', 'bihar', 'singaruli', 'KANPUR', 'pondy',\n",
       "       'Mohali', 'Phagwara', ' Mumbai', ' bangalore', 'GURAGAON',\n",
       "       'Baripada', 'MEERUT', 'Yamuna Nagar', 'shahibabad', 'sampla',\n",
       "       'Guwahati', 'Rourkela', 'Banaglore', 'Vellore', 'Dausa',\n",
       "       'latur (Maharashtra )', 'NEW DELHI', 'kanpur', 'Mainpuri',\n",
       "       'karnal', 'Dammam', 'Haldia', 'sambalpur', 'RAE BARELI', 'ranchi',\n",
       "       'jAipur', 'BANGLORE', 'Patiala', 'Gorakhpur', 'new dehli',\n",
       "       'BANGALORE ', 'Ambala City', 'Karad', 'Rajpura', 'Pilani',\n",
       "       'haryana', 'Asifabadbanglore'], dtype=object)"
      ]
     },
     "execution_count": 139,
     "metadata": {},
     "output_type": "execute_result"
    }
   ],
   "source": [
    "df_['JobCity'].unique()"
   ]
  },
  {
   "cell_type": "code",
   "execution_count": 140,
   "id": "8eed42a0",
   "metadata": {},
   "outputs": [],
   "source": [
    "lst =[]\n",
    "for data in df_['JobCity']:\n",
    "    if data.startswith('B') or data.startswith(\"b\"):\n",
    "        lst.append(data)"
   ]
  },
  {
   "cell_type": "code",
   "execution_count": 141,
   "id": "7b8319c8",
   "metadata": {},
   "outputs": [
    {
     "data": {
      "text/plain": [
       "{'BANGALORE',\n",
       " 'BANGALORE ',\n",
       " 'BANGLORE',\n",
       " 'BAngalore',\n",
       " 'BHOPAL',\n",
       " 'BHUBANESWAR',\n",
       " 'Baddi HP',\n",
       " 'Bahadurgarh',\n",
       " 'Banagalore',\n",
       " 'Banaglore',\n",
       " 'Bangalore',\n",
       " 'Bankura',\n",
       " 'Bareli',\n",
       " 'Baripada',\n",
       " 'Baroda',\n",
       " 'Bathinda',\n",
       " 'Beawar',\n",
       " 'Belgaum',\n",
       " 'Bellary',\n",
       " 'Bengaluru',\n",
       " 'Bhagalpur',\n",
       " 'Bharuch',\n",
       " 'Bhilai',\n",
       " 'Bhiwadi',\n",
       " 'Bhopal',\n",
       " 'Bhopal ',\n",
       " 'Bhubaneshwar',\n",
       " 'Bhubaneswar',\n",
       " 'Bhubaneswar ',\n",
       " 'Bhubneshwar',\n",
       " 'Bikaner',\n",
       " 'Bilaspur',\n",
       " 'Bulandshahar',\n",
       " 'Bundi',\n",
       " 'Burdwan',\n",
       " 'bangalore',\n",
       " 'bangalore ',\n",
       " 'banglore',\n",
       " 'bengaluru',\n",
       " 'bhubaneswar',\n",
       " 'bihar'}"
      ]
     },
     "execution_count": 141,
     "metadata": {},
     "output_type": "execute_result"
    }
   ],
   "source": [
    "set(lst)"
   ]
  },
  {
   "cell_type": "code",
   "execution_count": 142,
   "id": "af5c6237",
   "metadata": {},
   "outputs": [],
   "source": [
    "df_['JobCity'] = df_['JobCity'].replace({'BANGALORE':'Bangalore',\n",
    "                                              'BANGALORE ':'Bangalore',\n",
    "                                              'BANGLORE':'Bangalore',\n",
    "                                              'BAngalore':'Bangalore',\n",
    "                                              'Banagalore':'Bangalore',\n",
    "                                              'Banaglore':'Bangalore',\n",
    "                                              'Bangalore':'Bangalore',\n",
    "                                              'Bengaluru':'Bangalore',\n",
    "                                              'bangalore':'Bangalore',\n",
    "                                              'bangalore ':'Bangalore',\n",
    "                                              'banglore':'Bangalore',\n",
    "                                              'bengaluru':'Bangalore'})"
   ]
  },
  {
   "cell_type": "code",
   "execution_count": 143,
   "id": "59c1816e",
   "metadata": {},
   "outputs": [],
   "source": [
    "df_['JobCity'] = df_['JobCity'].replace({'BHOPAL':'Bhopal',\n",
    "                                              'Bhopal':'Bhopal',\n",
    "                                              'Bhopal ':'Bhopal',\n",
    "                                              })"
   ]
  },
  {
   "cell_type": "code",
   "execution_count": 144,
   "id": "79f88477",
   "metadata": {},
   "outputs": [],
   "source": [
    "df_['JobCity'] = df_['JobCity'].replace({'BHUBANESWAR':'Bhubaneswar',\n",
    "                                              'Bhubaneshwar':'Bhubaneswar',\n",
    "                                              'Bhubaneswar':'Bhubaneswar',\n",
    "                                              'Bhubaneswar ':'Bhubaneswar',\n",
    "                                              'Bhubneshwar':'Bhubaneswar',\n",
    "                                              'bhubaneswar':'Bhubaneswar'})"
   ]
  },
  {
   "cell_type": "code",
   "execution_count": 145,
   "id": "65d0422c",
   "metadata": {},
   "outputs": [],
   "source": [
    "lst =[]\n",
    "for data in df_['JobCity']:\n",
    "    if data.startswith('B') or data.startswith(\"b\"):\n",
    "        lst.append(data)"
   ]
  },
  {
   "cell_type": "code",
   "execution_count": 146,
   "id": "3e82fad1",
   "metadata": {},
   "outputs": [
    {
     "data": {
      "text/plain": [
       "{'Baddi HP',\n",
       " 'Bahadurgarh',\n",
       " 'Bangalore',\n",
       " 'Bankura',\n",
       " 'Bareli',\n",
       " 'Baripada',\n",
       " 'Baroda',\n",
       " 'Bathinda',\n",
       " 'Beawar',\n",
       " 'Belgaum',\n",
       " 'Bellary',\n",
       " 'Bhagalpur',\n",
       " 'Bharuch',\n",
       " 'Bhilai',\n",
       " 'Bhiwadi',\n",
       " 'Bhopal',\n",
       " 'Bhubaneswar',\n",
       " 'Bikaner',\n",
       " 'Bilaspur',\n",
       " 'Bulandshahar',\n",
       " 'Bundi',\n",
       " 'Burdwan',\n",
       " 'bihar'}"
      ]
     },
     "execution_count": 146,
     "metadata": {},
     "output_type": "execute_result"
    }
   ],
   "source": [
    "set(lst)"
   ]
  },
  {
   "cell_type": "code",
   "execution_count": 147,
   "id": "f54feb22",
   "metadata": {},
   "outputs": [],
   "source": [
    "lst =[]\n",
    "for data in df_['JobCity']:\n",
    "    if data.startswith(\"H\") or data.startswith(\"h\"):\n",
    "        lst.append(data)"
   ]
  },
  {
   "cell_type": "code",
   "execution_count": 148,
   "id": "70bc696b",
   "metadata": {},
   "outputs": [
    {
     "data": {
      "text/plain": [
       "{'HYDERABAD',\n",
       " 'Haldia',\n",
       " 'Haridwar',\n",
       " 'Hissar',\n",
       " 'Hospete',\n",
       " 'Howrah',\n",
       " 'Hubli',\n",
       " 'Hyderabad',\n",
       " 'Hyderabad ',\n",
       " 'haryana',\n",
       " 'hderabad',\n",
       " 'hyderabad',\n",
       " 'hyderabad ',\n",
       " 'hyderabad(bhadurpally)'}"
      ]
     },
     "execution_count": 148,
     "metadata": {},
     "output_type": "execute_result"
    }
   ],
   "source": [
    "set(lst)"
   ]
  },
  {
   "cell_type": "code",
   "execution_count": 149,
   "id": "58525dc3",
   "metadata": {},
   "outputs": [],
   "source": [
    "df_['JobCity'] = df_['JobCity'].replace({'HYDERABAD':'Hyderabad',\n",
    "                                              'Hyderabad ':'Hyderabad',\n",
    "                                              'hderabad':'Hyderabad',\n",
    "                                              'hyderabad':'Hyderabad',\n",
    "                                              'hyderabad ':'Hyderabad',\n",
    "                                              'hyderabad(bhadurpally)':'Hyderabad'})"
   ]
  },
  {
   "cell_type": "code",
   "execution_count": 150,
   "id": "bc58290c",
   "metadata": {},
   "outputs": [],
   "source": [
    "lst = []\n",
    "for data in df_['JobCity'].unique():\n",
    "    if data.startswith(\"mum\") or data.startswith(\"Mum\") or data.startswith(\"MUM\"):\n",
    "        lst.append(data)"
   ]
  },
  {
   "cell_type": "code",
   "execution_count": 151,
   "id": "eeae19f9",
   "metadata": {},
   "outputs": [
    {
     "data": {
      "text/plain": [
       "{'MUMBAI', 'Mumbai', 'Mumbai ', 'mumbai', 'mumbai '}"
      ]
     },
     "execution_count": 151,
     "metadata": {},
     "output_type": "execute_result"
    }
   ],
   "source": [
    "set(lst)"
   ]
  },
  {
   "cell_type": "code",
   "execution_count": 152,
   "id": "71d53814",
   "metadata": {},
   "outputs": [],
   "source": [
    "df_['JobCity'] = df_['JobCity'].replace({'mumbai':'Mumbai',\n",
    "                                              'mumbai ':'Mumbai',\n",
    "                                              'Mumbai ':'Mumbai',\n",
    "                                              'MUMBAI' :'Mumbai' })"
   ]
  },
  {
   "cell_type": "code",
   "execution_count": 153,
   "id": "6f187682",
   "metadata": {},
   "outputs": [
    {
     "data": {
      "text/plain": [
       "{'Indirapuram, Ghaziabad', 'Indore', 'india', 'indore'}"
      ]
     },
     "execution_count": 153,
     "metadata": {},
     "output_type": "execute_result"
    }
   ],
   "source": [
    "lst = []\n",
    "for data in df_['JobCity'].unique():\n",
    "    if data.startswith(\"In\") or data.startswith(\"in\") or data.startswith(\"IN\"):\n",
    "        lst.append(data)\n",
    "        \n",
    "set(lst)"
   ]
  },
  {
   "cell_type": "code",
   "execution_count": 154,
   "id": "f4fc16a2",
   "metadata": {},
   "outputs": [],
   "source": [
    "df_['JobCity'] = df_['JobCity'].replace({'indore':'Indore'})"
   ]
  },
  {
   "cell_type": "code",
   "execution_count": 155,
   "id": "1c2f2102",
   "metadata": {},
   "outputs": [
    {
     "data": {
      "text/plain": [
       "{'CHENNAI', 'Chennai', 'Chennai ', 'Chennai & Mumbai', 'chennai', 'chennai '}"
      ]
     },
     "execution_count": 155,
     "metadata": {},
     "output_type": "execute_result"
    }
   ],
   "source": [
    "lst =[]\n",
    "for data in df_['JobCity'].unique():\n",
    "    if data.startswith(\"chen\") or data.startswith(\"Chen\") or data.startswith(\"CHEN\"):\n",
    "        lst.append(data)\n",
    "set(lst)      "
   ]
  },
  {
   "cell_type": "code",
   "execution_count": 156,
   "id": "e212a23d",
   "metadata": {},
   "outputs": [],
   "source": [
    "df_['JobCity'] = df_['JobCity'].replace({'CHENNAI':'Chennai',\n",
    "                                              'Chennai ':'Chennai',\n",
    "                                              'Chennai & Mumbai':'Chennai',\n",
    "                                              'chennai':'Chennai',\n",
    "                                              'chennai ':'Chennai'})"
   ]
  },
  {
   "cell_type": "code",
   "execution_count": 157,
   "id": "4fb60b48",
   "metadata": {},
   "outputs": [
    {
     "data": {
      "text/plain": [
       "{'GURAGAON',\n",
       " 'GURGAON',\n",
       " 'GURGOAN',\n",
       " 'Gurga',\n",
       " 'Gurgaon',\n",
       " 'Gurgaon ',\n",
       " 'Gurgoan',\n",
       " 'gurgaon',\n",
       " 'gurgoan'}"
      ]
     },
     "execution_count": 157,
     "metadata": {},
     "output_type": "execute_result"
    }
   ],
   "source": [
    "lst = []\n",
    "for data in df_['JobCity'].unique():\n",
    "    if data.startswith(\"Gur\") or data.startswith(\"GUR\") or data.startswith(\"gur\"):\n",
    "        lst.append(data)\n",
    "set(lst)  "
   ]
  },
  {
   "cell_type": "code",
   "execution_count": 158,
   "id": "84a98d5f",
   "metadata": {},
   "outputs": [],
   "source": [
    "df_['JobCity'] = df_['JobCity'].replace({'GURAGAON':'Gurgaon',\n",
    "                                              'GURGAON':'Gurgaon',\n",
    "                                              'GURGOAN':'Gurgaon',\n",
    "                                              'Gurga':'Gurgaon',\n",
    "                                              'Gurgaon ':'Gurgaon',\n",
    "                                              'Gurgoan':'Gurgaon',\n",
    "                                              'gurgaon':'Gurgaon',\n",
    "                                              'gurgoan':'Gurgaon'})"
   ]
  },
  {
   "cell_type": "code",
   "execution_count": 159,
   "id": "619ec1ca",
   "metadata": {},
   "outputs": [
    {
     "data": {
      "text/plain": [
       "{'Greater Noida', 'Noida', 'Noida '}"
      ]
     },
     "execution_count": 159,
     "metadata": {},
     "output_type": "execute_result"
    }
   ],
   "source": [
    "lst = []\n",
    "for data in df_['JobCity'].unique():\n",
    "    if 'Noida' in data:\n",
    "        lst.append(data)\n",
    "set(lst)"
   ]
  },
  {
   "cell_type": "code",
   "execution_count": 160,
   "id": "7fd464c4",
   "metadata": {},
   "outputs": [],
   "source": [
    "df_['JobCity'] = df_['JobCity'].replace({'Greater Noida':'Noida',\n",
    "                                              'Noida ':'Noida'})"
   ]
  },
  {
   "cell_type": "code",
   "execution_count": 161,
   "id": "e09eccda",
   "metadata": {},
   "outputs": [
    {
     "data": {
      "text/plain": [
       "{'NOIDA', 'Noida', 'noida', 'noida '}"
      ]
     },
     "execution_count": 161,
     "metadata": {},
     "output_type": "execute_result"
    }
   ],
   "source": [
    "lst = []\n",
    "for data in df_['JobCity'].unique():\n",
    "    if data.startswith(\"NOI\") or data.startswith(\"Noi\") or data.startswith(\"noi\"):\n",
    "        lst.append(data)\n",
    "set(lst)"
   ]
  },
  {
   "cell_type": "code",
   "execution_count": 162,
   "id": "07048d37",
   "metadata": {},
   "outputs": [],
   "source": [
    "df_['JobCity'] = df_['JobCity'].replace({'NOIDA':'Noida',\n",
    "                                              'noida':'Noida',\n",
    "                                              'noida ':'Noida'})"
   ]
  },
  {
   "cell_type": "code",
   "execution_count": 163,
   "id": "679ba430",
   "metadata": {},
   "outputs": [
    {
     "data": {
      "text/plain": [
       "{'KOLKATA', 'Kolkata', 'Kolkata ', 'Kolkata`', 'kolkata'}"
      ]
     },
     "execution_count": 163,
     "metadata": {},
     "output_type": "execute_result"
    }
   ],
   "source": [
    "lst = []\n",
    "for data in df_['JobCity'].unique():\n",
    "    if data.startswith('KOLK') or data.startswith(\"kolk\") or data.startswith(\"Kolk\"):\n",
    "        lst.append(data)\n",
    "set(lst)   "
   ]
  },
  {
   "cell_type": "code",
   "execution_count": 164,
   "id": "94d05215",
   "metadata": {},
   "outputs": [],
   "source": [
    "df_['JobCity'] = df_['JobCity'].replace({'KOLKATA':'Kolkata',\n",
    "                                              'Kolkata ':'Kolkata',\n",
    "                                              'Kolkata`':'Kolkata',\n",
    "                                              'kolkata':'Kolkata'})"
   ]
  },
  {
   "cell_type": "code",
   "execution_count": 165,
   "id": "a63b8e0d",
   "metadata": {},
   "outputs": [
    {
     "data": {
      "text/plain": [
       "{'PUNE', 'Punchkula', 'Pune', 'Pune ', 'pune', 'pune ', 'punr'}"
      ]
     },
     "execution_count": 165,
     "metadata": {},
     "output_type": "execute_result"
    }
   ],
   "source": [
    "lst = []\n",
    "for data in df_['JobCity'].unique():\n",
    "    if data.startswith('PUN') or data.startswith(\"pun\") or data.startswith(\"Pun\"):\n",
    "        lst.append(data)\n",
    "set(lst)  "
   ]
  },
  {
   "cell_type": "code",
   "execution_count": 166,
   "id": "68806800",
   "metadata": {},
   "outputs": [],
   "source": [
    "df_['JobCity'] = df_['JobCity'].replace({'PUNE':'Pune',\n",
    "                                              'Pune ':'Pune',\n",
    "                                              'pune':'Pune',\n",
    "                                              'pune ':'Pune',\n",
    "                                              'punr':'Pune'})"
   ]
  },
  {
   "cell_type": "code",
   "execution_count": 167,
   "id": "27ba3863",
   "metadata": {},
   "outputs": [
    {
     "data": {
      "text/plain": [
       "{'Mohali', 'mohali'}"
      ]
     },
     "execution_count": 167,
     "metadata": {},
     "output_type": "execute_result"
    }
   ],
   "source": [
    "lst = []\n",
    "for data in df_['JobCity'].unique():\n",
    "    if data.startswith('moha') or data.startswith(\"MOHA\") or data.startswith(\"Moha\"):\n",
    "        lst.append(data)\n",
    "set(lst) "
   ]
  },
  {
   "cell_type": "code",
   "execution_count": 168,
   "id": "4da630ff",
   "metadata": {},
   "outputs": [],
   "source": [
    "df_['JobCity'] = df_['JobCity'].replace({'mohali':'Mohali'})"
   ]
  },
  {
   "cell_type": "code",
   "execution_count": 169,
   "id": "4d3d17a4",
   "metadata": {},
   "outputs": [
    {
     "data": {
      "text/plain": [
       "{'DELHI', 'Delhi', 'Delhi/NCR', 'delhi'}"
      ]
     },
     "execution_count": 169,
     "metadata": {},
     "output_type": "execute_result"
    }
   ],
   "source": [
    "lst = []\n",
    "for data in df_['JobCity'].unique():\n",
    "    if data.startswith('DEL') or data.startswith(\"del\") or data.startswith(\"Del\"):\n",
    "        lst.append(data)\n",
    "set(lst) "
   ]
  },
  {
   "cell_type": "code",
   "execution_count": 170,
   "id": "0f1b2f1a",
   "metadata": {},
   "outputs": [],
   "source": [
    "df_['JobCity'] = df_['JobCity'].replace({'DELHI':'Delhi',\n",
    "                                              'Delhi/NCR':'Delhi',\n",
    "                                              'delhi':'Delhi'})"
   ]
  },
  {
   "cell_type": "code",
   "execution_count": 171,
   "id": "35c1e96c",
   "metadata": {},
   "outputs": [
    {
     "data": {
      "text/plain": [
       "{'Delhi', 'New Delhi', 'New Delhi ', 'New delhi'}"
      ]
     },
     "execution_count": 171,
     "metadata": {},
     "output_type": "execute_result"
    }
   ],
   "source": [
    "lst = []\n",
    "for data in df_['JobCity'].unique():\n",
    "    if data.startswith('DEL') or data.startswith(\"New\") or data.startswith(\"Del\"):\n",
    "        lst.append(data)\n",
    "set(lst) "
   ]
  },
  {
   "cell_type": "code",
   "execution_count": 172,
   "id": "552c6183",
   "metadata": {},
   "outputs": [],
   "source": [
    "df_['JobCity'] = df_['JobCity'].replace({'New Delhi':'Delhi',\n",
    "                                              'New Delhi ':'Delhi',\n",
    "                                              'New delhi':'Delhi'})"
   ]
  },
  {
   "cell_type": "code",
   "execution_count": 173,
   "id": "cc8e98ad",
   "metadata": {},
   "outputs": [
    {
     "data": {
      "text/plain": [
       "{'Jaipur', 'Jaipur ', 'jaipur'}"
      ]
     },
     "execution_count": 173,
     "metadata": {},
     "output_type": "execute_result"
    }
   ],
   "source": [
    "lst = []\n",
    "for data in df_['JobCity'].unique():\n",
    "    if data.startswith('JAI') or data.startswith(\"jai\") or data.startswith(\"Jai\"):\n",
    "        lst.append(data)\n",
    "set(lst) "
   ]
  },
  {
   "cell_type": "code",
   "execution_count": 174,
   "id": "3845ebd0",
   "metadata": {},
   "outputs": [],
   "source": [
    "df_['JobCity'] = df_['JobCity'].replace({'Jaipur ':'Jaipur',\n",
    "                                              'jaipur':'Jaipur'})"
   ]
  },
  {
   "cell_type": "code",
   "execution_count": 175,
   "id": "e3568e05",
   "metadata": {},
   "outputs": [],
   "source": [
    "df_['JobCity'] = df_['JobCity'].replace({'vsakhapttnam':'Visakhapatnam',\n",
    "                                              'new delhi - jaisalmer':'Delhi',\n",
    "                                              'coimbatore':'Coimbatore',\n",
    "                                              'Kochi/Cochin':'Kochi',\n",
    "                                              'Mysore ':'Mysore',\n",
    "                                              'Kanpur ':'Kanpur',\n",
    "                                              'Greater noida':'Noida',\n",
    "                                              'Siliguri ':'Siliguri',\n",
    "                                              'Una':'Unnao',\n",
    "                                              'THANE':'Thane',\n",
    "                                              'Gaziabaad':'Ghaziabaad',\n",
    "                                              'vizag':'Vizag',\n",
    "                                              'Nouda':'Noida',\n",
    "                                              ' Chennai':'Chennai',\n",
    "                                              ' ariyalur':'Ariyalur',\n",
    "                                              'Kochi/Cochin, Chennai and Coimbatore':'Kochi',\n",
    "                                              'VIZAG':'Vizag',\n",
    "                                              'Lucknow ':'Lucknow',\n",
    "                                              'Ahmedabad ':'Ahmedabad'})"
   ]
  },
  {
   "cell_type": "code",
   "execution_count": 176,
   "id": "a35ca736",
   "metadata": {},
   "outputs": [],
   "source": [
    "df_['JobCity'] = df_['JobCity'].replace({'LUCKNOW':'Lucknow',\n",
    "                                              'Indirapuram, Ghaziabad':'Ghaziabad',\n",
    "                                              'new delhi':'Delhi',\n",
    "                                              'TRIVANDRUM':'Trivandrum',\n",
    "                                              ' mumbai':'Mumbai',\n",
    "                                              'lucknow':'Lucknow',\n",
    "                                              'NAVI MUMBAI':'Navi Mumbai',\n",
    "                                              'ncr':'Delhi',\n",
    "                                              'kudankulam ,tarapur':'Kudankulam',\n",
    "                                              'SADULPUR,RAJGARH,DISTT-CHURU,RAJASTHAN':'Sadulpur',\n",
    "                                              'trivandrum':'Trivandrum',\n",
    "                                              'Nagpur ':'Nagpur',\n",
    "                                              'Gandhinagar ':'Gandhinagar',\n",
    "                                              'Technopark, Trivandrum':'Trivandrum',\n",
    "                                              'ahmedabad':'Ahmedabad',\n",
    "                                              'Gajiabaad':'Ghazibad',\n",
    "                                              'Kalmar, Sweden':'Sweden',\n",
    "                                              'A-64,sec-64,noida':'Noida',\n",
    "                                              'Chandigarh ':'Chandigarh',\n",
    "                                              ' Delhi':'Delhi',\n",
    "                                              'Chandigarh ':'Chandigarh',\n",
    "                                              'Tirupathi':'Tirupati',\n",
    "                                              'Trivandrum ':'Trivandrum',\n",
    "                                              'Navi Mumbai , Hyderabad':'Navi Mumbai',\n",
    "                                              'chandigarh':'Chandigarh',\n",
    "                                              'Punchkula':'Panchkula',\n",
    "                                              'Mettur, Tamil Nadu ':'Mettur',\n",
    "                                              'KOTA':'Kota',\n",
    "                                              ' Pune':'Pune',\n",
    "                                              'GREATER NOIDA':'Noida',\n",
    "                                              'thane':'Thane',\n",
    "                                              'Rayagada, Odisha':'Rayagada',\n",
    "                                              'patna':'Patna',\n",
    "                                              'keral':'Kerala',\n",
    "                                              'Greater NOIDA':'Noida',\n",
    "                                              'Navi mumbai':'Navi Mumbai',\n",
    "                                              'ghaziabad':'Ghaziabad',\n",
    "                                              'Panchkula ':'Panchukula',\n",
    "                                              'Ranchi ':'Ranchi',\n",
    "                                              'bihar':'Bihar',\n",
    "                                              'KANPUR':'Kanpur',\n",
    "                                              ' Mumbai':'Mumbai',\n",
    "                                              ' bangalore':'Bangalore',\n",
    "                                              'MEERUT':'Meerut',\n",
    "                                              'latur (Maharashtra )':'Latur',\n",
    "                                              'NEW DELHI':'Delhi',\n",
    "                                              'kanpur':'Kanpur',\n",
    "                                              'jAipur':'Jaipur',\n",
    "                                              'ranchi':'Ranchi',\n",
    "                                              'new dehli':'Delhi',\n",
    "                                              'Asifabadbanglore':'Bangalore'})"
   ]
  },
  {
   "cell_type": "code",
   "execution_count": 177,
   "id": "4ced90b3",
   "metadata": {},
   "outputs": [],
   "source": [
    "df_['JobCity'] = df_['JobCity'].replace({'manesar':'Manesar'})"
   ]
  },
  {
   "cell_type": "code",
   "execution_count": 178,
   "id": "4df5d8e3",
   "metadata": {},
   "outputs": [],
   "source": [
    "df_['JobCity'] = df_['JobCity'].replace({'Gandhi Nagar':'Gandhinagar',\n",
    "                                              'Ghaziabaad':'Ghaziabad',\n",
    "                                              'Ghazibad':'Ghaziabad',\n",
    "                                             'Madurai ':'Madurai',\n",
    "                                              'Panchukula':'Panchkula',\n",
    "                                              'Trichur':'Trichy',\n",
    "                                              'meerut':'Meerut',\n",
    "                                              'muzzafarpur':'Muzaffarpur',\n",
    "                                              'mysore':'Mysore',\n",
    "                                              'orissa':'Orissa',\n",
    "                                              'pondi':'Pondicherry',\n",
    "                                              'pondy':'Pondicherry',\n",
    "                                              'raipur':'Raipur',\n",
    "                                              'sambalpur':'Sambalpur',\n",
    "                                              'sampla':'Sampla',\n",
    "                                              'shahibabad':'Shahibabad',\n",
    "                                              'singaruli':'Singaruli',\n",
    "                                              'sonepat':'Sonepat',\n",
    "                                              'udaipur':'Udaipur',\n",
    "                                              'vapi':'Vapi',\n",
    "                                              'angul':'Angul',\n",
    "                                              'dehradun':'Dehradun',\n",
    "                                              'haryana':'Haryana',\n",
    "                                              'india':'India',\n",
    "                                              'jamnagar':'Jamnagar',\n",
    "                                              'kakinada':'Kakinada',\n",
    "                                              'kala amb ':'Kala Amb',\n",
    "                                              'karnal':'Karnal',\n",
    "                                              'kharagpur':'Kharagpur',\n",
    "                                              'kolhapur':'Kolhapur'})"
   ]
  },
  {
   "cell_type": "code",
   "execution_count": 179,
   "id": "d06d4e4d",
   "metadata": {},
   "outputs": [],
   "source": [
    "df_['JobCity'] = df_['JobCity'].replace({'Nasikcity':'Nashik',\n",
    "                                              'CHEYYAR':'Cheyyar',\n",
    "                                              'Ambala City':'Ambala'})"
   ]
  },
  {
   "cell_type": "code",
   "execution_count": 180,
   "id": "b108f4b0",
   "metadata": {},
   "outputs": [
    {
     "data": {
      "text/plain": [
       "193"
      ]
     },
     "execution_count": 180,
     "metadata": {},
     "output_type": "execute_result"
    }
   ],
   "source": [
    "df_['JobCity'].nunique()"
   ]
  },
  {
   "cell_type": "code",
   "execution_count": 181,
   "id": "bcc36df9",
   "metadata": {},
   "outputs": [
    {
     "data": {
      "text/plain": [
       "<AxesSubplot:xlabel='JobCity'>"
      ]
     },
     "execution_count": 181,
     "metadata": {},
     "output_type": "execute_result"
    },
    {
     "data": {
      "image/png": "[encoded data removed]",
      "text/plain": [
       "<Figure size 432x288 with 1 Axes>"
      ]
     },
     "metadata": {
      "needs_background": "light"
     },
     "output_type": "display_data"
    }
   ],
   "source": [
    "df_['JobCity'].value_counts()[:10].plot(kind=\"bar\")"
   ]
  },
  {
   "cell_type": "code",
   "execution_count": 182,
   "id": "8cb9e3d8",
   "metadata": {},
   "outputs": [
    {
     "data": {
      "text/plain": [
       "Index(['Salary', 'Designation', 'JobCity', 'Gender', 'DOB', '10percentage',\n",
       "       '10board', '12graduation', '12percentage', '12board', 'CollegeTier',\n",
       "       'Degree', 'Specialization', 'collegeGPA', 'CollegeState',\n",
       "       'GraduationYear', 'English', 'Logical', 'Quant', 'Domain',\n",
       "       'ComputerProgramming', 'ElectronicsAndSemicon', 'ComputerScience',\n",
       "       'MechanicalEngg', 'ElectricalEngg', 'TelecomEngg', 'CivilEngg',\n",
       "       'conscientiousness', 'agreeableness', 'extraversion', 'nueroticism',\n",
       "       'openess_to_experience', 'age', 'Joining_year', 'leaving_year',\n",
       "       'experience'],\n",
       "      dtype='object')"
      ]
     },
     "execution_count": 182,
     "metadata": {},
     "output_type": "execute_result"
    }
   ],
   "source": [
    "df_.columns"
   ]
  },
  {
   "cell_type": "code",
   "execution_count": 183,
   "id": "e9875ecc",
   "metadata": {},
   "outputs": [],
   "source": [
    "df_['Designation'] = df_['Designation'].replace({'system engineer':'systems engineer'})"
   ]
  },
  {
   "cell_type": "code",
   "execution_count": 184,
   "id": "29bf8bdc",
   "metadata": {},
   "outputs": [],
   "source": [
    "grouped = df_.groupby('Designation')['Gender']"
   ]
  },
  {
   "cell_type": "code",
   "execution_count": 185,
   "id": "468dd345",
   "metadata": {},
   "outputs": [
    {
     "data": {
      "text/plain": [
       "<AxesSubplot:xlabel='Gender'>"
      ]
     },
     "execution_count": 185,
     "metadata": {},
     "output_type": "execute_result"
    },
    {
     "data": {
      "image/png": "[encoded data removed]",
      "text/plain": [
       "<Figure size 432x288 with 1 Axes>"
      ]
     },
     "metadata": {
      "needs_background": "light"
     },
     "output_type": "display_data"
    }
   ],
   "source": [
    "grouped.get_group('software developer').value_counts().plot(kind=\"bar\")"
   ]
  },
  {
   "cell_type": "code",
   "execution_count": 186,
   "id": "ea63f401",
   "metadata": {},
   "outputs": [],
   "source": [
    "df_['Gender'] = df_['Gender'].replace({'m':'male','f':'female'})"
   ]
  },
  {
   "cell_type": "code",
   "execution_count": 187,
   "id": "08db48e2",
   "metadata": {},
   "outputs": [
    {
     "data": {
      "text/plain": [
       "Designation\n",
       "software engineer         539\n",
       "systems engineer          323\n",
       "software developer        265\n",
       "programmer analyst        139\n",
       "java software engineer    111\n",
       "Name: count, dtype: int64"
      ]
     },
     "execution_count": 187,
     "metadata": {},
     "output_type": "execute_result"
    }
   ],
   "source": [
    "df_['Designation'].value_counts()[:5]"
   ]
  },
  {
   "cell_type": "code",
   "execution_count": 188,
   "id": "a8b856fe",
   "metadata": {},
   "outputs": [
    {
     "data": {
      "text/plain": [
       "<AxesSubplot:xlabel='Gender'>"
      ]
     },
     "execution_count": 188,
     "metadata": {},
     "output_type": "execute_result"
    },
    {
     "data": {
      "image/png": "[encoded data removed]",
      "text/plain": [
       "<Figure size 432x288 with 1 Axes>"
      ]
     },
     "metadata": {
      "needs_background": "light"
     },
     "output_type": "display_data"
    }
   ],
   "source": [
    "grouped.get_group('software engineer').value_counts().plot(kind=\"bar\")"
   ]
  },
  {
   "cell_type": "code",
   "execution_count": 189,
   "id": "72c688c2",
   "metadata": {},
   "outputs": [
    {
     "data": {
      "text/plain": [
       "<AxesSubplot:xlabel='Gender'>"
      ]
     },
     "execution_count": 189,
     "metadata": {},
     "output_type": "execute_result"
    },
    {
     "data": {
      "image/png": "[encoded data removed]",
      "text/plain": [
       "<Figure size 432x288 with 1 Axes>"
      ]
     },
     "metadata": {
      "needs_background": "light"
     },
     "output_type": "display_data"
    }
   ],
   "source": [
    "grouped.get_group('systems engineer').value_counts().plot(kind=\"bar\")"
   ]
  },
  {
   "cell_type": "code",
   "execution_count": 190,
   "id": "7b5f20db",
   "metadata": {},
   "outputs": [
    {
     "data": {
      "text/plain": [
       "<AxesSubplot:xlabel='Gender'>"
      ]
     },
     "execution_count": 190,
     "metadata": {},
     "output_type": "execute_result"
    },
    {
     "data": {
      "image/png": "[encoded data removed]",
      "text/plain": [
       "<Figure size 432x288 with 1 Axes>"
      ]
     },
     "metadata": {
      "needs_background": "light"
     },
     "output_type": "display_data"
    }
   ],
   "source": [
    "grouped.get_group('programmer analyst').value_counts().plot(kind=\"bar\")"
   ]
  },
  {
   "cell_type": "code",
   "execution_count": 191,
   "id": "f091b174",
   "metadata": {},
   "outputs": [
    {
     "data": {
      "text/plain": [
       "<AxesSubplot:xlabel='Gender'>"
      ]
     },
     "execution_count": 191,
     "metadata": {},
     "output_type": "execute_result"
    },
    {
     "data": {
      "image/png": "[encoded data removed]",
      "text/plain": [
       "<Figure size 432x288 with 1 Axes>"
      ]
     },
     "metadata": {
      "needs_background": "light"
     },
     "output_type": "display_data"
    }
   ],
   "source": [
    "grouped.get_group('java software engineer').value_counts().plot(kind=\"bar\")"
   ]
  },
  {
   "cell_type": "code",
   "execution_count": 192,
   "id": "cebcda58",
   "metadata": {},
   "outputs": [
    {
     "name": "stdout",
     "output_type": "stream",
     "text": [
      "<class 'pandas.core.frame.DataFrame'>\n",
      "RangeIndex: 3998 entries, 0 to 3997\n",
      "Data columns (total 36 columns):\n",
      " #   Column                 Non-Null Count  Dtype  \n",
      "---  ------                 --------------  -----  \n",
      " 0   Salary                 3998 non-null   float64\n",
      " 1   Designation            3998 non-null   object \n",
      " 2   JobCity                3998 non-null   object \n",
      " 3   Gender                 3998 non-null   object \n",
      " 4   DOB                    3998 non-null   object \n",
      " 5   10percentage           3998 non-null   float64\n",
      " 6   10board                3998 non-null   object \n",
      " 7   12graduation           3998 non-null   int64  \n",
      " 8   12percentage           3998 non-null   float64\n",
      " 9   12board                3998 non-null   object \n",
      " 10  CollegeTier            3998 non-null   int64  \n",
      " 11  Degree                 3998 non-null   object \n",
      " 12  Specialization         3998 non-null   object \n",
      " 13  collegeGPA             3998 non-null   float64\n",
      " 14  CollegeState           3998 non-null   object \n",
      " 15  GraduationYear         3998 non-null   int64  \n",
      " 16  English                3998 non-null   int64  \n",
      " 17  Logical                3998 non-null   int64  \n",
      " 18  Quant                  3998 non-null   int64  \n",
      " 19  Domain                 3998 non-null   float64\n",
      " 20  ComputerProgramming    3998 non-null   int64  \n",
      " 21  ElectronicsAndSemicon  3998 non-null   int64  \n",
      " 22  ComputerScience        3998 non-null   int64  \n",
      " 23  MechanicalEngg         3998 non-null   int64  \n",
      " 24  ElectricalEngg         3998 non-null   int64  \n",
      " 25  TelecomEngg            3998 non-null   int64  \n",
      " 26  CivilEngg              3998 non-null   int64  \n",
      " 27  conscientiousness      3998 non-null   float64\n",
      " 28  agreeableness          3998 non-null   float64\n",
      " 29  extraversion           3998 non-null   float64\n",
      " 30  nueroticism            3998 non-null   float64\n",
      " 31  openess_to_experience  3998 non-null   float64\n",
      " 32  age                    3998 non-null   int64  \n",
      " 33  Joining_year           3998 non-null   int64  \n",
      " 34  leaving_year           3998 non-null   int64  \n",
      " 35  experience             3998 non-null   int64  \n",
      "dtypes: float64(10), int64(17), object(9)\n",
      "memory usage: 1.1+ MB\n"
     ]
    }
   ],
   "source": [
    "df_.info()"
   ]
  },
  {
   "cell_type": "code",
   "execution_count": 193,
   "id": "a6730977",
   "metadata": {},
   "outputs": [
    {
     "data": {
      "text/plain": [
       "10board\n",
       "cbse                          1395\n",
       "state board                   1164\n",
       "0                              350\n",
       "icse                           281\n",
       "ssc                            122\n",
       "                              ... \n",
       "hse,orissa                       1\n",
       "national public school           1\n",
       "nagpur board                     1\n",
       "jharkhand academic council       1\n",
       "bse,odisha                       1\n",
       "Name: count, Length: 275, dtype: int64"
      ]
     },
     "execution_count": 193,
     "metadata": {},
     "output_type": "execute_result"
    }
   ],
   "source": [
    "df_['10board'].value_counts()"
   ]
  },
  {
   "cell_type": "code",
   "execution_count": 194,
   "id": "2c2ee5d5",
   "metadata": {},
   "outputs": [],
   "source": [
    "df_['10board'] = df_['10board'].replace({'0':'others'})"
   ]
  },
  {
   "cell_type": "code",
   "execution_count": 195,
   "id": "ee97fe5c",
   "metadata": {},
   "outputs": [
    {
     "data": {
      "text/plain": [
       "{'aisse',\n",
       " 'andhra pradesh board ssc',\n",
       " 'andhra pradesh state board',\n",
       " 'anglo indian',\n",
       " 'ap state board',\n",
       " 'ap state board for secondary education',\n",
       " 'apsche',\n",
       " 'apssc',\n",
       " 'aurangabad board',\n",
       " 'bharathi matriculation school',\n",
       " 'bihar',\n",
       " 'bihar board',\n",
       " 'bihar examination board, patna',\n",
       " 'bihar school examination board',\n",
       " 'bihar school examination board patna',\n",
       " 'bihar secondary education board,patna',\n",
       " 'biharboard',\n",
       " 'board of  secondary education',\n",
       " 'board of high school and intermediate education uttarpradesh',\n",
       " 'board of intermediate education',\n",
       " 'board of school education harayana',\n",
       " 'board of school education haryana',\n",
       " 'board of school education uttarakhand',\n",
       " 'board of secendary education orissa',\n",
       " 'board of secondaray education',\n",
       " 'board of secondary education',\n",
       " 'board of secondary education (bse) orissa',\n",
       " 'board of secondary education - andhra pradesh',\n",
       " 'board of secondary education orissa',\n",
       " 'board of secondary education rajasthan',\n",
       " 'board of secondary education(bse) orissa',\n",
       " 'board of secondary education, andhra pradesh',\n",
       " 'board of secondary education, rajasthan',\n",
       " 'board of secondary education,andhara pradesh',\n",
       " 'board of secondary education,andhra pradesh',\n",
       " 'board of secondary education,ap',\n",
       " 'board of secondary education,odisha',\n",
       " 'board of secondary education,orissa',\n",
       " 'board of secondary education,rajasthan(rbse)',\n",
       " 'board of secondary school education',\n",
       " 'board of ssc',\n",
       " 'board of ssc education andhra pradesh',\n",
       " 'board ofsecondary education,ap',\n",
       " 'board secondary  education',\n",
       " 'bright way college, (up board)',\n",
       " 'bsc,orissa',\n",
       " 'bse',\n",
       " 'bse(board of secondary education)',\n",
       " 'bse, odisha',\n",
       " 'bse,odisha',\n",
       " 'bse,orissa',\n",
       " 'bseb',\n",
       " 'bseb ,patna',\n",
       " 'bseb patna',\n",
       " 'bseb, patna',\n",
       " 'bseb,patna',\n",
       " 'bsemp',\n",
       " 'bsepatna',\n",
       " 'cbsc',\n",
       " 'cbse',\n",
       " 'cbse ',\n",
       " 'cbse board',\n",
       " 'cbse[gulf zone]',\n",
       " 'central board of secondary education',\n",
       " 'central board of secondary education, new delhi',\n",
       " 'certificate of middle years program of ib',\n",
       " 'cgbse',\n",
       " 'cgbse raipur',\n",
       " 'cicse',\n",
       " 'cluny',\n",
       " 'council for indian school certificate examination',\n",
       " 'dav public school sec 14',\n",
       " 'dav public school,hehal',\n",
       " 'delhi board',\n",
       " 'delhi public school',\n",
       " 'don bosco maatriculation school',\n",
       " 'education board of kerala',\n",
       " 'ghseb',\n",
       " 'gseb',\n",
       " 'gsheb',\n",
       " 'gujarat board',\n",
       " 'gujarat state board',\n",
       " 'gyan bharati school',\n",
       " 'haryana board of school education',\n",
       " 'haryana board of school education,(hbse)',\n",
       " 'hbsc',\n",
       " 'hbse',\n",
       " 'himachal pradesh board',\n",
       " 'himachal pradesh board of school education',\n",
       " 'holy cross matriculation hr sec school',\n",
       " 'hsc',\n",
       " 'hsce',\n",
       " 'hse',\n",
       " 'hse,board',\n",
       " 'hse,orissa',\n",
       " 'icse',\n",
       " 'icse board',\n",
       " 'icse board , new delhi',\n",
       " 'j & k bord',\n",
       " 'j&k state board of school education',\n",
       " 'jawahar navodaya vidyalaya',\n",
       " 'jbse,jharkhand',\n",
       " 'jharkhand academic council',\n",
       " 'jharkhand accademic council',\n",
       " 'jharkhand acedemic council',\n",
       " 'jharkhand secondary board',\n",
       " 'jharkhand secondary education board',\n",
       " 'jharkhand secondary examination board (ranchi)',\n",
       " 'jharkhand secondary examination board,ranchi',\n",
       " 'jkbose',\n",
       " 'jseb',\n",
       " 'kalaimagal matriculation higher secondary school',\n",
       " 'karantaka secondary education and examination borad',\n",
       " 'karnataka',\n",
       " 'karnataka board',\n",
       " 'karnataka board of higher education',\n",
       " 'karnataka board of secondary education',\n",
       " 'karnataka education board',\n",
       " 'karnataka education board (keeb)',\n",
       " 'karnataka secondary board',\n",
       " 'karnataka secondary education',\n",
       " 'karnataka secondary education board',\n",
       " 'karnataka secondary education examination board',\n",
       " 'karnataka secondary eduction',\n",
       " 'karnataka secondary school of examination',\n",
       " 'karnataka secondory education board',\n",
       " 'karnataka sslc board bangalore',\n",
       " 'karnataka state board',\n",
       " 'karnataka state education examination board',\n",
       " 'karnataka state examination board',\n",
       " 'karnataka state secondary education board',\n",
       " 'kea',\n",
       " 'kerala',\n",
       " 'kerala state board',\n",
       " 'kerala state technical education',\n",
       " 'kerala university',\n",
       " 'kiran english medium high school',\n",
       " 'kolhapur',\n",
       " 'kolhapur divisional board, maharashtra',\n",
       " 'ksbe',\n",
       " 'kseb',\n",
       " 'kseeb',\n",
       " 'kseeb(karnataka secondary education examination board)',\n",
       " 'ksseb',\n",
       " 'ksseb(karnataka state board)',\n",
       " 'latur',\n",
       " 'latur board',\n",
       " 'little jacky matric higher secondary school',\n",
       " 'madhya pradesh board',\n",
       " 'maharashtra',\n",
       " 'maharashtra board',\n",
       " 'maharashtra board, pune',\n",
       " 'maharashtra nasik board',\n",
       " 'maharashtra satate board',\n",
       " 'maharashtra sate board',\n",
       " 'maharashtra state boar of secondary and higher secondary education',\n",
       " 'maharashtra state board',\n",
       " 'maharashtra state board for ssc',\n",
       " 'maharashtra state board mumbai divisional board',\n",
       " 'maharashtra state board of secondary & higher secondary education',\n",
       " 'maharashtra state board of secondary and higher secondary education',\n",
       " 'maharashtra state board of secondary and higher secondary education,pune',\n",
       " 'maharashtra state board pune',\n",
       " 'maharashtra state board,pune',\n",
       " 'maharashtra state(latur board)',\n",
       " 'maharastra board',\n",
       " 'maticulation',\n",
       " 'matric',\n",
       " 'matric board',\n",
       " 'matriculation',\n",
       " 'matriculation board',\n",
       " 'metric',\n",
       " 'mhsbse',\n",
       " 'mirza ahmed ali baig',\n",
       " 'mp',\n",
       " 'mp board',\n",
       " 'mp board bhopal',\n",
       " 'mp state board',\n",
       " 'mp-bse',\n",
       " 'mpboard',\n",
       " 'mpbse',\n",
       " 'ms board',\n",
       " 'msbshse,pune',\n",
       " 'mumbai board',\n",
       " 'nagpur',\n",
       " 'nagpur board',\n",
       " 'nagpur board,nagpur',\n",
       " 'nagpur divisional board',\n",
       " 'nashik board',\n",
       " 'nasik',\n",
       " 'national public school',\n",
       " 'others',\n",
       " 'pseb',\n",
       " 'pune',\n",
       " 'pune board',\n",
       " 'punjab school education board, mohali',\n",
       " 'rajasthan board',\n",
       " 'rajasthan board ajmer',\n",
       " 'rajasthan board of secondary education',\n",
       " 'rbse',\n",
       " 'rbse (state board)',\n",
       " 'rbse,ajmer',\n",
       " 'sarada high scchool',\n",
       " 'school secondary education, andhra pradesh',\n",
       " 'seba',\n",
       " 'seba(assam)',\n",
       " 'secondary board of rajasthan',\n",
       " 'secondary education board of rajasthan',\n",
       " 'secondary school cerfificate',\n",
       " 'secondary school certificate',\n",
       " 'secondary school education',\n",
       " 'secondary school of education',\n",
       " 'secondary state certificate',\n",
       " 'sri kannika parameswari highier secondary school, udumalpet',\n",
       " 'ssc',\n",
       " 'ssc board of andrapradesh',\n",
       " 'ssc maharashtra board',\n",
       " 'ssc regular',\n",
       " 'ssc-andhra pradesh',\n",
       " 'sslc',\n",
       " 'sslc board',\n",
       " 'sslc,karnataka',\n",
       " 'sss pune',\n",
       " 'state',\n",
       " 'state board',\n",
       " 'state board ',\n",
       " 'state board (jac, ranchi)',\n",
       " 'state board - west bengal board of secondary education : wbbse',\n",
       " 'state board of karnataka',\n",
       " 'state board of secondary education( ssc)',\n",
       " 'state board of secondary education, andhra pradesh',\n",
       " 'state board of secondary education, ap',\n",
       " 'state board of secondary education,andhra pradesh',\n",
       " 'state boardmp board ',\n",
       " 'state borad hp',\n",
       " 'state bord',\n",
       " 'state(karnataka board)',\n",
       " 'stateboard',\n",
       " 'stjoseph of cluny matrhrsecschool,neyveli,cuddalore district',\n",
       " 'stjosephs girls higher sec school,dindigul',\n",
       " 'stmary higher secondary',\n",
       " \"stmary's convent inter college\",\n",
       " 'tamil nadu state',\n",
       " 'tamilnadu matriculation board',\n",
       " 'tamilnadu state board',\n",
       " 'tn state board',\n",
       " 'u p',\n",
       " 'u p board',\n",
       " 'ua',\n",
       " 'up',\n",
       " 'up baord',\n",
       " 'up board',\n",
       " 'up board , allahabad',\n",
       " 'up board allahabad',\n",
       " 'up board,allahabad',\n",
       " 'up borad',\n",
       " 'up bord',\n",
       " 'up bourd',\n",
       " 'up(allahabad)',\n",
       " 'up-board',\n",
       " 'upbhsie',\n",
       " 'upboard',\n",
       " 'uttar pradesh',\n",
       " 'uttar pradesh board',\n",
       " 'uttarakhand board',\n",
       " 'uttaranchal shiksha avam pariksha parishad',\n",
       " 'uttaranchal state board',\n",
       " 'uttrakhand board',\n",
       " 'uttranchal board',\n",
       " 'wbbsce',\n",
       " 'wbbse',\n",
       " 'west bengal  board of secondary education',\n",
       " 'west bengal board of secondary education',\n",
       " 'west bengal board of secondary eucation',\n",
       " 'west bengal board of secondary examination (wbbse)'}"
      ]
     },
     "execution_count": 195,
     "metadata": {},
     "output_type": "execute_result"
    }
   ],
   "source": [
    "set(df_['10board'].unique())"
   ]
  },
  {
   "cell_type": "code",
   "execution_count": 196,
   "id": "5a9c7fea",
   "metadata": {},
   "outputs": [],
   "source": [
    "for data in df_['10board'].unique():\n",
    "    if \"state\" in data.lower():\n",
    "        df_.loc[df_['10board']==data,'10board'] = \"state board\""
   ]
  },
  {
   "cell_type": "code",
   "execution_count": 197,
   "id": "c15ec215",
   "metadata": {},
   "outputs": [
    {
     "data": {
      "text/plain": [
       "10board\n",
       "cbse                                                            1395\n",
       "state board                                                     1240\n",
       "others                                                           350\n",
       "icse                                                             281\n",
       "ssc                                                              122\n",
       "                                                                ... \n",
       "stjoseph of cluny matrhrsecschool,neyveli,cuddalore district       1\n",
       "hse,orissa                                                         1\n",
       "national public school                                             1\n",
       "nagpur board                                                       1\n",
       "bse,odisha                                                         1\n",
       "Name: count, Length: 232, dtype: int64"
      ]
     },
     "execution_count": 197,
     "metadata": {},
     "output_type": "execute_result"
    }
   ],
   "source": [
    "df_['10board'].value_counts()"
   ]
  },
  {
   "cell_type": "code",
   "execution_count": 198,
   "id": "7e453ff3",
   "metadata": {},
   "outputs": [],
   "source": [
    "for data in df_['10board'].unique():\n",
    "    if \"board\" in data.lower():\n",
    "        df_.loc[df_['10board']==data,'10board'] = \"state board\""
   ]
  },
  {
   "cell_type": "code",
   "execution_count": 199,
   "id": "a3a9343c",
   "metadata": {},
   "outputs": [
    {
     "data": {
      "text/plain": [
       "10board\n",
       "state board           1551\n",
       "cbse                  1395\n",
       "others                 350\n",
       "icse                   281\n",
       "ssc                    122\n",
       "                      ... \n",
       "mhsbse                   1\n",
       "ssc-andhra pradesh       1\n",
       "up borad                 1\n",
       "bsepatna                 1\n",
       "bse,odisha               1\n",
       "Name: count, Length: 121, dtype: int64"
      ]
     },
     "execution_count": 199,
     "metadata": {},
     "output_type": "execute_result"
    }
   ],
   "source": [
    "df_['10board'].value_counts()"
   ]
  },
  {
   "cell_type": "code",
   "execution_count": 200,
   "id": "9d28dd4a",
   "metadata": {},
   "outputs": [],
   "source": [
    "for data in df_['10board'].unique():\n",
    "    if \"ssc\" in data.lower():\n",
    "        df_.loc[df_['10board']==data,'10board'] = \"state board\""
   ]
  },
  {
   "cell_type": "code",
   "execution_count": 201,
   "id": "64fe2da8",
   "metadata": {},
   "outputs": [
    {
     "data": {
      "text/plain": [
       "<AxesSubplot:xlabel='10board'>"
      ]
     },
     "execution_count": 201,
     "metadata": {},
     "output_type": "execute_result"
    },
    {
     "data": {
      "image/png": "[encoded data removed]",
      "text/plain": [
       "<Figure size 432x288 with 1 Axes>"
      ]
     },
     "metadata": {
      "needs_background": "light"
     },
     "output_type": "display_data"
    }
   ],
   "source": [
    "df_['10board'].value_counts()[:5].plot(kind=\"bar\")"
   ]
  },
  {
   "cell_type": "code",
   "execution_count": 202,
   "id": "5f8fe033",
   "metadata": {},
   "outputs": [],
   "source": [
    "group = df_.groupby('10board')['Salary']"
   ]
  },
  {
   "cell_type": "code",
   "execution_count": 203,
   "id": "19e42c04",
   "metadata": {},
   "outputs": [
    {
     "data": {
      "text/plain": [
       "2300000.0"
      ]
     },
     "execution_count": 203,
     "metadata": {},
     "output_type": "execute_result"
    }
   ],
   "source": [
    "group.get_group('state board').max()"
   ]
  },
  {
   "cell_type": "code",
   "execution_count": 204,
   "id": "5543f5fe",
   "metadata": {},
   "outputs": [
    {
     "data": {
      "text/plain": [
       "35000.0"
      ]
     },
     "execution_count": 204,
     "metadata": {},
     "output_type": "execute_result"
    }
   ],
   "source": [
    "group.get_group('state board').min()"
   ]
  },
  {
   "cell_type": "code",
   "execution_count": 205,
   "id": "2b72875e",
   "metadata": {},
   "outputs": [
    {
     "data": {
      "text/plain": [
       "3000000.0"
      ]
     },
     "execution_count": 205,
     "metadata": {},
     "output_type": "execute_result"
    }
   ],
   "source": [
    "group.get_group('cbse').max()"
   ]
  },
  {
   "cell_type": "code",
   "execution_count": 206,
   "id": "cf501688",
   "metadata": {},
   "outputs": [
    {
     "data": {
      "text/plain": [
       "40000.0"
      ]
     },
     "execution_count": 206,
     "metadata": {},
     "output_type": "execute_result"
    }
   ],
   "source": [
    "group.get_group('cbse').min()"
   ]
  },
  {
   "cell_type": "code",
   "execution_count": 207,
   "id": "3fd6adc7",
   "metadata": {},
   "outputs": [
    {
     "data": {
      "text/plain": [
       "<AxesSubplot:>"
      ]
     },
     "execution_count": 207,
     "metadata": {},
     "output_type": "execute_result"
    },
    {
     "data": {
      "image/png": "[encoded data removed]",
      "text/plain": [
       "<Figure size 432x288 with 1 Axes>"
      ]
     },
     "metadata": {
      "needs_background": "light"
     },
     "output_type": "display_data"
    }
   ],
   "source": [
    "df_['Salary'].plot(kind=\"box\")"
   ]
  },
  {
   "cell_type": "code",
   "execution_count": 208,
   "id": "dc2af36a",
   "metadata": {},
   "outputs": [],
   "source": [
    "df_1 = np.log(df_['Salary'])"
   ]
  },
  {
   "cell_type": "code",
   "execution_count": 209,
   "id": "fb422bbc",
   "metadata": {},
   "outputs": [
    {
     "data": {
      "text/plain": [
       "<AxesSubplot:>"
      ]
     },
     "execution_count": 209,
     "metadata": {},
     "output_type": "execute_result"
    },
    {
     "data": {
      "image/png": "[encoded data removed]",
      "text/plain": [
       "<Figure size 432x288 with 1 Axes>"
      ]
     },
     "metadata": {
      "needs_background": "light"
     },
     "output_type": "display_data"
    }
   ],
   "source": [
    "df_1.plot(kind=\"box\")"
   ]
  },
  {
   "cell_type": "code",
   "execution_count": 210,
   "id": "a348bea3",
   "metadata": {},
   "outputs": [
    {
     "data": {
      "text/plain": [
       "<AxesSubplot:ylabel='Density'>"
      ]
     },
     "execution_count": 210,
     "metadata": {},
     "output_type": "execute_result"
    },
    {
     "data": {
      "image/png": "[encoded data removed]",
      "text/plain": [
       "<Figure size 432x288 with 1 Axes>"
      ]
     },
     "metadata": {
      "needs_background": "light"
     },
     "output_type": "display_data"
    }
   ],
   "source": [
    "df_1.plot(kind=\"kde\")"
   ]
  },
  {
   "cell_type": "code",
   "execution_count": 211,
   "id": "54ba1038",
   "metadata": {},
   "outputs": [
    {
     "data": {
      "text/plain": [
       "<AxesSubplot:ylabel='Density'>"
      ]
     },
     "execution_count": 211,
     "metadata": {},
     "output_type": "execute_result"
    },
    {
     "data": {
      "image/png": "[encoded data removed]",
      "text/plain": [
       "<Figure size 432x288 with 1 Axes>"
      ]
     },
     "metadata": {
      "needs_background": "light"
     },
     "output_type": "display_data"
    }
   ],
   "source": [
    "df_['Salary'].plot(kind=\"kde\")"
   ]
  },
  {
   "cell_type": "code",
   "execution_count": 212,
   "id": "6d6c4255",
   "metadata": {},
   "outputs": [
    {
     "data": {
      "text/plain": [
       "<AxesSubplot:ylabel='Frequency'>"
      ]
     },
     "execution_count": 212,
     "metadata": {},
     "output_type": "execute_result"
    },
    {
     "data": {
      "image/png": "[encoded data removed]",
      "text/plain": [
       "<Figure size 432x288 with 1 Axes>"
      ]
     },
     "metadata": {
      "needs_background": "light"
     },
     "output_type": "display_data"
    }
   ],
   "source": [
    "df_['Salary'].plot(kind=\"hist\")"
   ]
  },
  {
   "cell_type": "code",
   "execution_count": 213,
   "id": "c9cbb069",
   "metadata": {},
   "outputs": [
    {
     "data": {
      "text/plain": [
       "<AxesSubplot:xlabel='Gender', ylabel='Salary'>"
      ]
     },
     "execution_count": 213,
     "metadata": {},
     "output_type": "execute_result"
    },
    {
     "data": {
      "image/png": "[encoded data removed]",
      "text/plain": [
       "<Figure size 432x288 with 1 Axes>"
      ]
     },
     "metadata": {
      "needs_background": "light"
     },
     "output_type": "display_data"
    }
   ],
   "source": [
    "sns.boxenplot(data = df_,x=\"Gender\", y=\"Salary\",hue=\"Gender\")"
   ]
  },
  {
   "cell_type": "code",
   "execution_count": 214,
   "id": "13420ab7",
   "metadata": {},
   "outputs": [
    {
     "data": {
      "text/plain": [
       "2.7347396489635094"
      ]
     },
     "execution_count": 214,
     "metadata": {},
     "output_type": "execute_result"
    }
   ],
   "source": [
    "df_['experience'].skew()"
   ]
  },
  {
   "cell_type": "code",
   "execution_count": 215,
   "id": "fc74e144",
   "metadata": {},
   "outputs": [
    {
     "data": {
      "text/plain": [
       "<AxesSubplot:ylabel='Density'>"
      ]
     },
     "execution_count": 215,
     "metadata": {},
     "output_type": "execute_result"
    },
    {
     "data": {
      "image/png": "[encoded data removed]",
      "text/plain": [
       "<Figure size 432x288 with 1 Axes>"
      ]
     },
     "metadata": {
      "needs_background": "light"
     },
     "output_type": "display_data"
    }
   ],
   "source": [
    "df_['experience'].plot(kind=\"kde\")"
   ]
  },
  {
   "cell_type": "code",
   "execution_count": 216,
   "id": "3f7bdbf4",
   "metadata": {},
   "outputs": [
    {
     "data": {
      "text/plain": [
       "experience\n",
       "1     1946\n",
       "2      879\n",
       "0      484\n",
       "3      420\n",
       "4      202\n",
       "5       63\n",
       "9        1\n",
       "6        1\n",
       "24       1\n",
       "8        1\n",
       "Name: count, dtype: int64"
      ]
     },
     "execution_count": 216,
     "metadata": {},
     "output_type": "execute_result"
    }
   ],
   "source": [
    "df_['experience'].value_counts()"
   ]
  },
  {
   "cell_type": "code",
   "execution_count": 217,
   "id": "810768a0",
   "metadata": {},
   "outputs": [
    {
     "data": {
      "text/plain": [
       "<AxesSubplot:xlabel='experience', ylabel='Salary'>"
      ]
     },
     "execution_count": 217,
     "metadata": {},
     "output_type": "execute_result"
    },
    {
     "data": {
      "image/png": "[encoded data removed]",
      "text/plain": [
       "<Figure size 432x288 with 1 Axes>"
      ]
     },
     "metadata": {
      "needs_background": "light"
     },
     "output_type": "display_data"
    }
   ],
   "source": [
    "sns.scatterplot(data=df_,x=\"experience\",y=\"Salary\",hue=\"Gender\")"
   ]
  },
  {
   "cell_type": "code",
   "execution_count": 218,
   "id": "1fcc6f31",
   "metadata": {},
   "outputs": [
    {
     "data": {
      "text/plain": [
       "12board\n",
       "cbse                                1400\n",
       "state board                         1254\n",
       "0                                    359\n",
       "icse                                 129\n",
       "up board                              87\n",
       "                                    ... \n",
       "jawahar higher secondary school        1\n",
       "nagpur board                           1\n",
       "bsemp                                  1\n",
       "board of higher secondary orissa       1\n",
       "boardofintermediate                    1\n",
       "Name: count, Length: 340, dtype: int64"
      ]
     },
     "execution_count": 218,
     "metadata": {},
     "output_type": "execute_result"
    }
   ],
   "source": [
    "df_['12board'].value_counts()"
   ]
  },
  {
   "cell_type": "code",
   "execution_count": 219,
   "id": "2e40f31b",
   "metadata": {},
   "outputs": [],
   "source": [
    "for data in df_['12board'].unique():\n",
    "    if \"state\" in data.lower():\n",
    "        df_.loc[df_['12board']==data,'12board']=\"state board\""
   ]
  },
  {
   "cell_type": "code",
   "execution_count": 220,
   "id": "8b1255de",
   "metadata": {},
   "outputs": [
    {
     "data": {
      "text/plain": [
       "12board\n",
       "cbse                                                            1400\n",
       "state board                                                     1331\n",
       "0                                                                359\n",
       "icse                                                             129\n",
       "up board                                                          87\n",
       "                                                                ... \n",
       "matric board                                                       1\n",
       "andhpradesh board of intermediate education                        1\n",
       "stjoseph of cluny matrhrsecschool,neyveli,cuddalore district       1\n",
       "scte and vt ,orissa                                                1\n",
       "boardofintermediate                                                1\n",
       "Name: count, Length: 294, dtype: int64"
      ]
     },
     "execution_count": 220,
     "metadata": {},
     "output_type": "execute_result"
    }
   ],
   "source": [
    "df_['12board'].value_counts()"
   ]
  },
  {
   "cell_type": "code",
   "execution_count": 221,
   "id": "18a3f15d",
   "metadata": {},
   "outputs": [],
   "source": [
    "for data in df_['12board'].unique():\n",
    "    if \"board\" in data.lower():\n",
    "        df_.loc[df_['12board']==data,'12board']=\"state board\""
   ]
  },
  {
   "cell_type": "code",
   "execution_count": 222,
   "id": "d55cd3c0",
   "metadata": {},
   "outputs": [
    {
     "data": {
      "text/plain": [
       "12board\n",
       "state board                                                        1701\n",
       "cbse                                                               1400\n",
       "0                                                                   359\n",
       "icse                                                                129\n",
       "isc                                                                  45\n",
       "                                                                   ... \n",
       "department of pre-university education(government of karnataka)       1\n",
       "mbose                                                                 1\n",
       "stmiras college for girls                                             1\n",
       "department of pre-university education, bangalore                     1\n",
       "karnataka pu                                                          1\n",
       "Name: count, Length: 170, dtype: int64"
      ]
     },
     "execution_count": 222,
     "metadata": {},
     "output_type": "execute_result"
    }
   ],
   "source": [
    "df_['12board'].value_counts()"
   ]
  },
  {
   "cell_type": "code",
   "execution_count": 223,
   "id": "bba9d6eb",
   "metadata": {},
   "outputs": [
    {
     "data": {
      "text/plain": [
       "Index(['Salary', 'Designation', 'JobCity', 'Gender', 'DOB', '10percentage',\n",
       "       '10board', '12graduation', '12percentage', '12board', 'CollegeTier',\n",
       "       'Degree', 'Specialization', 'collegeGPA', 'CollegeState',\n",
       "       'GraduationYear', 'English', 'Logical', 'Quant', 'Domain',\n",
       "       'ComputerProgramming', 'ElectronicsAndSemicon', 'ComputerScience',\n",
       "       'MechanicalEngg', 'ElectricalEngg', 'TelecomEngg', 'CivilEngg',\n",
       "       'conscientiousness', 'agreeableness', 'extraversion', 'nueroticism',\n",
       "       'openess_to_experience', 'age', 'Joining_year', 'leaving_year',\n",
       "       'experience'],\n",
       "      dtype='object')"
      ]
     },
     "execution_count": 223,
     "metadata": {},
     "output_type": "execute_result"
    }
   ],
   "source": [
    "df_.columns"
   ]
  },
  {
   "cell_type": "code",
   "execution_count": 224,
   "id": "bdf51bc8",
   "metadata": {},
   "outputs": [
    {
     "data": {
      "text/plain": [
       "CollegeTier\n",
       "2    3701\n",
       "1     297\n",
       "Name: count, dtype: int64"
      ]
     },
     "execution_count": 224,
     "metadata": {},
     "output_type": "execute_result"
    }
   ],
   "source": [
    "df_['CollegeTier'].value_counts()"
   ]
  },
  {
   "cell_type": "code",
   "execution_count": 225,
   "id": "29492889",
   "metadata": {},
   "outputs": [
    {
     "data": {
      "text/plain": [
       "<AxesSubplot:xlabel='CollegeTier', ylabel='Salary'>"
      ]
     },
     "execution_count": 225,
     "metadata": {},
     "output_type": "execute_result"
    },
    {
     "data": {
      "image/png": "[encoded data removed]",
      "text/plain": [
       "<Figure size 432x288 with 1 Axes>"
      ]
     },
     "metadata": {
      "needs_background": "light"
     },
     "output_type": "display_data"
    }
   ],
   "source": [
    "sns.boxenplot(data=df_,x=\"CollegeTier\",y=\"Salary\",hue=\"Gender\")"
   ]
  },
  {
   "cell_type": "code",
   "execution_count": 226,
   "id": "d4091b58",
   "metadata": {},
   "outputs": [
    {
     "name": "stderr",
     "output_type": "stream",
     "text": [
      "C:\\Users\\dell\\anaconda3\\lib\\site-packages\\seaborn\\_base.py:949: FutureWarning: When grouping with a length-1 list-like, you will need to pass a length-1 tuple to get_group in a future version of pandas. Pass `(name,)` instead of `name` to silence this warning.\n",
      "  data_subset = grouped_data.get_group(pd_key)\n",
      "C:\\Users\\dell\\anaconda3\\lib\\site-packages\\seaborn\\categorical.py:640: FutureWarning: SeriesGroupBy.grouper is deprecated and will be removed in a future version of pandas.\n",
      "  positions = grouped.grouper.result_index.to_numpy(dtype=float)\n",
      "C:\\Users\\dell\\anaconda3\\lib\\site-packages\\seaborn\\_base.py:949: FutureWarning: When grouping with a length-1 list-like, you will need to pass a length-1 tuple to get_group in a future version of pandas. Pass `(name,)` instead of `name` to silence this warning.\n",
      "  data_subset = grouped_data.get_group(pd_key)\n",
      "C:\\Users\\dell\\anaconda3\\lib\\site-packages\\seaborn\\categorical.py:640: FutureWarning: SeriesGroupBy.grouper is deprecated and will be removed in a future version of pandas.\n",
      "  positions = grouped.grouper.result_index.to_numpy(dtype=float)\n"
     ]
    },
    {
     "data": {
      "text/plain": [
       "<AxesSubplot:xlabel='CollegeTier', ylabel='Salary'>"
      ]
     },
     "execution_count": 226,
     "metadata": {},
     "output_type": "execute_result"
    },
    {
     "data": {
      "image/png": "[encoded data removed]",
      "text/plain": [
       "<Figure size 432x288 with 1 Axes>"
      ]
     },
     "metadata": {
      "needs_background": "light"
     },
     "output_type": "display_data"
    }
   ],
   "source": [
    "sns.boxplot(data=df_,x=\"CollegeTier\",y=\"Salary\",hue=\"Gender\")"
   ]
  },
  {
   "cell_type": "code",
   "execution_count": 227,
   "id": "6818fab2",
   "metadata": {},
   "outputs": [
    {
     "data": {
      "text/plain": [
       "<AxesSubplot:xlabel='GraduationYear'>"
      ]
     },
     "execution_count": 227,
     "metadata": {},
     "output_type": "execute_result"
    },
    {
     "data": {
      "image/png": "[encoded data removed]",
      "text/plain": [
       "<Figure size 432x288 with 1 Axes>"
      ]
     },
     "metadata": {
      "needs_background": "light"
     },
     "output_type": "display_data"
    }
   ],
   "source": [
    "df_['GraduationYear'].value_counts(ascending=False).plot(kind=\"bar\")"
   ]
  },
  {
   "cell_type": "code",
   "execution_count": 228,
   "id": "c51a17cd",
   "metadata": {},
   "outputs": [
    {
     "data": {
      "text/plain": [
       "ComputerProgramming\n",
       "0      868\n",
       "445    151\n",
       "435    144\n",
       "475    139\n",
       "465    134\n",
       "      ... \n",
       "214      1\n",
       "494      1\n",
       "840      1\n",
       "394      1\n",
       "554      1\n",
       "Name: count, Length: 79, dtype: int64"
      ]
     },
     "execution_count": 228,
     "metadata": {},
     "output_type": "execute_result"
    }
   ],
   "source": [
    "df_['ComputerProgramming'].value_counts()"
   ]
  },
  {
   "cell_type": "code",
   "execution_count": 229,
   "id": "dd603abe",
   "metadata": {},
   "outputs": [
    {
     "data": {
      "text/plain": [
       "10board\n",
       "state board      1676\n",
       "cbse             1395\n",
       "others            350\n",
       "icse              281\n",
       "matriculation      38\n",
       "                 ... \n",
       "mhsbse              1\n",
       "up borad            1\n",
       "bsepatna            1\n",
       "cluny               1\n",
       "bse,odisha          1\n",
       "Name: count, Length: 117, dtype: int64"
      ]
     },
     "execution_count": 229,
     "metadata": {},
     "output_type": "execute_result"
    }
   ],
   "source": [
    "df_['10board'].value_counts()"
   ]
  },
  {
   "cell_type": "code",
   "execution_count": 230,
   "id": "d25feaf6",
   "metadata": {},
   "outputs": [],
   "source": [
    "for data in df_['10board'].unique():\n",
    "    if \"cbse\" in data.lower():\n",
    "        df_.loc[df_['10board']==data,\"10board\"]=\"cbse\""
   ]
  },
  {
   "cell_type": "code",
   "execution_count": 231,
   "id": "ceb95fa5",
   "metadata": {},
   "outputs": [],
   "source": [
    "for data in df_['10board'].unique():\n",
    "    if \"icse\" in data.lower():\n",
    "        df_.loc[df_['10board']==data,\"10board\"]=\"icse\""
   ]
  },
  {
   "cell_type": "code",
   "execution_count": 232,
   "id": "77451196",
   "metadata": {},
   "outputs": [
    {
     "name": "stdout",
     "output_type": "stream",
     "text": [
      "\n",
      "\n",
      "\n"
     ]
    }
   ],
   "source": [
    "for data in df_['10board'].unique():\n",
    "    if \"cbse\"  in data.lower():\n",
    "        print()\n",
    "    elif \"icse\" in data.lower():\n",
    "        print()\n",
    "    elif \"board\" in data.lower():\n",
    "        print()\n",
    "    else:\n",
    "        df_.loc[df_['10board']==data,\"10board\"]=\"state board\""
   ]
  },
  {
   "cell_type": "code",
   "execution_count": null,
   "id": "57b8a460",
   "metadata": {},
   "outputs": [],
   "source": []
  },
  {
   "cell_type": "code",
   "execution_count": null,
   "id": "0a17af26",
   "metadata": {},
   "outputs": [],
   "source": []
  },
  {
   "cell_type": "code",
   "execution_count": null,
   "id": "22e239e1",
   "metadata": {},
   "outputs": [],
   "source": []
  },
  {
   "cell_type": "code",
   "execution_count": 233,
   "id": "bf463ff6",
   "metadata": {},
   "outputs": [
    {
     "data": {
      "text/plain": [
       "<AxesSubplot:xlabel='10board'>"
      ]
     },
     "execution_count": 233,
     "metadata": {},
     "output_type": "execute_result"
    },
    {
     "data": {
      "image/png": "[encoded data removed]",
      "text/plain": [
       "<Figure size 432x288 with 1 Axes>"
      ]
     },
     "metadata": {
      "needs_background": "light"
     },
     "output_type": "display_data"
    }
   ],
   "source": [
    "df_['10board'].value_counts().plot(kind=\"bar\")"
   ]
  },
  {
   "cell_type": "code",
   "execution_count": 234,
   "id": "8a7e982b",
   "metadata": {},
   "outputs": [],
   "source": [
    "for data in df_['Specialization'].unique():\n",
    "    if \"computer\" in data.lower():\n",
    "        df_.loc[df_['Specialization']==data,\"Specialization\"]=\"CSE\""
   ]
  },
  {
   "cell_type": "code",
   "execution_count": 235,
   "id": "891b393d",
   "metadata": {},
   "outputs": [
    {
     "data": {
      "text/plain": [
       "Specialization\n",
       "CSE                                            1601\n",
       "electronics and communication engineering       880\n",
       "information technology                          660\n",
       "mechanical engineering                          201\n",
       "electronics and electrical engineering          196\n",
       "electronics & telecommunications                121\n",
       "electrical engineering                           82\n",
       "electronics & instrumentation eng                32\n",
       "civil engineering                                29\n",
       "electronics and instrumentation engineering      27\n",
       "information science engineering                  27\n",
       "instrumentation and control engineering          20\n",
       "electronics engineering                          19\n",
       "biotechnology                                    15\n",
       "other                                            13\n",
       "industrial & production engineering              10\n",
       "chemical engineering                              9\n",
       "applied electronics and instrumentation           9\n",
       "telecommunication engineering                     6\n",
       "mechanical and automation                         5\n",
       "automobile/automotive engineering                 5\n",
       "mechatronics                                      4\n",
       "instrumentation engineering                       4\n",
       "aeronautical engineering                          3\n",
       "metallurgical engineering                         2\n",
       "biomedical engineering                            2\n",
       "electrical and power engineering                  2\n",
       "information & communication technology            2\n",
       "industrial engineering                            2\n",
       "industrial & management engineering               1\n",
       "internal combustion engine                        1\n",
       "information science                               1\n",
       "mechanical & production engineering               1\n",
       "power systems and automation                      1\n",
       "ceramic engineering                               1\n",
       "polymer technology                                1\n",
       "embedded systems technology                       1\n",
       "control and instrumentation engineering           1\n",
       "electronics                                       1\n",
       "Name: count, dtype: int64"
      ]
     },
     "execution_count": 235,
     "metadata": {},
     "output_type": "execute_result"
    }
   ],
   "source": [
    "df_['Specialization'].value_counts()"
   ]
  },
  {
   "cell_type": "code",
   "execution_count": 236,
   "id": "8cfcae48",
   "metadata": {},
   "outputs": [],
   "source": [
    "for data in df_['Specialization'].unique():\n",
    "    if \"electronics\" in data.lower():\n",
    "        df_.loc[df_['Specialization']==data,\"Specialization\"]=\"ECE\""
   ]
  },
  {
   "cell_type": "code",
   "execution_count": 237,
   "id": "65ba9220",
   "metadata": {},
   "outputs": [],
   "source": [
    "for data in df_['Specialization'].unique():\n",
    "    if \"information\" in data.lower():\n",
    "        df_.loc[df_['Specialization']==data,\"Specialization\"]=\"IT\""
   ]
  },
  {
   "cell_type": "code",
   "execution_count": 238,
   "id": "f3e8bbc1",
   "metadata": {},
   "outputs": [],
   "source": [
    "for data in df_['Specialization'].unique():\n",
    "    if \"mechanical\" in data.lower():\n",
    "        #print(data)\n",
    "        df_.loc[df_['Specialization']==data,\"Specialization\"]=\"MECH\""
   ]
  },
  {
   "cell_type": "code",
   "execution_count": 239,
   "id": "55b731a0",
   "metadata": {},
   "outputs": [],
   "source": [
    "#industrial\n",
    "for data in df_['Specialization'].unique():\n",
    "    if \"industrial\" in data.lower():\n",
    "        #print(data)\n",
    "        df_.loc[df_['Specialization']==data,\"Specialization\"]=\"MECH\""
   ]
  },
  {
   "cell_type": "code",
   "execution_count": 240,
   "id": "d327b85e",
   "metadata": {},
   "outputs": [],
   "source": [
    "#electrical\n",
    "for data in df_['Specialization'].unique():\n",
    "    if \"electrical\" in data.lower():\n",
    "        df_.loc[df_['Specialization']==data,\"Specialization\"]=\"EEE\""
   ]
  },
  {
   "cell_type": "code",
   "execution_count": 241,
   "id": "9ebcb721",
   "metadata": {},
   "outputs": [],
   "source": [
    "for data in df_['Specialization'].unique():\n",
    "    if \"telecommunication\" in data.lower():\n",
    "        df_.loc[df_['Specialization']==data,\"Specialization\"]=\"ECE\""
   ]
  },
  {
   "cell_type": "code",
   "execution_count": 245,
   "id": "59325d8e",
   "metadata": {},
   "outputs": [],
   "source": [
    "amcat_score = df_[['English','Logical', 'Quant','ComputerProgramming', 'ElectronicsAndSemicon', 'ComputerScience','MechanicalEngg', 'ElectricalEngg', 'TelecomEngg', 'CivilEngg']]"
   ]
  },
  {
   "cell_type": "code",
   "execution_count": 246,
   "id": "7ddd4101",
   "metadata": {},
   "outputs": [
    {
     "data": {
      "text/html": [
       "<div>\n",
       "<style scoped>\n",
       "    .dataframe tbody tr th:only-of-type {\n",
       "        vertical-align: middle;\n",
       "    }\n",
       "\n",
       "    .dataframe tbody tr th {\n",
       "        vertical-align: top;\n",
       "    }\n",
       "\n",
       "    .dataframe thead th {\n",
       "        text-align: right;\n",
       "    }\n",
       "</style>\n",
       "<table border=\"1\" class=\"dataframe\">\n",
       "  <thead>\n",
       "    <tr style=\"text-align: right;\">\n",
       "      <th></th>\n",
       "      <th>English</th>\n",
       "      <th>Logical</th>\n",
       "      <th>Quant</th>\n",
       "      <th>ComputerProgramming</th>\n",
       "      <th>ElectronicsAndSemicon</th>\n",
       "      <th>ComputerScience</th>\n",
       "      <th>MechanicalEngg</th>\n",
       "      <th>ElectricalEngg</th>\n",
       "      <th>TelecomEngg</th>\n",
       "      <th>CivilEngg</th>\n",
       "    </tr>\n",
       "  </thead>\n",
       "  <tbody>\n",
       "    <tr>\n",
       "      <th>0</th>\n",
       "      <td>515</td>\n",
       "      <td>585</td>\n",
       "      <td>525</td>\n",
       "      <td>445</td>\n",
       "      <td>0</td>\n",
       "      <td>0</td>\n",
       "      <td>0</td>\n",
       "      <td>0</td>\n",
       "      <td>0</td>\n",
       "      <td>0</td>\n",
       "    </tr>\n",
       "    <tr>\n",
       "      <th>1</th>\n",
       "      <td>695</td>\n",
       "      <td>610</td>\n",
       "      <td>780</td>\n",
       "      <td>0</td>\n",
       "      <td>466</td>\n",
       "      <td>0</td>\n",
       "      <td>0</td>\n",
       "      <td>0</td>\n",
       "      <td>0</td>\n",
       "      <td>0</td>\n",
       "    </tr>\n",
       "    <tr>\n",
       "      <th>2</th>\n",
       "      <td>615</td>\n",
       "      <td>545</td>\n",
       "      <td>370</td>\n",
       "      <td>395</td>\n",
       "      <td>0</td>\n",
       "      <td>0</td>\n",
       "      <td>0</td>\n",
       "      <td>0</td>\n",
       "      <td>0</td>\n",
       "      <td>0</td>\n",
       "    </tr>\n",
       "    <tr>\n",
       "      <th>3</th>\n",
       "      <td>635</td>\n",
       "      <td>585</td>\n",
       "      <td>625</td>\n",
       "      <td>615</td>\n",
       "      <td>0</td>\n",
       "      <td>0</td>\n",
       "      <td>0</td>\n",
       "      <td>0</td>\n",
       "      <td>0</td>\n",
       "      <td>0</td>\n",
       "    </tr>\n",
       "    <tr>\n",
       "      <th>4</th>\n",
       "      <td>545</td>\n",
       "      <td>625</td>\n",
       "      <td>465</td>\n",
       "      <td>0</td>\n",
       "      <td>233</td>\n",
       "      <td>0</td>\n",
       "      <td>0</td>\n",
       "      <td>0</td>\n",
       "      <td>0</td>\n",
       "      <td>0</td>\n",
       "    </tr>\n",
       "    <tr>\n",
       "      <th>...</th>\n",
       "      <td>...</td>\n",
       "      <td>...</td>\n",
       "      <td>...</td>\n",
       "      <td>...</td>\n",
       "      <td>...</td>\n",
       "      <td>...</td>\n",
       "      <td>...</td>\n",
       "      <td>...</td>\n",
       "      <td>...</td>\n",
       "      <td>...</td>\n",
       "    </tr>\n",
       "    <tr>\n",
       "      <th>3993</th>\n",
       "      <td>365</td>\n",
       "      <td>334</td>\n",
       "      <td>475</td>\n",
       "      <td>345</td>\n",
       "      <td>0</td>\n",
       "      <td>0</td>\n",
       "      <td>0</td>\n",
       "      <td>0</td>\n",
       "      <td>0</td>\n",
       "      <td>0</td>\n",
       "    </tr>\n",
       "    <tr>\n",
       "      <th>3994</th>\n",
       "      <td>415</td>\n",
       "      <td>410</td>\n",
       "      <td>535</td>\n",
       "      <td>325</td>\n",
       "      <td>420</td>\n",
       "      <td>0</td>\n",
       "      <td>0</td>\n",
       "      <td>0</td>\n",
       "      <td>0</td>\n",
       "      <td>0</td>\n",
       "    </tr>\n",
       "    <tr>\n",
       "      <th>3995</th>\n",
       "      <td>475</td>\n",
       "      <td>475</td>\n",
       "      <td>465</td>\n",
       "      <td>405</td>\n",
       "      <td>0</td>\n",
       "      <td>0</td>\n",
       "      <td>0</td>\n",
       "      <td>0</td>\n",
       "      <td>0</td>\n",
       "      <td>0</td>\n",
       "    </tr>\n",
       "    <tr>\n",
       "      <th>3996</th>\n",
       "      <td>450</td>\n",
       "      <td>410</td>\n",
       "      <td>320</td>\n",
       "      <td>445</td>\n",
       "      <td>0</td>\n",
       "      <td>438</td>\n",
       "      <td>0</td>\n",
       "      <td>0</td>\n",
       "      <td>0</td>\n",
       "      <td>0</td>\n",
       "    </tr>\n",
       "    <tr>\n",
       "      <th>3997</th>\n",
       "      <td>565</td>\n",
       "      <td>515</td>\n",
       "      <td>464</td>\n",
       "      <td>435</td>\n",
       "      <td>0</td>\n",
       "      <td>0</td>\n",
       "      <td>0</td>\n",
       "      <td>0</td>\n",
       "      <td>0</td>\n",
       "      <td>0</td>\n",
       "    </tr>\n",
       "  </tbody>\n",
       "</table>\n",
       "<p>3998 rows × 10 columns</p>\n",
       "</div>"
      ],
      "text/plain": [
       "      English  Logical  Quant  ComputerProgramming  ElectronicsAndSemicon  \\\n",
       "0         515      585    525                  445                      0   \n",
       "1         695      610    780                    0                    466   \n",
       "2         615      545    370                  395                      0   \n",
       "3         635      585    625                  615                      0   \n",
       "4         545      625    465                    0                    233   \n",
       "...       ...      ...    ...                  ...                    ...   \n",
       "3993      365      334    475                  345                      0   \n",
       "3994      415      410    535                  325                    420   \n",
       "3995      475      475    465                  405                      0   \n",
       "3996      450      410    320                  445                      0   \n",
       "3997      565      515    464                  435                      0   \n",
       "\n",
       "      ComputerScience  MechanicalEngg  ElectricalEngg  TelecomEngg  CivilEngg  \n",
       "0                   0               0               0            0          0  \n",
       "1                   0               0               0            0          0  \n",
       "2                   0               0               0            0          0  \n",
       "3                   0               0               0            0          0  \n",
       "4                   0               0               0            0          0  \n",
       "...               ...             ...             ...          ...        ...  \n",
       "3993                0               0               0            0          0  \n",
       "3994                0               0               0            0          0  \n",
       "3995                0               0               0            0          0  \n",
       "3996              438               0               0            0          0  \n",
       "3997                0               0               0            0          0  \n",
       "\n",
       "[3998 rows x 10 columns]"
      ]
     },
     "execution_count": 246,
     "metadata": {},
     "output_type": "execute_result"
    }
   ],
   "source": [
    "amcat_score"
   ]
  },
  {
   "cell_type": "code",
   "execution_count": 247,
   "id": "de788f95",
   "metadata": {},
   "outputs": [],
   "source": [
    "exam_status = pd.DataFrame(index=amcat_score.columns,columns=['Appeared','Not Appeared'])"
   ]
  },
  {
   "cell_type": "code",
   "execution_count": 248,
   "id": "b707a9dc",
   "metadata": {},
   "outputs": [],
   "source": [
    "exam_status['Appeared'] = (amcat_score!=0).sum()"
   ]
  },
  {
   "cell_type": "code",
   "execution_count": 249,
   "id": "6bd13711",
   "metadata": {},
   "outputs": [],
   "source": [
    "exam_status['Not Appeared'] = (amcat_score==0).sum()"
   ]
  },
  {
   "cell_type": "code",
   "execution_count": 250,
   "id": "4d8601b5",
   "metadata": {},
   "outputs": [],
   "source": [
    "exam_status['Appeared_Percentage'] =((exam_status['Appeared']/3998)*100).round(2)"
   ]
  },
  {
   "cell_type": "code",
   "execution_count": 251,
   "id": "4580ce80",
   "metadata": {},
   "outputs": [
    {
     "data": {
      "text/html": [
       "<div>\n",
       "<style scoped>\n",
       "    .dataframe tbody tr th:only-of-type {\n",
       "        vertical-align: middle;\n",
       "    }\n",
       "\n",
       "    .dataframe tbody tr th {\n",
       "        vertical-align: top;\n",
       "    }\n",
       "\n",
       "    .dataframe thead th {\n",
       "        text-align: right;\n",
       "    }\n",
       "</style>\n",
       "<table border=\"1\" class=\"dataframe\">\n",
       "  <thead>\n",
       "    <tr style=\"text-align: right;\">\n",
       "      <th></th>\n",
       "      <th>Appeared</th>\n",
       "      <th>Not Appeared</th>\n",
       "      <th>Appeared_Percentage</th>\n",
       "    </tr>\n",
       "  </thead>\n",
       "  <tbody>\n",
       "    <tr>\n",
       "      <th>English</th>\n",
       "      <td>3998</td>\n",
       "      <td>0</td>\n",
       "      <td>100.00</td>\n",
       "    </tr>\n",
       "    <tr>\n",
       "      <th>Logical</th>\n",
       "      <td>3998</td>\n",
       "      <td>0</td>\n",
       "      <td>100.00</td>\n",
       "    </tr>\n",
       "    <tr>\n",
       "      <th>Quant</th>\n",
       "      <td>3998</td>\n",
       "      <td>0</td>\n",
       "      <td>100.00</td>\n",
       "    </tr>\n",
       "    <tr>\n",
       "      <th>ComputerProgramming</th>\n",
       "      <td>3130</td>\n",
       "      <td>868</td>\n",
       "      <td>78.29</td>\n",
       "    </tr>\n",
       "    <tr>\n",
       "      <th>ElectronicsAndSemicon</th>\n",
       "      <td>1144</td>\n",
       "      <td>2854</td>\n",
       "      <td>28.61</td>\n",
       "    </tr>\n",
       "    <tr>\n",
       "      <th>ComputerScience</th>\n",
       "      <td>902</td>\n",
       "      <td>3096</td>\n",
       "      <td>22.56</td>\n",
       "    </tr>\n",
       "    <tr>\n",
       "      <th>MechanicalEngg</th>\n",
       "      <td>235</td>\n",
       "      <td>3763</td>\n",
       "      <td>5.88</td>\n",
       "    </tr>\n",
       "    <tr>\n",
       "      <th>ElectricalEngg</th>\n",
       "      <td>161</td>\n",
       "      <td>3837</td>\n",
       "      <td>4.03</td>\n",
       "    </tr>\n",
       "    <tr>\n",
       "      <th>TelecomEngg</th>\n",
       "      <td>374</td>\n",
       "      <td>3624</td>\n",
       "      <td>9.35</td>\n",
       "    </tr>\n",
       "    <tr>\n",
       "      <th>CivilEngg</th>\n",
       "      <td>42</td>\n",
       "      <td>3956</td>\n",
       "      <td>1.05</td>\n",
       "    </tr>\n",
       "  </tbody>\n",
       "</table>\n",
       "</div>"
      ],
      "text/plain": [
       "                       Appeared  Not Appeared  Appeared_Percentage\n",
       "English                    3998             0               100.00\n",
       "Logical                    3998             0               100.00\n",
       "Quant                      3998             0               100.00\n",
       "ComputerProgramming        3130           868                78.29\n",
       "ElectronicsAndSemicon      1144          2854                28.61\n",
       "ComputerScience             902          3096                22.56\n",
       "MechanicalEngg              235          3763                 5.88\n",
       "ElectricalEngg              161          3837                 4.03\n",
       "TelecomEngg                 374          3624                 9.35\n",
       "CivilEngg                    42          3956                 1.05"
      ]
     },
     "execution_count": 251,
     "metadata": {},
     "output_type": "execute_result"
    }
   ],
   "source": [
    "exam_status"
   ]
  },
  {
   "cell_type": "code",
   "execution_count": 252,
   "id": "69fa783a",
   "metadata": {},
   "outputs": [],
   "source": [
    "df_  = df_.drop(columns={'DOB'})"
   ]
  },
  {
   "cell_type": "code",
   "execution_count": 253,
   "id": "e54563c2",
   "metadata": {},
   "outputs": [],
   "source": [
    "def discrete_non_viz_analysis(data):\n",
    "    for col_name in data:\n",
    "        print(\"*\"*10,col_name,\"*\"*10)\n",
    "        print(data[col_name].agg(['count', 'nunique', 'unique']))\n",
    "        print('Value Counts: \\n', data[col_name].value_counts())\n",
    "        print('Distribution: \\n', data[col_name].value_counts(normalize=True))\n",
    "        print()"
   ]
  },
  {
   "cell_type": "code",
   "execution_count": 254,
   "id": "f8de91c8",
   "metadata": {},
   "outputs": [],
   "source": [
    "def continuous_non_viz_analysis(data):\n",
    "\n",
    "    for col_name in data:\n",
    "        print(\"*\"*10,col_name,\"*\"*10)\n",
    "        print(data[col_name].agg(['count', 'min', 'max', 'mean', 'median', 'var', 'std', 'skew', 'kurt']).round(2))\n",
    "        print()"
   ]
  },
  {
   "cell_type": "code",
   "execution_count": 255,
   "id": "da35680f",
   "metadata": {},
   "outputs": [],
   "source": [
    "cat = df_.select_dtypes(['object'])"
   ]
  },
  {
   "cell_type": "code",
   "execution_count": 256,
   "id": "ff0a25fc",
   "metadata": {},
   "outputs": [
    {
     "name": "stdout",
     "output_type": "stream",
     "text": [
      "********** Designation **********\n",
      "count                                                   3998\n",
      "nunique                                                  418\n",
      "unique     [senior quality engineer, assistant manager, s...\n",
      "Name: Designation, dtype: object\n",
      "Value Counts: \n",
      " Designation\n",
      "software engineer                    539\n",
      "systems engineer                     323\n",
      "software developer                   265\n",
      "programmer analyst                   139\n",
      "java software engineer               111\n",
      "                                    ... \n",
      "cad drafter                            1\n",
      "noc engineer                           1\n",
      "human resources intern                 1\n",
      "senior quality assurance engineer      1\n",
      "jr. software developer                 1\n",
      "Name: count, Length: 418, dtype: int64\n",
      "Distribution: \n",
      " Designation\n",
      "software engineer                    0.134817\n",
      "systems engineer                     0.080790\n",
      "software developer                   0.066283\n",
      "programmer analyst                   0.034767\n",
      "java software engineer               0.027764\n",
      "                                       ...   \n",
      "cad drafter                          0.000250\n",
      "noc engineer                         0.000250\n",
      "human resources intern               0.000250\n",
      "senior quality assurance engineer    0.000250\n",
      "jr. software developer               0.000250\n",
      "Name: proportion, Length: 418, dtype: float64\n",
      "\n",
      "********** JobCity **********\n",
      "count                                                   3998\n",
      "nunique                                                  193\n",
      "unique     [Bangalore, Indore, Chennai, Gurgaon, Manesar,...\n",
      "Name: JobCity, dtype: object\n",
      "Value Counts: \n",
      " JobCity\n",
      "Bangalore        688\n",
      "not mentioned    461\n",
      "Noida            420\n",
      "Hyderabad        370\n",
      "Pune             328\n",
      "                ... \n",
      "India              1\n",
      "Bikaner            1\n",
      "AM                 1\n",
      "Sadulpur           1\n",
      "Haryana            1\n",
      "Name: count, Length: 193, dtype: int64\n",
      "Distribution: \n",
      " JobCity\n",
      "Bangalore        0.172086\n",
      "not mentioned    0.115308\n",
      "Noida            0.105053\n",
      "Hyderabad        0.092546\n",
      "Pune             0.082041\n",
      "                   ...   \n",
      "India            0.000250\n",
      "Bikaner          0.000250\n",
      "AM               0.000250\n",
      "Sadulpur         0.000250\n",
      "Haryana          0.000250\n",
      "Name: proportion, Length: 193, dtype: float64\n",
      "\n",
      "********** Gender **********\n",
      "count                3998\n",
      "nunique                 2\n",
      "unique     [female, male]\n",
      "Name: Gender, dtype: object\n",
      "Value Counts: \n",
      " Gender\n",
      "male      3041\n",
      "female     957\n",
      "Name: count, dtype: int64\n",
      "Distribution: \n",
      " Gender\n",
      "male      0.76063\n",
      "female    0.23937\n",
      "Name: proportion, dtype: float64\n",
      "\n",
      "********** 10board **********\n",
      "count                           3998\n",
      "nunique                            3\n",
      "unique     [state board, cbse, icse]\n",
      "Name: 10board, dtype: object\n",
      "Value Counts: \n",
      " 10board\n",
      "state board    2319\n",
      "cbse           1397\n",
      "icse            282\n",
      "Name: count, dtype: int64\n",
      "Distribution: \n",
      " 10board\n",
      "state board    0.580040\n",
      "cbse           0.349425\n",
      "icse           0.070535\n",
      "Name: proportion, dtype: float64\n",
      "\n",
      "********** 12board **********\n",
      "count                                                   3998\n",
      "nunique                                                  170\n",
      "unique     [state board, cbse, isc, icse, up, dept of pre...\n",
      "Name: 12board, dtype: object\n",
      "Value Counts: \n",
      " 12board\n",
      "state board                                                        1701\n",
      "cbse                                                               1400\n",
      "0                                                                   359\n",
      "icse                                                                129\n",
      "isc                                                                  45\n",
      "                                                                   ... \n",
      "department of pre-university education(government of karnataka)       1\n",
      "mbose                                                                 1\n",
      "stmiras college for girls                                             1\n",
      "department of pre-university education, bangalore                     1\n",
      "karnataka pu                                                          1\n",
      "Name: count, Length: 170, dtype: int64\n",
      "Distribution: \n",
      " 12board\n",
      "state board                                                        0.425463\n",
      "cbse                                                               0.350175\n",
      "0                                                                  0.089795\n",
      "icse                                                               0.032266\n",
      "isc                                                                0.011256\n",
      "                                                                     ...   \n",
      "department of pre-university education(government of karnataka)    0.000250\n",
      "mbose                                                              0.000250\n",
      "stmiras college for girls                                          0.000250\n",
      "department of pre-university education, bangalore                  0.000250\n",
      "karnataka pu                                                       0.000250\n",
      "Name: proportion, Length: 170, dtype: float64\n",
      "\n",
      "********** Degree **********\n",
      "count                                                 3998\n",
      "nunique                                                  4\n",
      "unique     [B.Tech/B.E., MCA, M.Tech./M.E., M.Sc. (Tech.)]\n",
      "Name: Degree, dtype: object\n",
      "Value Counts: \n",
      " Degree\n",
      "B.Tech/B.E.      3700\n",
      "MCA               243\n",
      "M.Tech./M.E.       53\n",
      "M.Sc. (Tech.)       2\n",
      "Name: count, dtype: int64\n",
      "Distribution: \n",
      " Degree\n",
      "B.Tech/B.E.      0.925463\n",
      "MCA              0.060780\n",
      "M.Tech./M.E.     0.013257\n",
      "M.Sc. (Tech.)    0.000500\n",
      "Name: proportion, dtype: float64\n",
      "\n",
      "********** Specialization **********\n",
      "count                                                   3998\n",
      "nunique                                                   22\n",
      "unique     [CSE, ECE, IT, MECH, instrumentation and contr...\n",
      "Name: Specialization, dtype: object\n",
      "Value Counts: \n",
      " Specialization\n",
      "CSE                                        1601\n",
      "ECE                                        1291\n",
      "IT                                          690\n",
      "MECH                                        220\n",
      "EEE                                          84\n",
      "civil engineering                            29\n",
      "instrumentation and control engineering      20\n",
      "biotechnology                                15\n",
      "other                                        13\n",
      "chemical engineering                          9\n",
      "automobile/automotive engineering             5\n",
      "instrumentation engineering                   4\n",
      "mechatronics                                  4\n",
      "aeronautical engineering                      3\n",
      "metallurgical engineering                     2\n",
      "biomedical engineering                        2\n",
      "embedded systems technology                   1\n",
      "ceramic engineering                           1\n",
      "polymer technology                            1\n",
      "power systems and automation                  1\n",
      "control and instrumentation engineering       1\n",
      "internal combustion engine                    1\n",
      "Name: count, dtype: int64\n",
      "Distribution: \n",
      " Specialization\n",
      "CSE                                        0.400450\n",
      "ECE                                        0.322911\n",
      "IT                                         0.172586\n",
      "MECH                                       0.055028\n",
      "EEE                                        0.021011\n",
      "civil engineering                          0.007254\n",
      "instrumentation and control engineering    0.005003\n",
      "biotechnology                              0.003752\n",
      "other                                      0.003252\n",
      "chemical engineering                       0.002251\n",
      "automobile/automotive engineering          0.001251\n",
      "instrumentation engineering                0.001001\n",
      "mechatronics                               0.001001\n",
      "aeronautical engineering                   0.000750\n",
      "metallurgical engineering                  0.000500\n",
      "biomedical engineering                     0.000500\n",
      "embedded systems technology                0.000250\n",
      "ceramic engineering                        0.000250\n",
      "polymer technology                         0.000250\n",
      "power systems and automation               0.000250\n",
      "control and instrumentation engineering    0.000250\n",
      "internal combustion engine                 0.000250\n",
      "Name: proportion, dtype: float64\n",
      "\n",
      "********** CollegeState **********\n",
      "count                                                   3998\n",
      "nunique                                                   26\n",
      "unique     [Andhra Pradesh, Madhya Pradesh, Uttar Pradesh...\n",
      "Name: CollegeState, dtype: object\n",
      "Value Counts: \n",
      " CollegeState\n",
      "Uttar Pradesh        915\n",
      "Karnataka            370\n",
      "Tamil Nadu           367\n",
      "Telangana            319\n",
      "Maharashtra          262\n",
      "Andhra Pradesh       225\n",
      "West Bengal          196\n",
      "Punjab               193\n",
      "Madhya Pradesh       189\n",
      "Haryana              180\n",
      "Rajasthan            174\n",
      "Orissa               172\n",
      "Delhi                162\n",
      "Uttarakhand          113\n",
      "Kerala                33\n",
      "Jharkhand             28\n",
      "Chhattisgarh          27\n",
      "Gujarat               24\n",
      "Himachal Pradesh      16\n",
      "Bihar                 10\n",
      "Jammu and Kashmir      7\n",
      "Assam                  5\n",
      "Union Territory        5\n",
      "Sikkim                 3\n",
      "Meghalaya              2\n",
      "Goa                    1\n",
      "Name: count, dtype: int64\n",
      "Distribution: \n",
      " CollegeState\n",
      "Uttar Pradesh        0.228864\n",
      "Karnataka            0.092546\n",
      "Tamil Nadu           0.091796\n",
      "Telangana            0.079790\n",
      "Maharashtra          0.065533\n",
      "Andhra Pradesh       0.056278\n",
      "West Bengal          0.049025\n",
      "Punjab               0.048274\n",
      "Madhya Pradesh       0.047274\n",
      "Haryana              0.045023\n",
      "Rajasthan            0.043522\n",
      "Orissa               0.043022\n",
      "Delhi                0.040520\n",
      "Uttarakhand          0.028264\n",
      "Kerala               0.008254\n",
      "Jharkhand            0.007004\n",
      "Chhattisgarh         0.006753\n",
      "Gujarat              0.006003\n",
      "Himachal Pradesh     0.004002\n",
      "Bihar                0.002501\n",
      "Jammu and Kashmir    0.001751\n",
      "Assam                0.001251\n",
      "Union Territory      0.001251\n",
      "Sikkim               0.000750\n",
      "Meghalaya            0.000500\n",
      "Goa                  0.000250\n",
      "Name: proportion, dtype: float64\n",
      "\n"
     ]
    }
   ],
   "source": [
    "discrete_non_viz_analysis(cat)"
   ]
  },
  {
   "cell_type": "code",
   "execution_count": 257,
   "id": "3a811108",
   "metadata": {},
   "outputs": [],
   "source": [
    "num = df_.select_dtypes(['int64','float64'])"
   ]
  },
  {
   "cell_type": "code",
   "execution_count": 258,
   "id": "b1d5c239",
   "metadata": {},
   "outputs": [
    {
     "name": "stdout",
     "output_type": "stream",
     "text": [
      "********** Salary **********\n",
      "count     3.998000e+03\n",
      "min       3.500000e+04\n",
      "max       4.000000e+06\n",
      "mean      3.076998e+05\n",
      "median    3.000000e+05\n",
      "var       4.525724e+10\n",
      "std       2.127375e+05\n",
      "skew      6.450000e+00\n",
      "kurt      8.093000e+01\n",
      "Name: Salary, dtype: float64\n",
      "\n",
      "********** 10percentage **********\n",
      "count     3998.00\n",
      "min         43.00\n",
      "max         97.76\n",
      "mean        77.93\n",
      "median      79.15\n",
      "var         97.03\n",
      "std          9.85\n",
      "skew        -0.59\n",
      "kurt        -0.11\n",
      "Name: 10percentage, dtype: float64\n",
      "\n",
      "********** 12graduation **********\n",
      "count     3998.00\n",
      "min       1995.00\n",
      "max       2013.00\n",
      "mean      2008.09\n",
      "median    2008.00\n",
      "var          2.73\n",
      "std          1.65\n",
      "skew        -0.96\n",
      "kurt         1.95\n",
      "Name: 12graduation, dtype: float64\n",
      "\n",
      "********** 12percentage **********\n",
      "count     3998.00\n",
      "min         40.00\n",
      "max         98.70\n",
      "mean        74.47\n",
      "median      74.40\n",
      "var        121.00\n",
      "std         11.00\n",
      "skew        -0.03\n",
      "kurt        -0.63\n",
      "Name: 12percentage, dtype: float64\n",
      "\n",
      "********** CollegeTier **********\n",
      "count     3998.00\n",
      "min          1.00\n",
      "max          2.00\n",
      "mean         1.93\n",
      "median       2.00\n",
      "var          0.07\n",
      "std          0.26\n",
      "skew        -3.25\n",
      "kurt         8.55\n",
      "Name: CollegeTier, dtype: float64\n",
      "\n",
      "********** collegeGPA **********\n",
      "count     3998.00\n",
      "min          6.45\n",
      "max         99.93\n",
      "mean        71.49\n",
      "median      71.72\n",
      "var         66.71\n",
      "std          8.17\n",
      "skew        -1.25\n",
      "kurt        10.23\n",
      "Name: collegeGPA, dtype: float64\n",
      "\n",
      "********** GraduationYear **********\n",
      "count     3998.00\n",
      "min          0.00\n",
      "max       2017.00\n",
      "mean      2012.11\n",
      "median    2013.00\n",
      "var       1014.89\n",
      "std         31.86\n",
      "skew       -63.07\n",
      "kurt      3984.37\n",
      "Name: GraduationYear, dtype: float64\n",
      "\n",
      "********** English **********\n",
      "count      3998.00\n",
      "min         180.00\n",
      "max         875.00\n",
      "mean        501.65\n",
      "median      500.00\n",
      "var       11012.41\n",
      "std         104.94\n",
      "skew          0.19\n",
      "kurt         -0.25\n",
      "Name: English, dtype: float64\n",
      "\n",
      "********** Logical **********\n",
      "count     3998.00\n",
      "min        195.00\n",
      "max        795.00\n",
      "mean       501.60\n",
      "median     505.00\n",
      "var       7531.34\n",
      "std         86.78\n",
      "skew        -0.22\n",
      "kurt        -0.22\n",
      "Name: Logical, dtype: float64\n",
      "\n",
      "********** Quant **********\n",
      "count      3998.00\n",
      "min         120.00\n",
      "max         900.00\n",
      "mean        513.38\n",
      "median      515.00\n",
      "var       14957.86\n",
      "std         122.30\n",
      "skew         -0.02\n",
      "kurt         -0.10\n",
      "Name: Quant, dtype: float64\n",
      "\n",
      "********** Domain **********\n",
      "count     3998.00\n",
      "min          0.00\n",
      "max          1.00\n",
      "mean         0.57\n",
      "median       0.62\n",
      "var          0.09\n",
      "std          0.30\n",
      "skew        -0.40\n",
      "kurt        -1.00\n",
      "Name: Domain, dtype: float64\n",
      "\n",
      "********** ComputerProgramming **********\n",
      "count      3998.00\n",
      "min           0.00\n",
      "max         840.00\n",
      "mean        353.32\n",
      "median      415.00\n",
      "var       42017.26\n",
      "std         204.98\n",
      "skew         -0.78\n",
      "kurt         -0.67\n",
      "Name: ComputerProgramming, dtype: float64\n",
      "\n",
      "********** ElectronicsAndSemicon **********\n",
      "count      3998.00\n",
      "min           0.00\n",
      "max         612.00\n",
      "mean         96.04\n",
      "median        0.00\n",
      "var       24902.92\n",
      "std         157.81\n",
      "skew          1.20\n",
      "kurt         -0.21\n",
      "Name: ElectronicsAndSemicon, dtype: float64\n",
      "\n",
      "********** ComputerScience **********\n",
      "count      3998.00\n",
      "min           0.00\n",
      "max         715.00\n",
      "mean         91.52\n",
      "median        0.00\n",
      "var       30578.70\n",
      "std         174.87\n",
      "skew          1.53\n",
      "kurt          0.70\n",
      "Name: ComputerScience, dtype: float64\n",
      "\n",
      "********** MechanicalEngg **********\n",
      "count     3998.00\n",
      "min          0.00\n",
      "max        623.00\n",
      "mean        23.92\n",
      "median       0.00\n",
      "var       9583.10\n",
      "std         97.89\n",
      "skew         4.03\n",
      "kurt        15.03\n",
      "Name: MechanicalEngg, dtype: float64\n",
      "\n",
      "********** ElectricalEngg **********\n",
      "count     3998.00\n",
      "min          0.00\n",
      "max        676.00\n",
      "mean        17.44\n",
      "median       0.00\n",
      "var       7637.72\n",
      "std         87.39\n",
      "skew         5.06\n",
      "kurt        24.90\n",
      "Name: ElectricalEngg, dtype: float64\n",
      "\n",
      "********** TelecomEngg **********\n",
      "count      3998.00\n",
      "min           0.00\n",
      "max         548.00\n",
      "mean         32.76\n",
      "median        0.00\n",
      "var       10934.63\n",
      "std         104.57\n",
      "skew          3.04\n",
      "kurt          7.82\n",
      "Name: TelecomEngg, dtype: float64\n",
      "\n",
      "********** CivilEngg **********\n",
      "count     3998.00\n",
      "min          0.00\n",
      "max        516.00\n",
      "mean         3.67\n",
      "median       0.00\n",
      "var       1336.56\n",
      "std         36.56\n",
      "skew        10.32\n",
      "kurt       109.14\n",
      "Name: CivilEngg, dtype: float64\n",
      "\n",
      "********** conscientiousness **********\n",
      "count     3998.00\n",
      "min         -4.13\n",
      "max          2.00\n",
      "mean        -0.04\n",
      "median       0.05\n",
      "var          1.06\n",
      "std          1.03\n",
      "skew        -0.53\n",
      "kurt         0.12\n",
      "Name: conscientiousness, dtype: float64\n",
      "\n",
      "********** agreeableness **********\n",
      "count     3998.00\n",
      "min         -5.78\n",
      "max          1.90\n",
      "mean         0.15\n",
      "median       0.21\n",
      "var          0.89\n",
      "std          0.94\n",
      "skew        -1.20\n",
      "kurt         3.39\n",
      "Name: agreeableness, dtype: float64\n",
      "\n",
      "********** extraversion **********\n",
      "count     3998.00\n",
      "min         -4.60\n",
      "max          2.54\n",
      "mean         0.00\n",
      "median       0.09\n",
      "var          0.91\n",
      "std          0.95\n",
      "skew        -0.52\n",
      "kurt         0.64\n",
      "Name: extraversion, dtype: float64\n",
      "\n",
      "********** nueroticism **********\n",
      "count     3998.00\n",
      "min         -2.64\n",
      "max          3.35\n",
      "mean        -0.17\n",
      "median      -0.23\n",
      "var          1.02\n",
      "std          1.01\n",
      "skew         0.17\n",
      "kurt        -0.19\n",
      "Name: nueroticism, dtype: float64\n",
      "\n",
      "********** openess_to_experience **********\n",
      "count     3998.00\n",
      "min         -7.38\n",
      "max          1.82\n",
      "mean        -0.14\n",
      "median      -0.09\n",
      "var          1.02\n",
      "std          1.01\n",
      "skew        -1.51\n",
      "kurt         5.79\n",
      "Name: openess_to_experience, dtype: float64\n",
      "\n",
      "********** age **********\n",
      "count     3998.00\n",
      "min         27.00\n",
      "max         47.00\n",
      "mean        33.57\n",
      "median      33.00\n",
      "var          3.12\n",
      "std          1.77\n",
      "skew         0.89\n",
      "kurt         1.83\n",
      "Name: age, dtype: float64\n",
      "\n",
      "********** Joining_year **********\n",
      "count     3998.00\n",
      "min       1991.00\n",
      "max       2015.00\n",
      "mean      2013.04\n",
      "median    2013.00\n",
      "var          1.76\n",
      "std          1.33\n",
      "skew        -1.96\n",
      "kurt        19.43\n",
      "Name: Joining_year, dtype: float64\n",
      "\n",
      "********** leaving_year **********\n",
      "count     3998.00\n",
      "min       2005.00\n",
      "max       2015.00\n",
      "mean      2014.57\n",
      "median    2015.00\n",
      "var          0.73\n",
      "std          0.85\n",
      "skew        -2.59\n",
      "kurt         9.47\n",
      "Name: leaving_year, dtype: float64\n",
      "\n",
      "********** experience **********\n",
      "count     3998.00\n",
      "min          0.00\n",
      "max         24.00\n",
      "mean         1.53\n",
      "median       1.00\n",
      "var          1.35\n",
      "std          1.16\n",
      "skew         2.73\n",
      "kurt        35.70\n",
      "Name: experience, dtype: float64\n",
      "\n"
     ]
    }
   ],
   "source": [
    "continuous_non_viz_analysis(num)"
   ]
  },
  {
   "cell_type": "code",
   "execution_count": 259,
   "id": "613e1f14",
   "metadata": {},
   "outputs": [],
   "source": [
    "for data in df_['collegeGPA'].unique():\n",
    "    if len(str(data))<=4:\n",
    "        gpa = ((data*10)/100).round(1)\n",
    "        df_.loc[df_['collegeGPA']==data,'collegeGPA']=gpa"
   ]
  },
  {
   "cell_type": "code",
   "execution_count": 260,
   "id": "3ddae390",
   "metadata": {},
   "outputs": [],
   "source": [
    "for data in df_['collegeGPA'].unique():\n",
    "    if len(str(data)) >=4:\n",
    "        gpa = ((data*10)/100).round(1)\n",
    "        df_.loc[df_['collegeGPA']==data,'collegeGPA']=gpa"
   ]
  },
  {
   "cell_type": "code",
   "execution_count": 261,
   "id": "000d1b63",
   "metadata": {},
   "outputs": [],
   "source": [
    "for data in df_['collegeGPA'].unique():\n",
    "    if str(data).startswith('0'):\n",
    "        gpa = ((data*100)/10).round(1)\n",
    "        df_.loc[df_['collegeGPA']==data,'collegeGPA']=gpa"
   ]
  },
  {
   "cell_type": "code",
   "execution_count": 262,
   "id": "15820b55",
   "metadata": {
    "scrolled": true
   },
   "outputs": [
    {
     "data": {
      "text/plain": [
       "collegeGPA\n",
       "7.0     379\n",
       "7.2     245\n",
       "7.6     219\n",
       "7.4     204\n",
       "7.5     202\n",
       "7.3     197\n",
       "7.1     184\n",
       "6.9     170\n",
       "6.5     167\n",
       "7.8     164\n",
       "6.6     158\n",
       "6.7     157\n",
       "8.0     140\n",
       "7.7     138\n",
       "6.4     124\n",
       "6.3     111\n",
       "6.2     107\n",
       "6.1      93\n",
       "7.9      89\n",
       "8.1      87\n",
       "6.0      85\n",
       "6.8      69\n",
       "8.2      67\n",
       "8.4      59\n",
       "8.3      44\n",
       "5.8      41\n",
       "8.8      38\n",
       "8.5      32\n",
       "8.6      32\n",
       "5.9      26\n",
       "5.5      25\n",
       "9.0      23\n",
       "5.6      23\n",
       "8.9      18\n",
       "8.7      17\n",
       "5.7      14\n",
       "5.4       9\n",
       "5.3       6\n",
       "5.2       6\n",
       "9.2       6\n",
       "9.1       5\n",
       "9.4       3\n",
       "9.7       3\n",
       "9.5       3\n",
       "5.0       2\n",
       "9.6       2\n",
       "10.0      1\n",
       "4.9       1\n",
       "9.8       1\n",
       "5.1       1\n",
       "9.9       1\n",
       "Name: count, dtype: int64"
      ]
     },
     "execution_count": 262,
     "metadata": {},
     "output_type": "execute_result"
    }
   ],
   "source": [
    "df_['collegeGPA'].value_counts()"
   ]
  },
  {
   "cell_type": "code",
   "execution_count": 263,
   "id": "381c1109",
   "metadata": {},
   "outputs": [],
   "source": [
    "def discrete_viz_analysis(data):\n",
    "    '''\n",
    "    This function performs a complete visual \n",
    "    analysis of discrete data (categorical and numerical).\n",
    "    '''\n",
    "    fig, ax = plt.subplots(figsize=(5, 3), constrained_layout=True)\n",
    "    fig.suptitle(\"Discrete Distribution Plot\")\n",
    "    \n",
    "    ax.set_title(\"Count Plot\")\n",
    "    sns.countplot(x=data, ax=ax)\n",
    "    \n",
    "    plt.xticks(rotation=45)\n",
    "    plt.show()\n",
    "\n",
    "\n",
    "\n"
   ]
  },
  {
   "cell_type": "code",
   "execution_count": 264,
   "id": "8ff6b8aa",
   "metadata": {},
   "outputs": [],
   "source": [
    "def continuous_viz_analysis(data):\n",
    "    '''\n",
    "    This function performs a complete visual \n",
    "    analysis of continuous numerical data.\n",
    "    '''\n",
    "\n",
    "    fig, axes = plt.subplots(1, 3, figsize=(8, 3), constrained_layout=True)\n",
    "    fig.suptitle(\"Continuous Distribution Plot\")\n",
    "    \n",
    "    axes[0].set_title(\"Histogram Plot\")\n",
    "    sns.histplot(data, ax=axes[0])\n",
    "    \n",
    "    axes[1].set_title(\"KDE Plot\")\n",
    "    sns.kdeplot(data, fill=True, ax=axes[1])\n",
    "\n",
    "    axes[2].set_title(\"Box Plot\")\n",
    "    sns.boxplot(data, ax=axes[2])\n",
    "\n",
    "    plt.show()"
   ]
  },
  {
   "cell_type": "code",
   "execution_count": 265,
   "id": "af1102d8",
   "metadata": {},
   "outputs": [
    {
     "name": "stderr",
     "output_type": "stream",
     "text": [
      "C:\\Users\\dell\\anaconda3\\lib\\site-packages\\seaborn\\categorical.py:640: FutureWarning: SeriesGroupBy.grouper is deprecated and will be removed in a future version of pandas.\n",
      "  positions = grouped.grouper.result_index.to_numpy(dtype=float)\n"
     ]
    },
    {
     "data": {
      "image/png": "[encoded data removed]",
      "text/plain": [
       "<Figure size 576x216 with 3 Axes>"
      ]
     },
     "metadata": {
      "needs_background": "light"
     },
     "output_type": "display_data"
    }
   ],
   "source": [
    "continuous_viz_analysis(df_['Salary'])"
   ]
  },
  {
   "cell_type": "code",
   "execution_count": 266,
   "id": "f4dd6195",
   "metadata": {},
   "outputs": [
    {
     "name": "stderr",
     "output_type": "stream",
     "text": [
      "C:\\Users\\dell\\anaconda3\\lib\\site-packages\\seaborn\\categorical.py:640: FutureWarning: SeriesGroupBy.grouper is deprecated and will be removed in a future version of pandas.\n",
      "  positions = grouped.grouper.result_index.to_numpy(dtype=float)\n"
     ]
    },
    {
     "data": {
      "image/png": "[encoded data removed]",
      "text/plain": [
       "<Figure size 576x216 with 3 Axes>"
      ]
     },
     "metadata": {
      "needs_background": "light"
     },
     "output_type": "display_data"
    }
   ],
   "source": [
    "continuous_viz_analysis(df_['GraduationYear'])\n"
   ]
  },
  {
   "cell_type": "code",
   "execution_count": 267,
   "id": "9ed543c9",
   "metadata": {},
   "outputs": [
    {
     "name": "stderr",
     "output_type": "stream",
     "text": [
      "C:\\Users\\dell\\anaconda3\\lib\\site-packages\\pandas\\core\\arraylike.py:399: RuntimeWarning: divide by zero encountered in log\n",
      "  result = getattr(ufunc, method)(*inputs, **kwargs)\n"
     ]
    }
   ],
   "source": [
    "df_year = np.log(df_['GraduationYear'])"
   ]
  },
  {
   "cell_type": "code",
   "execution_count": 268,
   "id": "a8642c0e",
   "metadata": {},
   "outputs": [
    {
     "data": {
      "text/plain": [
       "<AxesSubplot:>"
      ]
     },
     "execution_count": 268,
     "metadata": {},
     "output_type": "execute_result"
    },
    {
     "data": {
      "image/png": "[encoded data removed]",
      "text/plain": [
       "<Figure size 432x288 with 1 Axes>"
      ]
     },
     "metadata": {
      "needs_background": "light"
     },
     "output_type": "display_data"
    }
   ],
   "source": [
    "df_year.plot(kind=\"box\")"
   ]
  },
  {
   "cell_type": "code",
   "execution_count": null,
   "id": "e38cbf97",
   "metadata": {},
   "outputs": [],
   "source": []
  },
  {
   "cell_type": "code",
   "execution_count": null,
   "id": "96403cc0",
   "metadata": {},
   "outputs": [],
   "source": []
  },
  {
   "cell_type": "code",
   "execution_count": 269,
   "id": "7c2daf29",
   "metadata": {},
   "outputs": [],
   "source": [
    "# Remove outliers for Graduation Year and perform EDA\n",
    "percentile25 = df_['GraduationYear'].quantile(0.25)\n",
    "percentile75 = df_['GraduationYear'].quantile(0.75)"
   ]
  },
  {
   "cell_type": "code",
   "execution_count": 270,
   "id": "3ab90968",
   "metadata": {},
   "outputs": [],
   "source": [
    "iqr=percentile75-percentile25"
   ]
  },
  {
   "cell_type": "code",
   "execution_count": 271,
   "id": "8fd9aa26",
   "metadata": {},
   "outputs": [],
   "source": [
    "upper_limit = percentile75 + 1.5 * iqr\n",
    "lower_limit = percentile25 - 1.5 * iqr"
   ]
  },
  {
   "cell_type": "code",
   "execution_count": 272,
   "id": "de4b0f04",
   "metadata": {},
   "outputs": [],
   "source": [
    "df_ = df_[df_['GraduationYear'] < upper_limit]\n",
    "df_ = df_[df_['GraduationYear'] > lower_limit]"
   ]
  },
  {
   "cell_type": "code",
   "execution_count": 273,
   "id": "aded6255",
   "metadata": {},
   "outputs": [
    {
     "name": "stderr",
     "output_type": "stream",
     "text": [
      "C:\\Users\\dell\\anaconda3\\lib\\site-packages\\seaborn\\categorical.py:640: FutureWarning: SeriesGroupBy.grouper is deprecated and will be removed in a future version of pandas.\n",
      "  positions = grouped.grouper.result_index.to_numpy(dtype=float)\n"
     ]
    },
    {
     "data": {
      "image/png": "[encoded data removed]",
      "text/plain": [
       "<Figure size 576x216 with 3 Axes>"
      ]
     },
     "metadata": {
      "needs_background": "light"
     },
     "output_type": "display_data"
    }
   ],
   "source": [
    "continuous_viz_analysis(df_['GraduationYear'])"
   ]
  },
  {
   "cell_type": "markdown",
   "id": "228c58f8",
   "metadata": {},
   "source": [
    "## Salary vs Gender"
   ]
  },
  {
   "cell_type": "code",
   "execution_count": 274,
   "id": "e7670d6d",
   "metadata": {},
   "outputs": [
    {
     "data": {
      "text/plain": [
       "<AxesSubplot:xlabel='Gender', ylabel='Salary'>"
      ]
     },
     "execution_count": 274,
     "metadata": {},
     "output_type": "execute_result"
    },
    {
     "data": {
      "image/png": "[encoded data removed]",
      "text/plain": [
       "<Figure size 432x288 with 1 Axes>"
      ]
     },
     "metadata": {
      "needs_background": "light"
     },
     "output_type": "display_data"
    }
   ],
   "source": [
    "sns.boxenplot(data=df_, x=\"Gender\", y=\"Salary\",hue=\"Gender\")"
   ]
  },
  {
   "cell_type": "markdown",
   "id": "81c7218e",
   "metadata": {},
   "source": [
    "#### Men are earning more salary than women"
   ]
  },
  {
   "cell_type": "markdown",
   "id": "665f984f",
   "metadata": {},
   "source": [
    "## Salary vs Experience\n"
   ]
  },
  {
   "cell_type": "code",
   "execution_count": 275,
   "id": "dfda6312",
   "metadata": {},
   "outputs": [
    {
     "data": {
      "text/plain": [
       "<seaborn.axisgrid.FacetGrid at 0x1fe69a04cd0>"
      ]
     },
     "execution_count": 275,
     "metadata": {},
     "output_type": "execute_result"
    },
    {
     "data": {
      "image/png": "[encoded data removed]",
      "text/plain": [
       "<Figure size 430.5x360 with 1 Axes>"
      ]
     },
     "metadata": {
      "needs_background": "light"
     },
     "output_type": "display_data"
    }
   ],
   "source": [
    "sns.lmplot(data=df_, x=\"experience\", y=\"Salary\", hue=\"Gender\")\n"
   ]
  },
  {
   "cell_type": "markdown",
   "id": "fd69ceb1",
   "metadata": {},
   "source": [
    "## Age vs Experience\n"
   ]
  },
  {
   "cell_type": "code",
   "execution_count": 276,
   "id": "c0408621",
   "metadata": {},
   "outputs": [
    {
     "data": {
      "text/plain": [
       "<seaborn.axisgrid.FacetGrid at 0x1fe636adac0>"
      ]
     },
     "execution_count": 276,
     "metadata": {},
     "output_type": "execute_result"
    },
    {
     "data": {
      "image/png": "[encoded data removed]",
      "text/plain": [
       "<Figure size 430.5x360 with 1 Axes>"
      ]
     },
     "metadata": {
      "needs_background": "light"
     },
     "output_type": "display_data"
    }
   ],
   "source": [
    "sns.lmplot(x=\"age\", y=\"experience\", data=df_, hue=\"Gender\")\n"
   ]
  },
  {
   "cell_type": "markdown",
   "id": "287d53f5",
   "metadata": {},
   "source": [
    "#### Despite of age groups, everyone has worked on an average of 6 years in this company"
   ]
  },
  {
   "cell_type": "markdown",
   "id": "ef0b885e",
   "metadata": {},
   "source": [
    "## 10th and 12th board are same?"
   ]
  },
  {
   "cell_type": "code",
   "execution_count": 277,
   "id": "55ec1de4",
   "metadata": {},
   "outputs": [
    {
     "name": "stdout",
     "output_type": "stream",
     "text": [
      "Chi-square value: 5283.510351244855\n",
      "P-value: 0.0\n",
      "Is the result significant at 0.05 level? Yes\n"
     ]
    }
   ],
   "source": [
    "from scipy.stats import chi2_contingency\n",
    "\n",
    "contingency_table = pd.crosstab(df_['10board'], df_['12board'])\n",
    "chi2, p, _, _ = chi2_contingency(contingency_table)\n",
    "\n",
    "\n",
    "print(f\"Chi-square value: {chi2}\")\n",
    "print(f\"P-value: {p}\")\n",
    "\n",
    "\n",
    "alpha = 0.05\n",
    "print(f\"Is the result significant at {alpha} level? {'Yes' if p < alpha else 'No'}\")"
   ]
  },
  {
   "cell_type": "markdown",
   "id": "a301eda6",
   "metadata": {},
   "source": [
    "#### there is a statistically significant association between the type of board studied in 10th grade and the type of board studied in 12th grade."
   ]
  },
  {
   "cell_type": "code",
   "execution_count": 278,
   "id": "c85039cf",
   "metadata": {},
   "outputs": [
    {
     "name": "stderr",
     "output_type": "stream",
     "text": [
      "C:\\Users\\dell\\AppData\\Local\\Temp/ipykernel_6224/1172298193.py:1: SettingWithCopyWarning: \n",
      "A value is trying to be set on a copy of a slice from a DataFrame.\n",
      "Try using .loc[row_indexer,col_indexer] = value instead\n",
      "\n",
      "See the caveats in the documentation: https://pandas.pydata.org/pandas-docs/stable/user_guide/indexing.html#returning-a-view-versus-a-copy\n",
      "  amcat_score['Average'] = (amcat_score['English'] + amcat_score['Logical'] + amcat_score['Quant'])/3\n"
     ]
    }
   ],
   "source": [
    "amcat_score['Average'] = (amcat_score['English'] + amcat_score['Logical'] + amcat_score['Quant'])/3"
   ]
  },
  {
   "cell_type": "code",
   "execution_count": 279,
   "id": "7fba8953",
   "metadata": {},
   "outputs": [
    {
     "data": {
      "text/html": [
       "<div>\n",
       "<style scoped>\n",
       "    .dataframe tbody tr th:only-of-type {\n",
       "        vertical-align: middle;\n",
       "    }\n",
       "\n",
       "    .dataframe tbody tr th {\n",
       "        vertical-align: top;\n",
       "    }\n",
       "\n",
       "    .dataframe thead th {\n",
       "        text-align: right;\n",
       "    }\n",
       "</style>\n",
       "<table border=\"1\" class=\"dataframe\">\n",
       "  <thead>\n",
       "    <tr style=\"text-align: right;\">\n",
       "      <th></th>\n",
       "      <th>English</th>\n",
       "      <th>Logical</th>\n",
       "      <th>Quant</th>\n",
       "      <th>ComputerProgramming</th>\n",
       "      <th>ElectronicsAndSemicon</th>\n",
       "      <th>ComputerScience</th>\n",
       "      <th>MechanicalEngg</th>\n",
       "      <th>ElectricalEngg</th>\n",
       "      <th>TelecomEngg</th>\n",
       "      <th>CivilEngg</th>\n",
       "      <th>Average</th>\n",
       "    </tr>\n",
       "  </thead>\n",
       "  <tbody>\n",
       "    <tr>\n",
       "      <th>0</th>\n",
       "      <td>515</td>\n",
       "      <td>585</td>\n",
       "      <td>525</td>\n",
       "      <td>445</td>\n",
       "      <td>0</td>\n",
       "      <td>0</td>\n",
       "      <td>0</td>\n",
       "      <td>0</td>\n",
       "      <td>0</td>\n",
       "      <td>0</td>\n",
       "      <td>541.666667</td>\n",
       "    </tr>\n",
       "    <tr>\n",
       "      <th>1</th>\n",
       "      <td>695</td>\n",
       "      <td>610</td>\n",
       "      <td>780</td>\n",
       "      <td>0</td>\n",
       "      <td>466</td>\n",
       "      <td>0</td>\n",
       "      <td>0</td>\n",
       "      <td>0</td>\n",
       "      <td>0</td>\n",
       "      <td>0</td>\n",
       "      <td>695.000000</td>\n",
       "    </tr>\n",
       "    <tr>\n",
       "      <th>2</th>\n",
       "      <td>615</td>\n",
       "      <td>545</td>\n",
       "      <td>370</td>\n",
       "      <td>395</td>\n",
       "      <td>0</td>\n",
       "      <td>0</td>\n",
       "      <td>0</td>\n",
       "      <td>0</td>\n",
       "      <td>0</td>\n",
       "      <td>0</td>\n",
       "      <td>510.000000</td>\n",
       "    </tr>\n",
       "    <tr>\n",
       "      <th>3</th>\n",
       "      <td>635</td>\n",
       "      <td>585</td>\n",
       "      <td>625</td>\n",
       "      <td>615</td>\n",
       "      <td>0</td>\n",
       "      <td>0</td>\n",
       "      <td>0</td>\n",
       "      <td>0</td>\n",
       "      <td>0</td>\n",
       "      <td>0</td>\n",
       "      <td>615.000000</td>\n",
       "    </tr>\n",
       "    <tr>\n",
       "      <th>4</th>\n",
       "      <td>545</td>\n",
       "      <td>625</td>\n",
       "      <td>465</td>\n",
       "      <td>0</td>\n",
       "      <td>233</td>\n",
       "      <td>0</td>\n",
       "      <td>0</td>\n",
       "      <td>0</td>\n",
       "      <td>0</td>\n",
       "      <td>0</td>\n",
       "      <td>545.000000</td>\n",
       "    </tr>\n",
       "    <tr>\n",
       "      <th>...</th>\n",
       "      <td>...</td>\n",
       "      <td>...</td>\n",
       "      <td>...</td>\n",
       "      <td>...</td>\n",
       "      <td>...</td>\n",
       "      <td>...</td>\n",
       "      <td>...</td>\n",
       "      <td>...</td>\n",
       "      <td>...</td>\n",
       "      <td>...</td>\n",
       "      <td>...</td>\n",
       "    </tr>\n",
       "    <tr>\n",
       "      <th>3993</th>\n",
       "      <td>365</td>\n",
       "      <td>334</td>\n",
       "      <td>475</td>\n",
       "      <td>345</td>\n",
       "      <td>0</td>\n",
       "      <td>0</td>\n",
       "      <td>0</td>\n",
       "      <td>0</td>\n",
       "      <td>0</td>\n",
       "      <td>0</td>\n",
       "      <td>391.333333</td>\n",
       "    </tr>\n",
       "    <tr>\n",
       "      <th>3994</th>\n",
       "      <td>415</td>\n",
       "      <td>410</td>\n",
       "      <td>535</td>\n",
       "      <td>325</td>\n",
       "      <td>420</td>\n",
       "      <td>0</td>\n",
       "      <td>0</td>\n",
       "      <td>0</td>\n",
       "      <td>0</td>\n",
       "      <td>0</td>\n",
       "      <td>453.333333</td>\n",
       "    </tr>\n",
       "    <tr>\n",
       "      <th>3995</th>\n",
       "      <td>475</td>\n",
       "      <td>475</td>\n",
       "      <td>465</td>\n",
       "      <td>405</td>\n",
       "      <td>0</td>\n",
       "      <td>0</td>\n",
       "      <td>0</td>\n",
       "      <td>0</td>\n",
       "      <td>0</td>\n",
       "      <td>0</td>\n",
       "      <td>471.666667</td>\n",
       "    </tr>\n",
       "    <tr>\n",
       "      <th>3996</th>\n",
       "      <td>450</td>\n",
       "      <td>410</td>\n",
       "      <td>320</td>\n",
       "      <td>445</td>\n",
       "      <td>0</td>\n",
       "      <td>438</td>\n",
       "      <td>0</td>\n",
       "      <td>0</td>\n",
       "      <td>0</td>\n",
       "      <td>0</td>\n",
       "      <td>393.333333</td>\n",
       "    </tr>\n",
       "    <tr>\n",
       "      <th>3997</th>\n",
       "      <td>565</td>\n",
       "      <td>515</td>\n",
       "      <td>464</td>\n",
       "      <td>435</td>\n",
       "      <td>0</td>\n",
       "      <td>0</td>\n",
       "      <td>0</td>\n",
       "      <td>0</td>\n",
       "      <td>0</td>\n",
       "      <td>0</td>\n",
       "      <td>514.666667</td>\n",
       "    </tr>\n",
       "  </tbody>\n",
       "</table>\n",
       "<p>3998 rows × 11 columns</p>\n",
       "</div>"
      ],
      "text/plain": [
       "      English  Logical  Quant  ComputerProgramming  ElectronicsAndSemicon  \\\n",
       "0         515      585    525                  445                      0   \n",
       "1         695      610    780                    0                    466   \n",
       "2         615      545    370                  395                      0   \n",
       "3         635      585    625                  615                      0   \n",
       "4         545      625    465                    0                    233   \n",
       "...       ...      ...    ...                  ...                    ...   \n",
       "3993      365      334    475                  345                      0   \n",
       "3994      415      410    535                  325                    420   \n",
       "3995      475      475    465                  405                      0   \n",
       "3996      450      410    320                  445                      0   \n",
       "3997      565      515    464                  435                      0   \n",
       "\n",
       "      ComputerScience  MechanicalEngg  ElectricalEngg  TelecomEngg  CivilEngg  \\\n",
       "0                   0               0               0            0          0   \n",
       "1                   0               0               0            0          0   \n",
       "2                   0               0               0            0          0   \n",
       "3                   0               0               0            0          0   \n",
       "4                   0               0               0            0          0   \n",
       "...               ...             ...             ...          ...        ...   \n",
       "3993                0               0               0            0          0   \n",
       "3994                0               0               0            0          0   \n",
       "3995                0               0               0            0          0   \n",
       "3996              438               0               0            0          0   \n",
       "3997                0               0               0            0          0   \n",
       "\n",
       "         Average  \n",
       "0     541.666667  \n",
       "1     695.000000  \n",
       "2     510.000000  \n",
       "3     615.000000  \n",
       "4     545.000000  \n",
       "...          ...  \n",
       "3993  391.333333  \n",
       "3994  453.333333  \n",
       "3995  471.666667  \n",
       "3996  393.333333  \n",
       "3997  514.666667  \n",
       "\n",
       "[3998 rows x 11 columns]"
      ]
     },
     "execution_count": 279,
     "metadata": {},
     "output_type": "execute_result"
    }
   ],
   "source": [
    "amcat_score"
   ]
  },
  {
   "cell_type": "code",
   "execution_count": 280,
   "id": "93edc129",
   "metadata": {},
   "outputs": [
    {
     "name": "stderr",
     "output_type": "stream",
     "text": [
      "C:\\Users\\dell\\AppData\\Local\\Temp/ipykernel_6224/1239779818.py:1: SettingWithCopyWarning: \n",
      "A value is trying to be set on a copy of a slice from a DataFrame.\n",
      "Try using .loc[row_indexer,col_indexer] = value instead\n",
      "\n",
      "See the caveats in the documentation: https://pandas.pydata.org/pandas-docs/stable/user_guide/indexing.html#returning-a-view-versus-a-copy\n",
      "  amcat_score['Average_amcat_percentage'] = (amcat_score['Average']/900)*100\n"
     ]
    }
   ],
   "source": [
    "amcat_score['Average_amcat_percentage'] = (amcat_score['Average']/900)*100\n"
   ]
  },
  {
   "cell_type": "code",
   "execution_count": 281,
   "id": "4b5bd13c",
   "metadata": {},
   "outputs": [
    {
     "data": {
      "text/html": [
       "<div>\n",
       "<style scoped>\n",
       "    .dataframe tbody tr th:only-of-type {\n",
       "        vertical-align: middle;\n",
       "    }\n",
       "\n",
       "    .dataframe tbody tr th {\n",
       "        vertical-align: top;\n",
       "    }\n",
       "\n",
       "    .dataframe thead th {\n",
       "        text-align: right;\n",
       "    }\n",
       "</style>\n",
       "<table border=\"1\" class=\"dataframe\">\n",
       "  <thead>\n",
       "    <tr style=\"text-align: right;\">\n",
       "      <th></th>\n",
       "      <th>English</th>\n",
       "      <th>Logical</th>\n",
       "      <th>Quant</th>\n",
       "      <th>ComputerProgramming</th>\n",
       "      <th>ElectronicsAndSemicon</th>\n",
       "      <th>ComputerScience</th>\n",
       "      <th>MechanicalEngg</th>\n",
       "      <th>ElectricalEngg</th>\n",
       "      <th>TelecomEngg</th>\n",
       "      <th>CivilEngg</th>\n",
       "      <th>Average</th>\n",
       "      <th>Average_amcat_percentage</th>\n",
       "    </tr>\n",
       "  </thead>\n",
       "  <tbody>\n",
       "    <tr>\n",
       "      <th>0</th>\n",
       "      <td>515</td>\n",
       "      <td>585</td>\n",
       "      <td>525</td>\n",
       "      <td>445</td>\n",
       "      <td>0</td>\n",
       "      <td>0</td>\n",
       "      <td>0</td>\n",
       "      <td>0</td>\n",
       "      <td>0</td>\n",
       "      <td>0</td>\n",
       "      <td>541.666667</td>\n",
       "      <td>60.185185</td>\n",
       "    </tr>\n",
       "    <tr>\n",
       "      <th>1</th>\n",
       "      <td>695</td>\n",
       "      <td>610</td>\n",
       "      <td>780</td>\n",
       "      <td>0</td>\n",
       "      <td>466</td>\n",
       "      <td>0</td>\n",
       "      <td>0</td>\n",
       "      <td>0</td>\n",
       "      <td>0</td>\n",
       "      <td>0</td>\n",
       "      <td>695.000000</td>\n",
       "      <td>77.222222</td>\n",
       "    </tr>\n",
       "    <tr>\n",
       "      <th>2</th>\n",
       "      <td>615</td>\n",
       "      <td>545</td>\n",
       "      <td>370</td>\n",
       "      <td>395</td>\n",
       "      <td>0</td>\n",
       "      <td>0</td>\n",
       "      <td>0</td>\n",
       "      <td>0</td>\n",
       "      <td>0</td>\n",
       "      <td>0</td>\n",
       "      <td>510.000000</td>\n",
       "      <td>56.666667</td>\n",
       "    </tr>\n",
       "    <tr>\n",
       "      <th>3</th>\n",
       "      <td>635</td>\n",
       "      <td>585</td>\n",
       "      <td>625</td>\n",
       "      <td>615</td>\n",
       "      <td>0</td>\n",
       "      <td>0</td>\n",
       "      <td>0</td>\n",
       "      <td>0</td>\n",
       "      <td>0</td>\n",
       "      <td>0</td>\n",
       "      <td>615.000000</td>\n",
       "      <td>68.333333</td>\n",
       "    </tr>\n",
       "    <tr>\n",
       "      <th>4</th>\n",
       "      <td>545</td>\n",
       "      <td>625</td>\n",
       "      <td>465</td>\n",
       "      <td>0</td>\n",
       "      <td>233</td>\n",
       "      <td>0</td>\n",
       "      <td>0</td>\n",
       "      <td>0</td>\n",
       "      <td>0</td>\n",
       "      <td>0</td>\n",
       "      <td>545.000000</td>\n",
       "      <td>60.555556</td>\n",
       "    </tr>\n",
       "    <tr>\n",
       "      <th>...</th>\n",
       "      <td>...</td>\n",
       "      <td>...</td>\n",
       "      <td>...</td>\n",
       "      <td>...</td>\n",
       "      <td>...</td>\n",
       "      <td>...</td>\n",
       "      <td>...</td>\n",
       "      <td>...</td>\n",
       "      <td>...</td>\n",
       "      <td>...</td>\n",
       "      <td>...</td>\n",
       "      <td>...</td>\n",
       "    </tr>\n",
       "    <tr>\n",
       "      <th>3993</th>\n",
       "      <td>365</td>\n",
       "      <td>334</td>\n",
       "      <td>475</td>\n",
       "      <td>345</td>\n",
       "      <td>0</td>\n",
       "      <td>0</td>\n",
       "      <td>0</td>\n",
       "      <td>0</td>\n",
       "      <td>0</td>\n",
       "      <td>0</td>\n",
       "      <td>391.333333</td>\n",
       "      <td>43.481481</td>\n",
       "    </tr>\n",
       "    <tr>\n",
       "      <th>3994</th>\n",
       "      <td>415</td>\n",
       "      <td>410</td>\n",
       "      <td>535</td>\n",
       "      <td>325</td>\n",
       "      <td>420</td>\n",
       "      <td>0</td>\n",
       "      <td>0</td>\n",
       "      <td>0</td>\n",
       "      <td>0</td>\n",
       "      <td>0</td>\n",
       "      <td>453.333333</td>\n",
       "      <td>50.370370</td>\n",
       "    </tr>\n",
       "    <tr>\n",
       "      <th>3995</th>\n",
       "      <td>475</td>\n",
       "      <td>475</td>\n",
       "      <td>465</td>\n",
       "      <td>405</td>\n",
       "      <td>0</td>\n",
       "      <td>0</td>\n",
       "      <td>0</td>\n",
       "      <td>0</td>\n",
       "      <td>0</td>\n",
       "      <td>0</td>\n",
       "      <td>471.666667</td>\n",
       "      <td>52.407407</td>\n",
       "    </tr>\n",
       "    <tr>\n",
       "      <th>3996</th>\n",
       "      <td>450</td>\n",
       "      <td>410</td>\n",
       "      <td>320</td>\n",
       "      <td>445</td>\n",
       "      <td>0</td>\n",
       "      <td>438</td>\n",
       "      <td>0</td>\n",
       "      <td>0</td>\n",
       "      <td>0</td>\n",
       "      <td>0</td>\n",
       "      <td>393.333333</td>\n",
       "      <td>43.703704</td>\n",
       "    </tr>\n",
       "    <tr>\n",
       "      <th>3997</th>\n",
       "      <td>565</td>\n",
       "      <td>515</td>\n",
       "      <td>464</td>\n",
       "      <td>435</td>\n",
       "      <td>0</td>\n",
       "      <td>0</td>\n",
       "      <td>0</td>\n",
       "      <td>0</td>\n",
       "      <td>0</td>\n",
       "      <td>0</td>\n",
       "      <td>514.666667</td>\n",
       "      <td>57.185185</td>\n",
       "    </tr>\n",
       "  </tbody>\n",
       "</table>\n",
       "<p>3998 rows × 12 columns</p>\n",
       "</div>"
      ],
      "text/plain": [
       "      English  Logical  Quant  ComputerProgramming  ElectronicsAndSemicon  \\\n",
       "0         515      585    525                  445                      0   \n",
       "1         695      610    780                    0                    466   \n",
       "2         615      545    370                  395                      0   \n",
       "3         635      585    625                  615                      0   \n",
       "4         545      625    465                    0                    233   \n",
       "...       ...      ...    ...                  ...                    ...   \n",
       "3993      365      334    475                  345                      0   \n",
       "3994      415      410    535                  325                    420   \n",
       "3995      475      475    465                  405                      0   \n",
       "3996      450      410    320                  445                      0   \n",
       "3997      565      515    464                  435                      0   \n",
       "\n",
       "      ComputerScience  MechanicalEngg  ElectricalEngg  TelecomEngg  CivilEngg  \\\n",
       "0                   0               0               0            0          0   \n",
       "1                   0               0               0            0          0   \n",
       "2                   0               0               0            0          0   \n",
       "3                   0               0               0            0          0   \n",
       "4                   0               0               0            0          0   \n",
       "...               ...             ...             ...          ...        ...   \n",
       "3993                0               0               0            0          0   \n",
       "3994                0               0               0            0          0   \n",
       "3995                0               0               0            0          0   \n",
       "3996              438               0               0            0          0   \n",
       "3997                0               0               0            0          0   \n",
       "\n",
       "         Average  Average_amcat_percentage  \n",
       "0     541.666667                 60.185185  \n",
       "1     695.000000                 77.222222  \n",
       "2     510.000000                 56.666667  \n",
       "3     615.000000                 68.333333  \n",
       "4     545.000000                 60.555556  \n",
       "...          ...                       ...  \n",
       "3993  391.333333                 43.481481  \n",
       "3994  453.333333                 50.370370  \n",
       "3995  471.666667                 52.407407  \n",
       "3996  393.333333                 43.703704  \n",
       "3997  514.666667                 57.185185  \n",
       "\n",
       "[3998 rows x 12 columns]"
      ]
     },
     "execution_count": 281,
     "metadata": {},
     "output_type": "execute_result"
    }
   ],
   "source": [
    "amcat_score"
   ]
  },
  {
   "cell_type": "code",
   "execution_count": 282,
   "id": "c596f5ee",
   "metadata": {},
   "outputs": [
    {
     "name": "stderr",
     "output_type": "stream",
     "text": [
      "C:\\Users\\dell\\AppData\\Local\\Temp/ipykernel_6224/2853944999.py:1: SettingWithCopyWarning: \n",
      "A value is trying to be set on a copy of a slice from a DataFrame.\n",
      "Try using .loc[row_indexer,col_indexer] = value instead\n",
      "\n",
      "See the caveats in the documentation: https://pandas.pydata.org/pandas-docs/stable/user_guide/indexing.html#returning-a-view-versus-a-copy\n",
      "  amcat_score['10percentage'] = df_['10percentage']\n",
      "C:\\Users\\dell\\AppData\\Local\\Temp/ipykernel_6224/2853944999.py:2: SettingWithCopyWarning: \n",
      "A value is trying to be set on a copy of a slice from a DataFrame.\n",
      "Try using .loc[row_indexer,col_indexer] = value instead\n",
      "\n",
      "See the caveats in the documentation: https://pandas.pydata.org/pandas-docs/stable/user_guide/indexing.html#returning-a-view-versus-a-copy\n",
      "  amcat_score['12percentage'] = df_['12percentage']\n",
      "C:\\Users\\dell\\AppData\\Local\\Temp/ipykernel_6224/2853944999.py:3: SettingWithCopyWarning: \n",
      "A value is trying to be set on a copy of a slice from a DataFrame.\n",
      "Try using .loc[row_indexer,col_indexer] = value instead\n",
      "\n",
      "See the caveats in the documentation: https://pandas.pydata.org/pandas-docs/stable/user_guide/indexing.html#returning-a-view-versus-a-copy\n",
      "  amcat_score['collegeGPA'] = df_['collegeGPA']\n"
     ]
    }
   ],
   "source": [
    "amcat_score['10percentage'] = df_['10percentage']\n",
    "amcat_score['12percentage'] = df_['12percentage']\n",
    "amcat_score['collegeGPA'] = df_['collegeGPA']"
   ]
  },
  {
   "cell_type": "code",
   "execution_count": 283,
   "id": "e477e7a1",
   "metadata": {},
   "outputs": [
    {
     "data": {
      "text/html": [
       "<div>\n",
       "<style scoped>\n",
       "    .dataframe tbody tr th:only-of-type {\n",
       "        vertical-align: middle;\n",
       "    }\n",
       "\n",
       "    .dataframe tbody tr th {\n",
       "        vertical-align: top;\n",
       "    }\n",
       "\n",
       "    .dataframe thead th {\n",
       "        text-align: right;\n",
       "    }\n",
       "</style>\n",
       "<table border=\"1\" class=\"dataframe\">\n",
       "  <thead>\n",
       "    <tr style=\"text-align: right;\">\n",
       "      <th></th>\n",
       "      <th>English</th>\n",
       "      <th>Logical</th>\n",
       "      <th>Quant</th>\n",
       "      <th>ComputerProgramming</th>\n",
       "      <th>ElectronicsAndSemicon</th>\n",
       "      <th>ComputerScience</th>\n",
       "      <th>MechanicalEngg</th>\n",
       "      <th>ElectricalEngg</th>\n",
       "      <th>TelecomEngg</th>\n",
       "      <th>CivilEngg</th>\n",
       "      <th>Average</th>\n",
       "      <th>Average_amcat_percentage</th>\n",
       "      <th>10percentage</th>\n",
       "      <th>12percentage</th>\n",
       "      <th>collegeGPA</th>\n",
       "    </tr>\n",
       "  </thead>\n",
       "  <tbody>\n",
       "    <tr>\n",
       "      <th>0</th>\n",
       "      <td>515</td>\n",
       "      <td>585</td>\n",
       "      <td>525</td>\n",
       "      <td>445</td>\n",
       "      <td>0</td>\n",
       "      <td>0</td>\n",
       "      <td>0</td>\n",
       "      <td>0</td>\n",
       "      <td>0</td>\n",
       "      <td>0</td>\n",
       "      <td>541.666667</td>\n",
       "      <td>60.185185</td>\n",
       "      <td>84.30</td>\n",
       "      <td>95.80</td>\n",
       "      <td>7.8</td>\n",
       "    </tr>\n",
       "    <tr>\n",
       "      <th>1</th>\n",
       "      <td>695</td>\n",
       "      <td>610</td>\n",
       "      <td>780</td>\n",
       "      <td>0</td>\n",
       "      <td>466</td>\n",
       "      <td>0</td>\n",
       "      <td>0</td>\n",
       "      <td>0</td>\n",
       "      <td>0</td>\n",
       "      <td>0</td>\n",
       "      <td>695.000000</td>\n",
       "      <td>77.222222</td>\n",
       "      <td>85.40</td>\n",
       "      <td>85.00</td>\n",
       "      <td>7.0</td>\n",
       "    </tr>\n",
       "    <tr>\n",
       "      <th>2</th>\n",
       "      <td>615</td>\n",
       "      <td>545</td>\n",
       "      <td>370</td>\n",
       "      <td>395</td>\n",
       "      <td>0</td>\n",
       "      <td>0</td>\n",
       "      <td>0</td>\n",
       "      <td>0</td>\n",
       "      <td>0</td>\n",
       "      <td>0</td>\n",
       "      <td>510.000000</td>\n",
       "      <td>56.666667</td>\n",
       "      <td>85.00</td>\n",
       "      <td>68.20</td>\n",
       "      <td>7.0</td>\n",
       "    </tr>\n",
       "    <tr>\n",
       "      <th>3</th>\n",
       "      <td>635</td>\n",
       "      <td>585</td>\n",
       "      <td>625</td>\n",
       "      <td>615</td>\n",
       "      <td>0</td>\n",
       "      <td>0</td>\n",
       "      <td>0</td>\n",
       "      <td>0</td>\n",
       "      <td>0</td>\n",
       "      <td>0</td>\n",
       "      <td>615.000000</td>\n",
       "      <td>68.333333</td>\n",
       "      <td>85.60</td>\n",
       "      <td>83.60</td>\n",
       "      <td>7.5</td>\n",
       "    </tr>\n",
       "    <tr>\n",
       "      <th>4</th>\n",
       "      <td>545</td>\n",
       "      <td>625</td>\n",
       "      <td>465</td>\n",
       "      <td>0</td>\n",
       "      <td>233</td>\n",
       "      <td>0</td>\n",
       "      <td>0</td>\n",
       "      <td>0</td>\n",
       "      <td>0</td>\n",
       "      <td>0</td>\n",
       "      <td>545.000000</td>\n",
       "      <td>60.555556</td>\n",
       "      <td>78.00</td>\n",
       "      <td>76.80</td>\n",
       "      <td>7.4</td>\n",
       "    </tr>\n",
       "    <tr>\n",
       "      <th>...</th>\n",
       "      <td>...</td>\n",
       "      <td>...</td>\n",
       "      <td>...</td>\n",
       "      <td>...</td>\n",
       "      <td>...</td>\n",
       "      <td>...</td>\n",
       "      <td>...</td>\n",
       "      <td>...</td>\n",
       "      <td>...</td>\n",
       "      <td>...</td>\n",
       "      <td>...</td>\n",
       "      <td>...</td>\n",
       "      <td>...</td>\n",
       "      <td>...</td>\n",
       "      <td>...</td>\n",
       "    </tr>\n",
       "    <tr>\n",
       "      <th>3993</th>\n",
       "      <td>365</td>\n",
       "      <td>334</td>\n",
       "      <td>475</td>\n",
       "      <td>345</td>\n",
       "      <td>0</td>\n",
       "      <td>0</td>\n",
       "      <td>0</td>\n",
       "      <td>0</td>\n",
       "      <td>0</td>\n",
       "      <td>0</td>\n",
       "      <td>391.333333</td>\n",
       "      <td>43.481481</td>\n",
       "      <td>52.09</td>\n",
       "      <td>55.50</td>\n",
       "      <td>6.2</td>\n",
       "    </tr>\n",
       "    <tr>\n",
       "      <th>3994</th>\n",
       "      <td>415</td>\n",
       "      <td>410</td>\n",
       "      <td>535</td>\n",
       "      <td>325</td>\n",
       "      <td>420</td>\n",
       "      <td>0</td>\n",
       "      <td>0</td>\n",
       "      <td>0</td>\n",
       "      <td>0</td>\n",
       "      <td>0</td>\n",
       "      <td>453.333333</td>\n",
       "      <td>50.370370</td>\n",
       "      <td>90.00</td>\n",
       "      <td>93.00</td>\n",
       "      <td>7.7</td>\n",
       "    </tr>\n",
       "    <tr>\n",
       "      <th>3995</th>\n",
       "      <td>475</td>\n",
       "      <td>475</td>\n",
       "      <td>465</td>\n",
       "      <td>405</td>\n",
       "      <td>0</td>\n",
       "      <td>0</td>\n",
       "      <td>0</td>\n",
       "      <td>0</td>\n",
       "      <td>0</td>\n",
       "      <td>0</td>\n",
       "      <td>471.666667</td>\n",
       "      <td>52.407407</td>\n",
       "      <td>81.86</td>\n",
       "      <td>65.50</td>\n",
       "      <td>7.0</td>\n",
       "    </tr>\n",
       "    <tr>\n",
       "      <th>3996</th>\n",
       "      <td>450</td>\n",
       "      <td>410</td>\n",
       "      <td>320</td>\n",
       "      <td>445</td>\n",
       "      <td>0</td>\n",
       "      <td>438</td>\n",
       "      <td>0</td>\n",
       "      <td>0</td>\n",
       "      <td>0</td>\n",
       "      <td>0</td>\n",
       "      <td>393.333333</td>\n",
       "      <td>43.703704</td>\n",
       "      <td>78.72</td>\n",
       "      <td>69.88</td>\n",
       "      <td>7.0</td>\n",
       "    </tr>\n",
       "    <tr>\n",
       "      <th>3997</th>\n",
       "      <td>565</td>\n",
       "      <td>515</td>\n",
       "      <td>464</td>\n",
       "      <td>435</td>\n",
       "      <td>0</td>\n",
       "      <td>0</td>\n",
       "      <td>0</td>\n",
       "      <td>0</td>\n",
       "      <td>0</td>\n",
       "      <td>0</td>\n",
       "      <td>514.666667</td>\n",
       "      <td>57.185185</td>\n",
       "      <td>70.60</td>\n",
       "      <td>68.00</td>\n",
       "      <td>7.0</td>\n",
       "    </tr>\n",
       "  </tbody>\n",
       "</table>\n",
       "<p>3998 rows × 15 columns</p>\n",
       "</div>"
      ],
      "text/plain": [
       "      English  Logical  Quant  ComputerProgramming  ElectronicsAndSemicon  \\\n",
       "0         515      585    525                  445                      0   \n",
       "1         695      610    780                    0                    466   \n",
       "2         615      545    370                  395                      0   \n",
       "3         635      585    625                  615                      0   \n",
       "4         545      625    465                    0                    233   \n",
       "...       ...      ...    ...                  ...                    ...   \n",
       "3993      365      334    475                  345                      0   \n",
       "3994      415      410    535                  325                    420   \n",
       "3995      475      475    465                  405                      0   \n",
       "3996      450      410    320                  445                      0   \n",
       "3997      565      515    464                  435                      0   \n",
       "\n",
       "      ComputerScience  MechanicalEngg  ElectricalEngg  TelecomEngg  CivilEngg  \\\n",
       "0                   0               0               0            0          0   \n",
       "1                   0               0               0            0          0   \n",
       "2                   0               0               0            0          0   \n",
       "3                   0               0               0            0          0   \n",
       "4                   0               0               0            0          0   \n",
       "...               ...             ...             ...          ...        ...   \n",
       "3993                0               0               0            0          0   \n",
       "3994                0               0               0            0          0   \n",
       "3995                0               0               0            0          0   \n",
       "3996              438               0               0            0          0   \n",
       "3997                0               0               0            0          0   \n",
       "\n",
       "         Average  Average_amcat_percentage  10percentage  12percentage  \\\n",
       "0     541.666667                 60.185185         84.30         95.80   \n",
       "1     695.000000                 77.222222         85.40         85.00   \n",
       "2     510.000000                 56.666667         85.00         68.20   \n",
       "3     615.000000                 68.333333         85.60         83.60   \n",
       "4     545.000000                 60.555556         78.00         76.80   \n",
       "...          ...                       ...           ...           ...   \n",
       "3993  391.333333                 43.481481         52.09         55.50   \n",
       "3994  453.333333                 50.370370         90.00         93.00   \n",
       "3995  471.666667                 52.407407         81.86         65.50   \n",
       "3996  393.333333                 43.703704         78.72         69.88   \n",
       "3997  514.666667                 57.185185         70.60         68.00   \n",
       "\n",
       "      collegeGPA  \n",
       "0            7.8  \n",
       "1            7.0  \n",
       "2            7.0  \n",
       "3            7.5  \n",
       "4            7.4  \n",
       "...          ...  \n",
       "3993         6.2  \n",
       "3994         7.7  \n",
       "3995         7.0  \n",
       "3996         7.0  \n",
       "3997         7.0  \n",
       "\n",
       "[3998 rows x 15 columns]"
      ]
     },
     "execution_count": 283,
     "metadata": {},
     "output_type": "execute_result"
    }
   ],
   "source": [
    "amcat_score\n"
   ]
  },
  {
   "cell_type": "markdown",
   "id": "906baa10",
   "metadata": {},
   "source": [
    "## Is college GPA and AMCAT scores are correlated?\n"
   ]
  },
  {
   "cell_type": "code",
   "execution_count": 284,
   "id": "bd5c7bcf",
   "metadata": {},
   "outputs": [
    {
     "data": {
      "image/png": "[encoded data removed]",
      "text/plain": [
       "<Figure size 576x432 with 2 Axes>"
      ]
     },
     "metadata": {
      "needs_background": "light"
     },
     "output_type": "display_data"
    }
   ],
   "source": [
    "columns_to_plot = amcat_score[['10percentage', '12percentage', 'collegeGPA', 'Average_amcat_percentage']]\n",
    "\n",
    "\n",
    "correlation_matrix = columns_to_plot.corr()\n",
    "\n",
    "\n",
    "plt.figure(figsize=(8, 6))\n",
    "sns.heatmap(correlation_matrix, annot=True, cmap='coolwarm', vmin=-1, vmax=1,fmt=\".2f\")\n",
    "plt.title(\"Correlation Heatmap for Three Variables\")\n",
    "plt.show()"
   ]
  },
  {
   "cell_type": "markdown",
   "id": "59e04511",
   "metadata": {},
   "source": [
    "#### 10th and 12th scores are highly correlated. Also AMCAT score is comparatively high correlation with 10th percentage\n",
    "\n"
   ]
  },
  {
   "cell_type": "code",
   "execution_count": 285,
   "id": "6f4667f7",
   "metadata": {},
   "outputs": [],
   "source": [
    "columns_to_consider = ['ComputerProgramming', 'ElectronicsAndSemicon', 'ComputerScience',\n",
    "                        'MechanicalEngg', 'ElectricalEngg', 'TelecomEngg', 'CivilEngg']"
   ]
  },
  {
   "cell_type": "code",
   "execution_count": 286,
   "id": "27a35989",
   "metadata": {},
   "outputs": [
    {
     "name": "stderr",
     "output_type": "stream",
     "text": [
      "C:\\Users\\dell\\AppData\\Local\\Temp/ipykernel_6224/425971660.py:1: SettingWithCopyWarning: \n",
      "A value is trying to be set on a copy of a slice from a DataFrame.\n",
      "Try using .loc[row_indexer,col_indexer] = value instead\n",
      "\n",
      "See the caveats in the documentation: https://pandas.pydata.org/pandas-docs/stable/user_guide/indexing.html#returning-a-view-versus-a-copy\n",
      "  amcat_score['domain_amcat'] = amcat_score[columns_to_consider].apply(lambda row: row.idxmax() if row.max() != 0 else None, axis=1)\n"
     ]
    }
   ],
   "source": [
    "amcat_score['domain_amcat'] = amcat_score[columns_to_consider].apply(lambda row: row.idxmax() if row.max() != 0 else None, axis=1)\n"
   ]
  },
  {
   "cell_type": "code",
   "execution_count": 287,
   "id": "89d762ed",
   "metadata": {},
   "outputs": [
    {
     "data": {
      "text/html": [
       "<div>\n",
       "<style scoped>\n",
       "    .dataframe tbody tr th:only-of-type {\n",
       "        vertical-align: middle;\n",
       "    }\n",
       "\n",
       "    .dataframe tbody tr th {\n",
       "        vertical-align: top;\n",
       "    }\n",
       "\n",
       "    .dataframe thead th {\n",
       "        text-align: right;\n",
       "    }\n",
       "</style>\n",
       "<table border=\"1\" class=\"dataframe\">\n",
       "  <thead>\n",
       "    <tr style=\"text-align: right;\">\n",
       "      <th></th>\n",
       "      <th>English</th>\n",
       "      <th>Logical</th>\n",
       "      <th>Quant</th>\n",
       "      <th>ComputerProgramming</th>\n",
       "      <th>ElectronicsAndSemicon</th>\n",
       "      <th>ComputerScience</th>\n",
       "      <th>MechanicalEngg</th>\n",
       "      <th>ElectricalEngg</th>\n",
       "      <th>TelecomEngg</th>\n",
       "      <th>CivilEngg</th>\n",
       "      <th>Average</th>\n",
       "      <th>Average_amcat_percentage</th>\n",
       "      <th>10percentage</th>\n",
       "      <th>12percentage</th>\n",
       "      <th>collegeGPA</th>\n",
       "      <th>domain_amcat</th>\n",
       "    </tr>\n",
       "  </thead>\n",
       "  <tbody>\n",
       "    <tr>\n",
       "      <th>0</th>\n",
       "      <td>515</td>\n",
       "      <td>585</td>\n",
       "      <td>525</td>\n",
       "      <td>445</td>\n",
       "      <td>0</td>\n",
       "      <td>0</td>\n",
       "      <td>0</td>\n",
       "      <td>0</td>\n",
       "      <td>0</td>\n",
       "      <td>0</td>\n",
       "      <td>541.666667</td>\n",
       "      <td>60.185185</td>\n",
       "      <td>84.30</td>\n",
       "      <td>95.80</td>\n",
       "      <td>7.8</td>\n",
       "      <td>ComputerProgramming</td>\n",
       "    </tr>\n",
       "    <tr>\n",
       "      <th>1</th>\n",
       "      <td>695</td>\n",
       "      <td>610</td>\n",
       "      <td>780</td>\n",
       "      <td>0</td>\n",
       "      <td>466</td>\n",
       "      <td>0</td>\n",
       "      <td>0</td>\n",
       "      <td>0</td>\n",
       "      <td>0</td>\n",
       "      <td>0</td>\n",
       "      <td>695.000000</td>\n",
       "      <td>77.222222</td>\n",
       "      <td>85.40</td>\n",
       "      <td>85.00</td>\n",
       "      <td>7.0</td>\n",
       "      <td>ElectronicsAndSemicon</td>\n",
       "    </tr>\n",
       "    <tr>\n",
       "      <th>2</th>\n",
       "      <td>615</td>\n",
       "      <td>545</td>\n",
       "      <td>370</td>\n",
       "      <td>395</td>\n",
       "      <td>0</td>\n",
       "      <td>0</td>\n",
       "      <td>0</td>\n",
       "      <td>0</td>\n",
       "      <td>0</td>\n",
       "      <td>0</td>\n",
       "      <td>510.000000</td>\n",
       "      <td>56.666667</td>\n",
       "      <td>85.00</td>\n",
       "      <td>68.20</td>\n",
       "      <td>7.0</td>\n",
       "      <td>ComputerProgramming</td>\n",
       "    </tr>\n",
       "    <tr>\n",
       "      <th>3</th>\n",
       "      <td>635</td>\n",
       "      <td>585</td>\n",
       "      <td>625</td>\n",
       "      <td>615</td>\n",
       "      <td>0</td>\n",
       "      <td>0</td>\n",
       "      <td>0</td>\n",
       "      <td>0</td>\n",
       "      <td>0</td>\n",
       "      <td>0</td>\n",
       "      <td>615.000000</td>\n",
       "      <td>68.333333</td>\n",
       "      <td>85.60</td>\n",
       "      <td>83.60</td>\n",
       "      <td>7.5</td>\n",
       "      <td>ComputerProgramming</td>\n",
       "    </tr>\n",
       "    <tr>\n",
       "      <th>4</th>\n",
       "      <td>545</td>\n",
       "      <td>625</td>\n",
       "      <td>465</td>\n",
       "      <td>0</td>\n",
       "      <td>233</td>\n",
       "      <td>0</td>\n",
       "      <td>0</td>\n",
       "      <td>0</td>\n",
       "      <td>0</td>\n",
       "      <td>0</td>\n",
       "      <td>545.000000</td>\n",
       "      <td>60.555556</td>\n",
       "      <td>78.00</td>\n",
       "      <td>76.80</td>\n",
       "      <td>7.4</td>\n",
       "      <td>ElectronicsAndSemicon</td>\n",
       "    </tr>\n",
       "    <tr>\n",
       "      <th>...</th>\n",
       "      <td>...</td>\n",
       "      <td>...</td>\n",
       "      <td>...</td>\n",
       "      <td>...</td>\n",
       "      <td>...</td>\n",
       "      <td>...</td>\n",
       "      <td>...</td>\n",
       "      <td>...</td>\n",
       "      <td>...</td>\n",
       "      <td>...</td>\n",
       "      <td>...</td>\n",
       "      <td>...</td>\n",
       "      <td>...</td>\n",
       "      <td>...</td>\n",
       "      <td>...</td>\n",
       "      <td>...</td>\n",
       "    </tr>\n",
       "    <tr>\n",
       "      <th>3993</th>\n",
       "      <td>365</td>\n",
       "      <td>334</td>\n",
       "      <td>475</td>\n",
       "      <td>345</td>\n",
       "      <td>0</td>\n",
       "      <td>0</td>\n",
       "      <td>0</td>\n",
       "      <td>0</td>\n",
       "      <td>0</td>\n",
       "      <td>0</td>\n",
       "      <td>391.333333</td>\n",
       "      <td>43.481481</td>\n",
       "      <td>52.09</td>\n",
       "      <td>55.50</td>\n",
       "      <td>6.2</td>\n",
       "      <td>ComputerProgramming</td>\n",
       "    </tr>\n",
       "    <tr>\n",
       "      <th>3994</th>\n",
       "      <td>415</td>\n",
       "      <td>410</td>\n",
       "      <td>535</td>\n",
       "      <td>325</td>\n",
       "      <td>420</td>\n",
       "      <td>0</td>\n",
       "      <td>0</td>\n",
       "      <td>0</td>\n",
       "      <td>0</td>\n",
       "      <td>0</td>\n",
       "      <td>453.333333</td>\n",
       "      <td>50.370370</td>\n",
       "      <td>90.00</td>\n",
       "      <td>93.00</td>\n",
       "      <td>7.7</td>\n",
       "      <td>ElectronicsAndSemicon</td>\n",
       "    </tr>\n",
       "    <tr>\n",
       "      <th>3995</th>\n",
       "      <td>475</td>\n",
       "      <td>475</td>\n",
       "      <td>465</td>\n",
       "      <td>405</td>\n",
       "      <td>0</td>\n",
       "      <td>0</td>\n",
       "      <td>0</td>\n",
       "      <td>0</td>\n",
       "      <td>0</td>\n",
       "      <td>0</td>\n",
       "      <td>471.666667</td>\n",
       "      <td>52.407407</td>\n",
       "      <td>81.86</td>\n",
       "      <td>65.50</td>\n",
       "      <td>7.0</td>\n",
       "      <td>ComputerProgramming</td>\n",
       "    </tr>\n",
       "    <tr>\n",
       "      <th>3996</th>\n",
       "      <td>450</td>\n",
       "      <td>410</td>\n",
       "      <td>320</td>\n",
       "      <td>445</td>\n",
       "      <td>0</td>\n",
       "      <td>438</td>\n",
       "      <td>0</td>\n",
       "      <td>0</td>\n",
       "      <td>0</td>\n",
       "      <td>0</td>\n",
       "      <td>393.333333</td>\n",
       "      <td>43.703704</td>\n",
       "      <td>78.72</td>\n",
       "      <td>69.88</td>\n",
       "      <td>7.0</td>\n",
       "      <td>ComputerProgramming</td>\n",
       "    </tr>\n",
       "    <tr>\n",
       "      <th>3997</th>\n",
       "      <td>565</td>\n",
       "      <td>515</td>\n",
       "      <td>464</td>\n",
       "      <td>435</td>\n",
       "      <td>0</td>\n",
       "      <td>0</td>\n",
       "      <td>0</td>\n",
       "      <td>0</td>\n",
       "      <td>0</td>\n",
       "      <td>0</td>\n",
       "      <td>514.666667</td>\n",
       "      <td>57.185185</td>\n",
       "      <td>70.60</td>\n",
       "      <td>68.00</td>\n",
       "      <td>7.0</td>\n",
       "      <td>ComputerProgramming</td>\n",
       "    </tr>\n",
       "  </tbody>\n",
       "</table>\n",
       "<p>3998 rows × 16 columns</p>\n",
       "</div>"
      ],
      "text/plain": [
       "      English  Logical  Quant  ComputerProgramming  ElectronicsAndSemicon  \\\n",
       "0         515      585    525                  445                      0   \n",
       "1         695      610    780                    0                    466   \n",
       "2         615      545    370                  395                      0   \n",
       "3         635      585    625                  615                      0   \n",
       "4         545      625    465                    0                    233   \n",
       "...       ...      ...    ...                  ...                    ...   \n",
       "3993      365      334    475                  345                      0   \n",
       "3994      415      410    535                  325                    420   \n",
       "3995      475      475    465                  405                      0   \n",
       "3996      450      410    320                  445                      0   \n",
       "3997      565      515    464                  435                      0   \n",
       "\n",
       "      ComputerScience  MechanicalEngg  ElectricalEngg  TelecomEngg  CivilEngg  \\\n",
       "0                   0               0               0            0          0   \n",
       "1                   0               0               0            0          0   \n",
       "2                   0               0               0            0          0   \n",
       "3                   0               0               0            0          0   \n",
       "4                   0               0               0            0          0   \n",
       "...               ...             ...             ...          ...        ...   \n",
       "3993                0               0               0            0          0   \n",
       "3994                0               0               0            0          0   \n",
       "3995                0               0               0            0          0   \n",
       "3996              438               0               0            0          0   \n",
       "3997                0               0               0            0          0   \n",
       "\n",
       "         Average  Average_amcat_percentage  10percentage  12percentage  \\\n",
       "0     541.666667                 60.185185         84.30         95.80   \n",
       "1     695.000000                 77.222222         85.40         85.00   \n",
       "2     510.000000                 56.666667         85.00         68.20   \n",
       "3     615.000000                 68.333333         85.60         83.60   \n",
       "4     545.000000                 60.555556         78.00         76.80   \n",
       "...          ...                       ...           ...           ...   \n",
       "3993  391.333333                 43.481481         52.09         55.50   \n",
       "3994  453.333333                 50.370370         90.00         93.00   \n",
       "3995  471.666667                 52.407407         81.86         65.50   \n",
       "3996  393.333333                 43.703704         78.72         69.88   \n",
       "3997  514.666667                 57.185185         70.60         68.00   \n",
       "\n",
       "      collegeGPA           domain_amcat  \n",
       "0            7.8    ComputerProgramming  \n",
       "1            7.0  ElectronicsAndSemicon  \n",
       "2            7.0    ComputerProgramming  \n",
       "3            7.5    ComputerProgramming  \n",
       "4            7.4  ElectronicsAndSemicon  \n",
       "...          ...                    ...  \n",
       "3993         6.2    ComputerProgramming  \n",
       "3994         7.7  ElectronicsAndSemicon  \n",
       "3995         7.0    ComputerProgramming  \n",
       "3996         7.0    ComputerProgramming  \n",
       "3997         7.0    ComputerProgramming  \n",
       "\n",
       "[3998 rows x 16 columns]"
      ]
     },
     "execution_count": 287,
     "metadata": {},
     "output_type": "execute_result"
    }
   ],
   "source": [
    "amcat_score"
   ]
  },
  {
   "cell_type": "code",
   "execution_count": 288,
   "id": "d252383d",
   "metadata": {},
   "outputs": [
    {
     "name": "stderr",
     "output_type": "stream",
     "text": [
      "C:\\Users\\dell\\anaconda3\\lib\\site-packages\\seaborn\\_base.py:949: FutureWarning: When grouping with a length-1 list-like, you will need to pass a length-1 tuple to get_group in a future version of pandas. Pass `(name,)` instead of `name` to silence this warning.\n",
      "  data_subset = grouped_data.get_group(pd_key)\n",
      "C:\\Users\\dell\\anaconda3\\lib\\site-packages\\seaborn\\_base.py:949: FutureWarning: When grouping with a length-1 list-like, you will need to pass a length-1 tuple to get_group in a future version of pandas. Pass `(name,)` instead of `name` to silence this warning.\n",
      "  data_subset = grouped_data.get_group(pd_key)\n",
      "C:\\Users\\dell\\anaconda3\\lib\\site-packages\\seaborn\\_base.py:949: FutureWarning: When grouping with a length-1 list-like, you will need to pass a length-1 tuple to get_group in a future version of pandas. Pass `(name,)` instead of `name` to silence this warning.\n",
      "  data_subset = grouped_data.get_group(pd_key)\n",
      "C:\\Users\\dell\\anaconda3\\lib\\site-packages\\seaborn\\_base.py:949: FutureWarning: When grouping with a length-1 list-like, you will need to pass a length-1 tuple to get_group in a future version of pandas. Pass `(name,)` instead of `name` to silence this warning.\n",
      "  data_subset = grouped_data.get_group(pd_key)\n",
      "C:\\Users\\dell\\anaconda3\\lib\\site-packages\\seaborn\\_base.py:949: FutureWarning: When grouping with a length-1 list-like, you will need to pass a length-1 tuple to get_group in a future version of pandas. Pass `(name,)` instead of `name` to silence this warning.\n",
      "  data_subset = grouped_data.get_group(pd_key)\n",
      "C:\\Users\\dell\\anaconda3\\lib\\site-packages\\seaborn\\_base.py:949: FutureWarning: When grouping with a length-1 list-like, you will need to pass a length-1 tuple to get_group in a future version of pandas. Pass `(name,)` instead of `name` to silence this warning.\n",
      "  data_subset = grouped_data.get_group(pd_key)\n",
      "C:\\Users\\dell\\anaconda3\\lib\\site-packages\\seaborn\\_base.py:949: FutureWarning: When grouping with a length-1 list-like, you will need to pass a length-1 tuple to get_group in a future version of pandas. Pass `(name,)` instead of `name` to silence this warning.\n",
      "  data_subset = grouped_data.get_group(pd_key)\n"
     ]
    },
    {
     "data": {
      "text/plain": [
       "<AxesSubplot:xlabel='count', ylabel='domain_amcat'>"
      ]
     },
     "execution_count": 288,
     "metadata": {},
     "output_type": "execute_result"
    },
    {
     "data": {
      "image/png": "[encoded data removed]",
      "text/plain": [
       "<Figure size 432x288 with 1 Axes>"
      ]
     },
     "metadata": {
      "needs_background": "light"
     },
     "output_type": "display_data"
    }
   ],
   "source": [
    "sns.countplot(y='domain_amcat',data=amcat_score,hue=\"domain_amcat\")\n"
   ]
  },
  {
   "cell_type": "code",
   "execution_count": 289,
   "id": "97bd63e4",
   "metadata": {},
   "outputs": [
    {
     "name": "stdout",
     "output_type": "stream",
     "text": [
      "ComputerProgramming\n",
      "ElectronicsAndSemicon\n",
      "MechanicalEngg\n",
      "ComputerScience\n",
      "None\n",
      "ElectricalEngg\n",
      "TelecomEngg\n",
      "CivilEngg\n"
     ]
    }
   ],
   "source": [
    "for data in amcat_score['domain_amcat'].unique():\n",
    "    print(data)"
   ]
  },
  {
   "cell_type": "code",
   "execution_count": 290,
   "id": "638d68a5",
   "metadata": {},
   "outputs": [
    {
     "name": "stdout",
     "output_type": "stream",
     "text": [
      "\n"
     ]
    }
   ],
   "source": [
    "for data in amcat_score['domain_amcat'].unique():\n",
    "    if data is None:\n",
    "        print()\n",
    "    elif \"Computer\" in data:\n",
    "        amcat_score.loc[amcat_score['domain_amcat']==data,\"domain_amcat\"]=\"CSE\"\n",
    "    elif \"Electronics\" in data:\n",
    "        amcat_score.loc[amcat_score['domain_amcat']==data,\"domain_amcat\"]=\"ECE\"\n",
    "    elif \"Mechanical\" in data:\n",
    "        amcat_score.loc[amcat_score['domain_amcat']==data,\"domain_amcat\"]=\"MECH\"\n",
    "    elif \"Electrical\" in data:\n",
    "        amcat_score.loc[amcat_score['domain_amcat']==data,\"domain_amcat\"]=\"EEE\"\n",
    "    elif \"Civil\" in data:\n",
    "        amcat_score.loc[amcat_score['domain_amcat']==data,\"domain_amcat\"]=\"CIVIL\"\n",
    "    else:\n",
    "        amcat_score.loc[amcat_score['domain_amcat']==data,\"domain_amcat\"]=\"ECE\""
   ]
  },
  {
   "cell_type": "code",
   "execution_count": 291,
   "id": "920a20cf",
   "metadata": {},
   "outputs": [
    {
     "data": {
      "text/plain": [
       "Specialization\n",
       "CSE                                        1587\n",
       "ECE                                        1281\n",
       "IT                                          683\n",
       "MECH                                        219\n",
       "EEE                                          82\n",
       "civil engineering                            29\n",
       "instrumentation and control engineering      20\n",
       "biotechnology                                15\n",
       "other                                        13\n",
       "chemical engineering                          9\n",
       "automobile/automotive engineering             5\n",
       "instrumentation engineering                   4\n",
       "mechatronics                                  4\n",
       "aeronautical engineering                      3\n",
       "metallurgical engineering                     2\n",
       "biomedical engineering                        2\n",
       "embedded systems technology                   1\n",
       "ceramic engineering                           1\n",
       "polymer technology                            1\n",
       "power systems and automation                  1\n",
       "control and instrumentation engineering       1\n",
       "internal combustion engine                    1\n",
       "Name: count, dtype: int64"
      ]
     },
     "execution_count": 291,
     "metadata": {},
     "output_type": "execute_result"
    }
   ],
   "source": [
    "df_['Specialization'].value_counts()"
   ]
  },
  {
   "cell_type": "code",
   "execution_count": 292,
   "id": "aff7fd56",
   "metadata": {},
   "outputs": [],
   "source": [
    "for data in df_['Specialization'].unique():\n",
    "    if \"civil\" in data.lower():\n",
    "        df_.loc[df_['Specialization']==data,\"Specialization\"]=\"CIVIL\""
   ]
  },
  {
   "cell_type": "markdown",
   "id": "21351a12",
   "metadata": {},
   "source": [
    "## College domain vs AMCAT Domain"
   ]
  },
  {
   "cell_type": "code",
   "execution_count": 293,
   "id": "0d797cd8",
   "metadata": {},
   "outputs": [
    {
     "name": "stdout",
     "output_type": "stream",
     "text": [
      "Chi-square value: 8199.194009530207\n",
      "P-value: 0.0\n",
      "Is the result significant at 0.05 level? Yes\n"
     ]
    }
   ],
   "source": [
    "contingency_table = pd.crosstab(df_['Specialization'], amcat_score['domain_amcat'])\n",
    "chi2, p, _, _ = chi2_contingency(contingency_table)\n",
    "\n",
    "\n",
    "print(f\"Chi-square value: {chi2}\")\n",
    "print(f\"P-value: {p}\")\n",
    "\n",
    "\n",
    "alpha = 0.05\n",
    "print(f\"Is the result significant at {alpha} level? {'Yes' if p < alpha else 'No'}\")"
   ]
  },
  {
   "cell_type": "markdown",
   "id": "e4ca7afb",
   "metadata": {},
   "source": [
    "#### There is significant in college specification and domain of AMCAT"
   ]
  },
  {
   "cell_type": "markdown",
   "id": "4c05c193",
   "metadata": {},
   "source": [
    "## Salary vs Specialization\n"
   ]
  },
  {
   "cell_type": "code",
   "execution_count": 294,
   "id": "95d14897",
   "metadata": {},
   "outputs": [
    {
     "name": "stderr",
     "output_type": "stream",
     "text": [
      "C:\\Users\\dell\\anaconda3\\lib\\site-packages\\seaborn\\categorical.py:640: FutureWarning: SeriesGroupBy.grouper is deprecated and will be removed in a future version of pandas.\n",
      "  positions = grouped.grouper.result_index.to_numpy(dtype=float)\n"
     ]
    },
    {
     "data": {
      "text/plain": [
       "<AxesSubplot:xlabel='Salary', ylabel='Specialization'>"
      ]
     },
     "execution_count": 294,
     "metadata": {},
     "output_type": "execute_result"
    },
    {
     "data": {
      "image/png": "[encoded data removed]",
      "text/plain": [
       "<Figure size 576x432 with 1 Axes>"
      ]
     },
     "metadata": {
      "needs_background": "light"
     },
     "output_type": "display_data"
    }
   ],
   "source": [
    "plt.figure(figsize=(8, 6))\n",
    "sns.boxplot(y='Specialization',x='Salary',data=df_)"
   ]
  },
  {
   "cell_type": "markdown",
   "id": "504f2524",
   "metadata": {},
   "source": [
    "## Students psychology comparison of school marks and college CGPA\n"
   ]
  },
  {
   "cell_type": "code",
   "execution_count": 295,
   "id": "b96cbc66",
   "metadata": {},
   "outputs": [],
   "source": [
    "df_['School_average'] = ((df_['10percentage'] + df_['12percentage'])/2)"
   ]
  },
  {
   "cell_type": "code",
   "execution_count": 296,
   "id": "958223e4",
   "metadata": {},
   "outputs": [
    {
     "data": {
      "text/plain": [
       "count    3964.000000\n",
       "mean       76.238169\n",
       "std         9.437211\n",
       "min        46.465000\n",
       "25%        69.500000\n",
       "50%        76.740000\n",
       "75%        83.500000\n",
       "max        97.045000\n",
       "Name: School_average, dtype: float64"
      ]
     },
     "execution_count": 296,
     "metadata": {},
     "output_type": "execute_result"
    }
   ],
   "source": [
    "df_['School_average'].describe()"
   ]
  },
  {
   "cell_type": "code",
   "execution_count": 297,
   "id": "2f05c9e2",
   "metadata": {},
   "outputs": [
    {
     "name": "stdout",
     "output_type": "stream",
     "text": [
      "Pearson correlation coefficient: 0.40369283005812123\n",
      "P-value: 2.80846540425664e-155\n"
     ]
    }
   ],
   "source": [
    "from scipy.stats import pearsonr\n",
    "\n",
    "correlation_coefficient, p_value = pearsonr(df_['School_average'], df_['collegeGPA'])\n",
    "print(f\"Pearson correlation coefficient: {correlation_coefficient}\")\n",
    "print(f\"P-value: {p_value}\")\n",
    "\n"
   ]
  },
  {
   "cell_type": "code",
   "execution_count": 298,
   "id": "09901c1e",
   "metadata": {},
   "outputs": [
    {
     "data": {
      "image/png": "[encoded data removed]",
      "text/plain": [
       "<Figure size 432x288 with 1 Axes>"
      ]
     },
     "metadata": {
      "needs_background": "light"
     },
     "output_type": "display_data"
    }
   ],
   "source": [
    "# Create a scatter plot for visualization\n",
    "plt.scatter(df_['School_average'], df_['collegeGPA'])\n",
    "plt.xlabel('School Marks')\n",
    "plt.ylabel('College Marks')\n",
    "plt.title('Scatter Plot of School Marks vs College Marks')\n",
    "plt.show()"
   ]
  },
  {
   "cell_type": "markdown",
   "id": "e2199149",
   "metadata": {},
   "source": [
    "#### Since P- value is close to zero, reject H0. There is significant correlation of 0.40\n",
    "\n"
   ]
  },
  {
   "cell_type": "markdown",
   "id": "cfd9c71a",
   "metadata": {},
   "source": [
    "## AMCAT Score vs Salary\n"
   ]
  },
  {
   "cell_type": "code",
   "execution_count": 299,
   "id": "af3a47bc",
   "metadata": {},
   "outputs": [
    {
     "ename": "ValueError",
     "evalue": "x and y must have the same length.",
     "output_type": "error",
     "traceback": [
      "\u001b[1;31m---------------------------------------------------------------------------\u001b[0m",
      "\u001b[1;31mValueError\u001b[0m                                Traceback (most recent call last)",
      "\u001b[1;32m~\\AppData\\Local\\Temp/ipykernel_6224/832552708.py\u001b[0m in \u001b[0;36m<module>\u001b[1;34m\u001b[0m\n\u001b[1;32m----> 1\u001b[1;33m \u001b[0mcorrelation_coefficient\u001b[0m\u001b[1;33m,\u001b[0m \u001b[0mp_value\u001b[0m \u001b[1;33m=\u001b[0m \u001b[0mpearsonr\u001b[0m\u001b[1;33m(\u001b[0m\u001b[0mamcat_score\u001b[0m\u001b[1;33m[\u001b[0m\u001b[1;34m'Average_amcat_percentage'\u001b[0m\u001b[1;33m]\u001b[0m\u001b[1;33m,\u001b[0m \u001b[0mdf_\u001b[0m\u001b[1;33m[\u001b[0m\u001b[1;34m'Salary'\u001b[0m\u001b[1;33m]\u001b[0m\u001b[1;33m)\u001b[0m\u001b[1;33m\u001b[0m\u001b[1;33m\u001b[0m\u001b[0m\n\u001b[0m\u001b[0;32m      2\u001b[0m \u001b[0mprint\u001b[0m\u001b[1;33m(\u001b[0m\u001b[1;34mf\"Pearson correlation coefficient: {correlation_coefficient}\"\u001b[0m\u001b[1;33m)\u001b[0m\u001b[1;33m\u001b[0m\u001b[1;33m\u001b[0m\u001b[0m\n\u001b[0;32m      3\u001b[0m \u001b[0mprint\u001b[0m\u001b[1;33m(\u001b[0m\u001b[1;34mf\"P-value: {p_value}\"\u001b[0m\u001b[1;33m)\u001b[0m\u001b[1;33m\u001b[0m\u001b[1;33m\u001b[0m\u001b[0m\n",
      "\u001b[1;32m~\\anaconda3\\lib\\site-packages\\scipy\\stats\\stats.py\u001b[0m in \u001b[0;36mpearsonr\u001b[1;34m(x, y)\u001b[0m\n\u001b[0;32m   4011\u001b[0m     \u001b[0mn\u001b[0m \u001b[1;33m=\u001b[0m \u001b[0mlen\u001b[0m\u001b[1;33m(\u001b[0m\u001b[0mx\u001b[0m\u001b[1;33m)\u001b[0m\u001b[1;33m\u001b[0m\u001b[1;33m\u001b[0m\u001b[0m\n\u001b[0;32m   4012\u001b[0m     \u001b[1;32mif\u001b[0m \u001b[0mn\u001b[0m \u001b[1;33m!=\u001b[0m \u001b[0mlen\u001b[0m\u001b[1;33m(\u001b[0m\u001b[0my\u001b[0m\u001b[1;33m)\u001b[0m\u001b[1;33m:\u001b[0m\u001b[1;33m\u001b[0m\u001b[1;33m\u001b[0m\u001b[0m\n\u001b[1;32m-> 4013\u001b[1;33m         \u001b[1;32mraise\u001b[0m \u001b[0mValueError\u001b[0m\u001b[1;33m(\u001b[0m\u001b[1;34m'x and y must have the same length.'\u001b[0m\u001b[1;33m)\u001b[0m\u001b[1;33m\u001b[0m\u001b[1;33m\u001b[0m\u001b[0m\n\u001b[0m\u001b[0;32m   4014\u001b[0m \u001b[1;33m\u001b[0m\u001b[0m\n\u001b[0;32m   4015\u001b[0m     \u001b[1;32mif\u001b[0m \u001b[0mn\u001b[0m \u001b[1;33m<\u001b[0m \u001b[1;36m2\u001b[0m\u001b[1;33m:\u001b[0m\u001b[1;33m\u001b[0m\u001b[1;33m\u001b[0m\u001b[0m\n",
      "\u001b[1;31mValueError\u001b[0m: x and y must have the same length."
     ]
    }
   ],
   "source": [
    "correlation_coefficient, p_value = pearsonr(amcat_score['Average_amcat_percentage'], df_['Salary'])\n",
    "print(f\"Pearson correlation coefficient: {correlation_coefficient}\")\n",
    "print(f\"P-value: {p_value}\")"
   ]
  },
  {
   "cell_type": "code",
   "execution_count": null,
   "id": "ecbb8021",
   "metadata": {},
   "outputs": [],
   "source": [
    "amcat_score['Average_amcat_percentage']"
   ]
  },
  {
   "cell_type": "code",
   "execution_count": null,
   "id": "c8275409",
   "metadata": {},
   "outputs": [],
   "source": [
    "df_['Salary']"
   ]
  },
  {
   "cell_type": "code",
   "execution_count": null,
   "id": "ef24715b",
   "metadata": {},
   "outputs": [],
   "source": [
    "sns.boxenplot(data=df_, x=\"CollegeTier\", y=\"Salary\",hue=\"Gender\")"
   ]
  },
  {
   "cell_type": "code",
   "execution_count": null,
   "id": "009d0388",
   "metadata": {},
   "outputs": [],
   "source": [
    "columns_to_plot = df_[['CollegeTier', 'Salary']]\n",
    "\n",
    "\n",
    "correlation_matrix = columns_to_plot.corr()\n",
    "\n",
    "\n",
    "plt.figure(figsize=(8, 6))\n",
    "sns.heatmap(correlation_matrix, annot=True, cmap='coolwarm', vmin=-1, vmax=1,fmt=\".2f\")\n",
    "plt.title(\"Correlation Heatmap for Three Variables\")\n",
    "plt.show()"
   ]
  },
  {
   "cell_type": "code",
   "execution_count": null,
   "id": "697433d3",
   "metadata": {},
   "outputs": [],
   "source": [
    "df_['JobCity'] = df_['JobCity'].apply(lambda x: x.lower() if isinstance(x, str) else x)"
   ]
  },
  {
   "cell_type": "code",
   "execution_count": null,
   "id": "19bdd1a8",
   "metadata": {},
   "outputs": [],
   "source": [
    "df_['JobCity']"
   ]
  },
  {
   "cell_type": "code",
   "execution_count": null,
   "id": "e36e835d",
   "metadata": {},
   "outputs": [],
   "source": [
    "df_.columns"
   ]
  },
  {
   "cell_type": "code",
   "execution_count": null,
   "id": "c1b5a401",
   "metadata": {},
   "outputs": [],
   "source": [
    "df_['Designation'].unique()\n"
   ]
  },
  {
   "cell_type": "code",
   "execution_count": null,
   "id": "e3b27a75",
   "metadata": {},
   "outputs": [],
   "source": [
    "def clean_row_designation(row): \n",
    "    if 'software' in row:\n",
    "        return 'Software Engineer'\n",
    "    elif 'hardware' in row:\n",
    "        return 'Hardware Engineer'\n",
    "    elif 'associate' in row:\n",
    "        return 'Associate Engineer'\n",
    "    elif 'program' in row:\n",
    "        return 'Programming Analyst'"
   ]
  },
  {
   "cell_type": "code",
   "execution_count": null,
   "id": "609ee6e3",
   "metadata": {},
   "outputs": [],
   "source": [
    "df_['Req_Designation'] = df_['Designation'].apply(clean_row_designation)\n"
   ]
  },
  {
   "cell_type": "code",
   "execution_count": null,
   "id": "22f90751",
   "metadata": {},
   "outputs": [],
   "source": [
    "df_['Req_Designation'].unique()"
   ]
  },
  {
   "cell_type": "code",
   "execution_count": null,
   "id": "3a3ede34",
   "metadata": {},
   "outputs": [],
   "source": []
  },
  {
   "cell_type": "code",
   "execution_count": null,
   "id": "0e118d79",
   "metadata": {},
   "outputs": [],
   "source": [
    "software = df_[df_['Req_Designation'] == 'Software Engineer']"
   ]
  },
  {
   "cell_type": "code",
   "execution_count": null,
   "id": "e2a7f89e",
   "metadata": {},
   "outputs": [],
   "source": [
    "software"
   ]
  },
  {
   "cell_type": "code",
   "execution_count": null,
   "id": "34d7b352",
   "metadata": {},
   "outputs": [],
   "source": [
    "hardware = df_[df_['Req_Designation'] == 'Hardware Engineer']\n",
    "associate = df_[df_['Req_Designation'] == 'Associate Engineer']\n",
    "programming = df_[df_['Req_Designation'] == 'Programming Analyst']"
   ]
  },
  {
   "cell_type": "code",
   "execution_count": 300,
   "id": "f322e4ce",
   "metadata": {},
   "outputs": [
    {
     "ename": "NameError",
     "evalue": "name 'software' is not defined",
     "output_type": "error",
     "traceback": [
      "\u001b[1;31m---------------------------------------------------------------------------\u001b[0m",
      "\u001b[1;31mNameError\u001b[0m                                 Traceback (most recent call last)",
      "\u001b[1;32m~\\AppData\\Local\\Temp/ipykernel_6224/3217333020.py\u001b[0m in \u001b[0;36m<module>\u001b[1;34m\u001b[0m\n\u001b[1;32m----> 1\u001b[1;33m \u001b[0mdataset\u001b[0m \u001b[1;33m=\u001b[0m \u001b[1;33m[\u001b[0m\u001b[0msoftware\u001b[0m\u001b[1;33m,\u001b[0m\u001b[0mhardware\u001b[0m\u001b[1;33m,\u001b[0m\u001b[0massociate\u001b[0m\u001b[1;33m,\u001b[0m\u001b[0mprogramming\u001b[0m\u001b[1;33m]\u001b[0m\u001b[1;33m\u001b[0m\u001b[1;33m\u001b[0m\u001b[0m\n\u001b[0m\u001b[0;32m      2\u001b[0m \u001b[0mdata_label\u001b[0m \u001b[1;33m=\u001b[0m \u001b[1;33m[\u001b[0m\u001b[1;34m'Software Enginnering'\u001b[0m\u001b[1;33m,\u001b[0m \u001b[1;34m'Hardware Engineer'\u001b[0m\u001b[1;33m,\u001b[0m \u001b[1;34m'Associate Engineer'\u001b[0m\u001b[1;33m,\u001b[0m \u001b[1;34m'Programming Analyst'\u001b[0m\u001b[1;33m]\u001b[0m\u001b[1;33m\u001b[0m\u001b[1;33m\u001b[0m\u001b[0m\n",
      "\u001b[1;31mNameError\u001b[0m: name 'software' is not defined"
     ]
    }
   ],
   "source": [
    "dataset = [software,hardware,associate,programming]\n",
    "data_label = ['Software Enginnering', 'Hardware Engineer', 'Associate Engineer', 'Programming Analyst']"
   ]
  },
  {
   "cell_type": "code",
   "execution_count": 301,
   "id": "624cb84c",
   "metadata": {},
   "outputs": [
    {
     "ename": "NameError",
     "evalue": "name 'dataset' is not defined",
     "output_type": "error",
     "traceback": [
      "\u001b[1;31m---------------------------------------------------------------------------\u001b[0m",
      "\u001b[1;31mNameError\u001b[0m                                 Traceback (most recent call last)",
      "\u001b[1;32m~\\AppData\\Local\\Temp/ipykernel_6224/2511304449.py\u001b[0m in \u001b[0;36m<module>\u001b[1;34m\u001b[0m\n\u001b[0;32m      3\u001b[0m \u001b[0malpha\u001b[0m \u001b[1;33m=\u001b[0m \u001b[1;36m0.05\u001b[0m\u001b[1;33m\u001b[0m\u001b[1;33m\u001b[0m\u001b[0m\n\u001b[0;32m      4\u001b[0m \u001b[0mclaimed_mean\u001b[0m \u001b[1;33m=\u001b[0m \u001b[1;36m250000\u001b[0m\u001b[1;33m\u001b[0m\u001b[1;33m\u001b[0m\u001b[0m\n\u001b[1;32m----> 5\u001b[1;33m \u001b[1;32mfor\u001b[0m \u001b[0mi\u001b[0m \u001b[1;32min\u001b[0m \u001b[0mdataset\u001b[0m\u001b[1;33m:\u001b[0m\u001b[1;33m\u001b[0m\u001b[1;33m\u001b[0m\u001b[0m\n\u001b[0m\u001b[0;32m      6\u001b[0m     \u001b[0mt_stat\u001b[0m\u001b[1;33m,\u001b[0m \u001b[0mp_value\u001b[0m \u001b[1;33m=\u001b[0m \u001b[0mttest_1samp\u001b[0m\u001b[1;33m(\u001b[0m\u001b[0mi\u001b[0m\u001b[1;33m[\u001b[0m\u001b[1;34m'Salary'\u001b[0m\u001b[1;33m]\u001b[0m\u001b[1;33m,\u001b[0m \u001b[0mclaimed_mean\u001b[0m\u001b[1;33m)\u001b[0m\u001b[1;33m\u001b[0m\u001b[1;33m\u001b[0m\u001b[0m\n\u001b[0;32m      7\u001b[0m     \u001b[0mprint\u001b[0m\u001b[1;33m(\u001b[0m\u001b[0mt_stat\u001b[0m\u001b[1;33m)\u001b[0m\u001b[1;33m\u001b[0m\u001b[1;33m\u001b[0m\u001b[0m\n",
      "\u001b[1;31mNameError\u001b[0m: name 'dataset' is not defined"
     ]
    }
   ],
   "source": [
    "from scipy.stats import ttest_1samp\n",
    "\n",
    "alpha = 0.05\n",
    "claimed_mean = 250000\n",
    "for i in dataset:\n",
    "    t_stat, p_value = ttest_1samp(i['Salary'], claimed_mean)\n",
    "    print(t_stat)\n",
    "    print(p_value)\n",
    "    data_label = ['Software Enginnering', 'Hardware Engineer', 'Associate Engineer', 'Programming Analyst']\n",
    "    if p_value < alpha:\n",
    "        print(f\"\\nReject the null hypothesis. There is enough evidence to suggest that the average salary is greater than the claimed value.\")\n",
    "    else:\n",
    "        print(f\"\\nFail to reject the null hypothesis. There is not enough evidence to suggest that the average salary is greater than the claimed value.\")"
   ]
  },
  {
   "cell_type": "code",
   "execution_count": 302,
   "id": "d34d8878",
   "metadata": {},
   "outputs": [
    {
     "name": "stderr",
     "output_type": "stream",
     "text": [
      "C:\\Users\\dell\\anaconda3\\lib\\site-packages\\seaborn\\_base.py:949: FutureWarning: When grouping with a length-1 list-like, you will need to pass a length-1 tuple to get_group in a future version of pandas. Pass `(name,)` instead of `name` to silence this warning.\n",
      "  data_subset = grouped_data.get_group(pd_key)\n",
      "C:\\Users\\dell\\anaconda3\\lib\\site-packages\\seaborn\\_base.py:949: FutureWarning: When grouping with a length-1 list-like, you will need to pass a length-1 tuple to get_group in a future version of pandas. Pass `(name,)` instead of `name` to silence this warning.\n",
      "  data_subset = grouped_data.get_group(pd_key)\n",
      "C:\\Users\\dell\\anaconda3\\lib\\site-packages\\seaborn\\_base.py:949: FutureWarning: When grouping with a length-1 list-like, you will need to pass a length-1 tuple to get_group in a future version of pandas. Pass `(name,)` instead of `name` to silence this warning.\n",
      "  data_subset = grouped_data.get_group(pd_key)\n",
      "C:\\Users\\dell\\anaconda3\\lib\\site-packages\\seaborn\\_base.py:949: FutureWarning: When grouping with a length-1 list-like, you will need to pass a length-1 tuple to get_group in a future version of pandas. Pass `(name,)` instead of `name` to silence this warning.\n",
      "  data_subset = grouped_data.get_group(pd_key)\n"
     ]
    },
    {
     "data": {
      "text/plain": [
       "<AxesSubplot:xlabel='Degree', ylabel='count'>"
      ]
     },
     "execution_count": 302,
     "metadata": {},
     "output_type": "execute_result"
    },
    {
     "data": {
      "image/png": "[encoded data removed]",
      "text/plain": [
       "<Figure size 432x288 with 1 Axes>"
      ]
     },
     "metadata": {
      "needs_background": "light"
     },
     "output_type": "display_data"
    }
   ],
   "source": [
    "sns.countplot(data = df_, x = 'Degree',hue=\"Degree\")\n"
   ]
  },
  {
   "cell_type": "code",
   "execution_count": 303,
   "id": "f4a009d8",
   "metadata": {
    "scrolled": false
   },
   "outputs": [
    {
     "name": "stderr",
     "output_type": "stream",
     "text": [
      "C:\\Users\\dell\\anaconda3\\lib\\site-packages\\seaborn\\_base.py:949: FutureWarning: When grouping with a length-1 list-like, you will need to pass a length-1 tuple to get_group in a future version of pandas. Pass `(name,)` instead of `name` to silence this warning.\n",
      "  data_subset = grouped_data.get_group(pd_key)\n",
      "C:\\Users\\dell\\anaconda3\\lib\\site-packages\\seaborn\\_base.py:949: FutureWarning: When grouping with a length-1 list-like, you will need to pass a length-1 tuple to get_group in a future version of pandas. Pass `(name,)` instead of `name` to silence this warning.\n",
      "  data_subset = grouped_data.get_group(pd_key)\n",
      "C:\\Users\\dell\\anaconda3\\lib\\site-packages\\seaborn\\_base.py:949: FutureWarning: When grouping with a length-1 list-like, you will need to pass a length-1 tuple to get_group in a future version of pandas. Pass `(name,)` instead of `name` to silence this warning.\n",
      "  data_subset = grouped_data.get_group(pd_key)\n",
      "C:\\Users\\dell\\anaconda3\\lib\\site-packages\\seaborn\\_base.py:949: FutureWarning: When grouping with a length-1 list-like, you will need to pass a length-1 tuple to get_group in a future version of pandas. Pass `(name,)` instead of `name` to silence this warning.\n",
      "  data_subset = grouped_data.get_group(pd_key)\n",
      "C:\\Users\\dell\\anaconda3\\lib\\site-packages\\seaborn\\_base.py:949: FutureWarning: When grouping with a length-1 list-like, you will need to pass a length-1 tuple to get_group in a future version of pandas. Pass `(name,)` instead of `name` to silence this warning.\n",
      "  data_subset = grouped_data.get_group(pd_key)\n",
      "C:\\Users\\dell\\anaconda3\\lib\\site-packages\\seaborn\\_base.py:949: FutureWarning: When grouping with a length-1 list-like, you will need to pass a length-1 tuple to get_group in a future version of pandas. Pass `(name,)` instead of `name` to silence this warning.\n",
      "  data_subset = grouped_data.get_group(pd_key)\n",
      "C:\\Users\\dell\\anaconda3\\lib\\site-packages\\seaborn\\_base.py:949: FutureWarning: When grouping with a length-1 list-like, you will need to pass a length-1 tuple to get_group in a future version of pandas. Pass `(name,)` instead of `name` to silence this warning.\n",
      "  data_subset = grouped_data.get_group(pd_key)\n",
      "C:\\Users\\dell\\anaconda3\\lib\\site-packages\\seaborn\\_base.py:949: FutureWarning: When grouping with a length-1 list-like, you will need to pass a length-1 tuple to get_group in a future version of pandas. Pass `(name,)` instead of `name` to silence this warning.\n",
      "  data_subset = grouped_data.get_group(pd_key)\n",
      "C:\\Users\\dell\\anaconda3\\lib\\site-packages\\seaborn\\_base.py:949: FutureWarning: When grouping with a length-1 list-like, you will need to pass a length-1 tuple to get_group in a future version of pandas. Pass `(name,)` instead of `name` to silence this warning.\n",
      "  data_subset = grouped_data.get_group(pd_key)\n",
      "C:\\Users\\dell\\anaconda3\\lib\\site-packages\\seaborn\\_base.py:949: FutureWarning: When grouping with a length-1 list-like, you will need to pass a length-1 tuple to get_group in a future version of pandas. Pass `(name,)` instead of `name` to silence this warning.\n",
      "  data_subset = grouped_data.get_group(pd_key)\n",
      "C:\\Users\\dell\\anaconda3\\lib\\site-packages\\seaborn\\_base.py:949: FutureWarning: When grouping with a length-1 list-like, you will need to pass a length-1 tuple to get_group in a future version of pandas. Pass `(name,)` instead of `name` to silence this warning.\n",
      "  data_subset = grouped_data.get_group(pd_key)\n",
      "C:\\Users\\dell\\anaconda3\\lib\\site-packages\\seaborn\\_base.py:949: FutureWarning: When grouping with a length-1 list-like, you will need to pass a length-1 tuple to get_group in a future version of pandas. Pass `(name,)` instead of `name` to silence this warning.\n",
      "  data_subset = grouped_data.get_group(pd_key)\n",
      "C:\\Users\\dell\\anaconda3\\lib\\site-packages\\seaborn\\_base.py:949: FutureWarning: When grouping with a length-1 list-like, you will need to pass a length-1 tuple to get_group in a future version of pandas. Pass `(name,)` instead of `name` to silence this warning.\n",
      "  data_subset = grouped_data.get_group(pd_key)\n",
      "C:\\Users\\dell\\anaconda3\\lib\\site-packages\\seaborn\\_base.py:949: FutureWarning: When grouping with a length-1 list-like, you will need to pass a length-1 tuple to get_group in a future version of pandas. Pass `(name,)` instead of `name` to silence this warning.\n",
      "  data_subset = grouped_data.get_group(pd_key)\n",
      "C:\\Users\\dell\\anaconda3\\lib\\site-packages\\seaborn\\_base.py:949: FutureWarning: When grouping with a length-1 list-like, you will need to pass a length-1 tuple to get_group in a future version of pandas. Pass `(name,)` instead of `name` to silence this warning.\n",
      "  data_subset = grouped_data.get_group(pd_key)\n",
      "C:\\Users\\dell\\anaconda3\\lib\\site-packages\\seaborn\\_base.py:949: FutureWarning: When grouping with a length-1 list-like, you will need to pass a length-1 tuple to get_group in a future version of pandas. Pass `(name,)` instead of `name` to silence this warning.\n",
      "  data_subset = grouped_data.get_group(pd_key)\n",
      "C:\\Users\\dell\\anaconda3\\lib\\site-packages\\seaborn\\_base.py:949: FutureWarning: When grouping with a length-1 list-like, you will need to pass a length-1 tuple to get_group in a future version of pandas. Pass `(name,)` instead of `name` to silence this warning.\n",
      "  data_subset = grouped_data.get_group(pd_key)\n",
      "C:\\Users\\dell\\anaconda3\\lib\\site-packages\\seaborn\\_base.py:949: FutureWarning: When grouping with a length-1 list-like, you will need to pass a length-1 tuple to get_group in a future version of pandas. Pass `(name,)` instead of `name` to silence this warning.\n",
      "  data_subset = grouped_data.get_group(pd_key)\n",
      "C:\\Users\\dell\\anaconda3\\lib\\site-packages\\seaborn\\_base.py:949: FutureWarning: When grouping with a length-1 list-like, you will need to pass a length-1 tuple to get_group in a future version of pandas. Pass `(name,)` instead of `name` to silence this warning.\n",
      "  data_subset = grouped_data.get_group(pd_key)\n",
      "C:\\Users\\dell\\anaconda3\\lib\\site-packages\\seaborn\\_base.py:949: FutureWarning: When grouping with a length-1 list-like, you will need to pass a length-1 tuple to get_group in a future version of pandas. Pass `(name,)` instead of `name` to silence this warning.\n",
      "  data_subset = grouped_data.get_group(pd_key)\n",
      "C:\\Users\\dell\\anaconda3\\lib\\site-packages\\seaborn\\_base.py:949: FutureWarning: When grouping with a length-1 list-like, you will need to pass a length-1 tuple to get_group in a future version of pandas. Pass `(name,)` instead of `name` to silence this warning.\n",
      "  data_subset = grouped_data.get_group(pd_key)\n",
      "C:\\Users\\dell\\anaconda3\\lib\\site-packages\\seaborn\\_base.py:949: FutureWarning: When grouping with a length-1 list-like, you will need to pass a length-1 tuple to get_group in a future version of pandas. Pass `(name,)` instead of `name` to silence this warning.\n",
      "  data_subset = grouped_data.get_group(pd_key)\n"
     ]
    },
    {
     "data": {
      "text/plain": [
       "<AxesSubplot:xlabel='count', ylabel='Specialization'>"
      ]
     },
     "execution_count": 303,
     "metadata": {},
     "output_type": "execute_result"
    },
    {
     "data": {
      "image/png": "[encoded data removed]",
      "text/plain": [
       "<Figure size 432x288 with 1 Axes>"
      ]
     },
     "metadata": {
      "needs_background": "light"
     },
     "output_type": "display_data"
    }
   ],
   "source": [
    "sns.countplot(data = df_, y = 'Specialization',hue=\"Specialization\")\n"
   ]
  },
  {
   "cell_type": "code",
   "execution_count": 304,
   "id": "be666619",
   "metadata": {},
   "outputs": [],
   "source": [
    "ece_salary = df_[df_['Specialization'] == 'ECE']\n"
   ]
  },
  {
   "cell_type": "code",
   "execution_count": 305,
   "id": "5147f4a6",
   "metadata": {},
   "outputs": [
    {
     "name": "stderr",
     "output_type": "stream",
     "text": [
      "C:\\Users\\dell\\anaconda3\\lib\\site-packages\\seaborn\\categorical.py:640: FutureWarning: SeriesGroupBy.grouper is deprecated and will be removed in a future version of pandas.\n",
      "  positions = grouped.grouper.result_index.to_numpy(dtype=float)\n"
     ]
    },
    {
     "data": {
      "text/plain": [
       "<AxesSubplot:xlabel='Salary'>"
      ]
     },
     "execution_count": 305,
     "metadata": {},
     "output_type": "execute_result"
    },
    {
     "data": {
      "image/png": "[encoded data removed]",
      "text/plain": [
       "<Figure size 432x288 with 1 Axes>"
      ]
     },
     "metadata": {
      "needs_background": "light"
     },
     "output_type": "display_data"
    }
   ],
   "source": [
    "sns.boxplot(data = ece_salary, x = 'Salary')\n"
   ]
  },
  {
   "cell_type": "code",
   "execution_count": 306,
   "id": "3899fa5b",
   "metadata": {},
   "outputs": [
    {
     "data": {
      "text/plain": [
       "297583.91881342704"
      ]
     },
     "execution_count": 306,
     "metadata": {},
     "output_type": "execute_result"
    }
   ],
   "source": [
    "ece_salary['Salary'].mean()\n"
   ]
  },
  {
   "cell_type": "code",
   "execution_count": 307,
   "id": "d584eb5f",
   "metadata": {},
   "outputs": [
    {
     "data": {
      "text/plain": [
       "3000000.0"
      ]
     },
     "execution_count": 307,
     "metadata": {},
     "output_type": "execute_result"
    }
   ],
   "source": [
    "ece_salary['Salary'].max()\n"
   ]
  },
  {
   "cell_type": "code",
   "execution_count": 308,
   "id": "d103405d",
   "metadata": {},
   "outputs": [
    {
     "data": {
      "text/plain": [
       "Index(['Salary', 'Designation', 'JobCity', 'Gender', '10percentage', '10board',\n",
       "       '12graduation', '12percentage', '12board', 'CollegeTier', 'Degree',\n",
       "       'Specialization', 'collegeGPA', 'CollegeState', 'GraduationYear',\n",
       "       'English', 'Logical', 'Quant', 'Domain', 'ComputerProgramming',\n",
       "       'ElectronicsAndSemicon', 'ComputerScience', 'MechanicalEngg',\n",
       "       'ElectricalEngg', 'TelecomEngg', 'CivilEngg', 'conscientiousness',\n",
       "       'agreeableness', 'extraversion', 'nueroticism', 'openess_to_experience',\n",
       "       'age', 'Joining_year', 'leaving_year', 'experience', 'School_average'],\n",
       "      dtype='object')"
      ]
     },
     "execution_count": 308,
     "metadata": {},
     "output_type": "execute_result"
    }
   ],
   "source": [
    "df_.columns"
   ]
  },
  {
   "cell_type": "code",
   "execution_count": 309,
   "id": "c253247a",
   "metadata": {},
   "outputs": [
    {
     "data": {
      "text/plain": [
       "array(['senior quality engineer', 'assistant manager', 'systems engineer',\n",
       "       'senior software engineer', 'get', 'java software engineer',\n",
       "       'mechanical engineer', 'electrical engineer', 'project engineer',\n",
       "       'senior php developer', 'senior systems engineer',\n",
       "       'quality assurance engineer', 'qa analyst', 'network engineer',\n",
       "       'product development engineer', 'associate software developer',\n",
       "       'data entry operator', 'software engineer', 'developer',\n",
       "       'electrical project engineer', 'programmer analyst',\n",
       "       'systems analyst', 'ase', 'telecommunication engineer',\n",
       "       'application developer', 'ios developer', 'executive assistant',\n",
       "       'online marketing manager', 'documentation specialist',\n",
       "       'associate software engineer', 'management trainee',\n",
       "       'site manager', 'software developer', '.net developer',\n",
       "       'production engineer', 'jr. software engineer',\n",
       "       'trainee software developer', 'ui developer',\n",
       "       'assistant system engineer', 'android developer',\n",
       "       'customer service', 'test engineer', 'java developer', 'engineer',\n",
       "       'recruitment coordinator', 'technical support engineer',\n",
       "       'data analyst', 'assistant software engineer', 'faculty',\n",
       "       'entry level management trainee',\n",
       "       'customer service representative', 'software test engineer',\n",
       "       'firmware engineer', 'php developer', 'research associate',\n",
       "       'research analyst', 'quality engineer', 'programmer',\n",
       "       'technical support executive', 'business analyst', 'web developer',\n",
       "       'application engineer', 'project coordinator', 'engineer trainee',\n",
       "       'sap consultant', 'quality analyst', 'marketing coordinator',\n",
       "       'system administrator', 'senior engineer',\n",
       "       'business development managerde', 'network administrator',\n",
       "       'technical support specialist', 'business development executive',\n",
       "       'junior software engineer', 'asp.net developer',\n",
       "       'graduate engineer trainee', 'field engineer',\n",
       "       'assistant professor', 'trainee software engineer',\n",
       "       'senior software developer',\n",
       "       'quality assurance automation engineer', 'design engineer',\n",
       "       'telecom engineer', 'quality control engineer',\n",
       "       'hardware engineer', 'hr recruiter', 'sales associate',\n",
       "       'junior engineer', 'associate engineer', 'maintenance engineer',\n",
       "       'sales engineer', 'human resources associate',\n",
       "       'mobile application developer',\n",
       "       'electronic field service engineer', 'process associate',\n",
       "       'field service engineer', 'it support specialist',\n",
       "       'software development engineer', 'business process analyst',\n",
       "       'operation engineer', 'electrical designer', 'marketing assistant',\n",
       "       'sales executive', 'admin assistant', 'senior java developer',\n",
       "       'account executive', 'oracle dba', 'rf engineer',\n",
       "       'embedded software engineer', 'programmer analyst trainee',\n",
       "       'technical engineer', 'operations executive', 'trainee engineer',\n",
       "       'recruiter', 'lecturer', '.net web developer',\n",
       "       'marketing executive', 'operations assistant', 'associate manager',\n",
       "       'electrical design engineer', 'systems administrator',\n",
       "       'client services associate', 'it analyst', 'senior developer',\n",
       "       'cad designer', 'business technology analyst', 'asst. manager',\n",
       "       'service engineer', 'executive recruiter', 'planning engineer',\n",
       "       'associate technical operations', 'web designer',\n",
       "       'software architect', 'software quality assurance tester',\n",
       "       'seo trainee', 'process engineer',\n",
       "       'software quality assurance analyst', 'designer',\n",
       "       'business systems consultant', 'business development manager',\n",
       "       'junior research fellow', 'technical recruiter',\n",
       "       'operations analyst', 'quality assurance test engineer',\n",
       "       'linux systems administrator', 'software trainee',\n",
       "       'entry level sales and marketing', 'electrical field engineer',\n",
       "       'windows systems administrator', 'junior software developer',\n",
       "       'python developer', 'web application developer',\n",
       "       'assistant systems engineer', 'javascript developer',\n",
       "       'operation executive', 'performance engineer', 'technical writer',\n",
       "       'operations engineer and jetty handling', 'lead engineer',\n",
       "       'portfolio analyst', 'associate system engineer',\n",
       "       'mechanical design engineer', 'product engineer',\n",
       "       'network security engineer', 'operations manager',\n",
       "       'technical lead', 'operations', 'quality assurance tester',\n",
       "       'automation engineer', 'data scientist', 'quality associate',\n",
       "       'manual tester', 'sr. engineer', 'embedded engineer',\n",
       "       'service and sales engineer', 'telecom support engineer',\n",
       "       'engineer- customer support', 'cloud engineer', 'branch manager',\n",
       "       'business analyst consultant', 'technology lead',\n",
       "       'software trainee engineer', 'dcs engineer', 'junior manager',\n",
       "       'ux designer', 'clerical', 'hr generalist',\n",
       "       'database administrator', 'senior design engineer', 'seo',\n",
       "       'assistant engineer', 'marketing analyst', 'it executive',\n",
       "       'salesforce developer', 'software tester', 'sql dba',\n",
       "       'junior engineer product support', 'manager',\n",
       "       'senior business analyst', 'c# developer',\n",
       "       'implementation engineer', 'executive hr', 'executive engineer',\n",
       "       'sharepoint developer', 'system analyst',\n",
       "       'sales management trainee', 'it recruiter',\n",
       "       'software engineer analyst', 'desktop support technician',\n",
       "       'continuous improvement engineer', 'process advisor',\n",
       "       'etl developer', 'sales and service engineer', 'project manager',\n",
       "       'training specialist', 'product manager', 'staffing recruiter',\n",
       "       'assistant programmer', 'quality controller', 'mis executive',\n",
       "       'game developer', 'digital marketing specialist',\n",
       "       'principal software engineer', 'software devloper',\n",
       "       'senior mechanical engineer', 'technical operations analyst',\n",
       "       'service coordinator', 'testing engineer', 'technical assistant',\n",
       "       'sap abap consultant', 'seo engineer', 'project assistant',\n",
       "       'talent acquisition specialist', 'sales account manager',\n",
       "       'software engineer trainee', 'customer service manager',\n",
       "       'help desk analyst', 'general manager', 'engineering manager',\n",
       "       'senior network engineer',\n",
       "       'field based employee relations manager', 'phone banking officer',\n",
       "       'support engineer', 'associate test engineer',\n",
       "       'technology analyst', 'network support engineer',\n",
       "       'it business analyst', 'junior system analyst',\n",
       "       'senior .net developer', 'secretary', 'research engineer',\n",
       "       'quality assurance auditor', 'process executive',\n",
       "       'lecturer & electrical maintenance', 'office coordinator',\n",
       "       'hr manager', 'html developer', 'sales support',\n",
       "       'front end web developer', 'territory sales manager',\n",
       "       'project administrator', 'environmental engineer',\n",
       "       'web designer and seo', 'information security analyst',\n",
       "       'field business development associate', 'operational executive',\n",
       "       'administrative coordinator', 'senior risk consultant',\n",
       "       'desktop support engineer', 'cad drafter', 'noc engineer',\n",
       "       'industrial engineer', 'it engineer', 'human resources intern',\n",
       "       'senior quality assurance engineer', 'clerical assistant',\n",
       "       'software enginner', 'quality assurance',\n",
       "       'delivery software engineer', 'graphic designer',\n",
       "       'sales development manager', 'visiting faculty',\n",
       "       'business intelligence analyst', 'team lead',\n",
       "       'operational excellence manager', 'sales & service engineer',\n",
       "       'web intern', 'full stack developer', 'database developer',\n",
       "       'sr. database engineer', 'graduate apprentice trainee',\n",
       "       'software engineer associate', 'technical analyst',\n",
       "       'executive engg', 'it technician', 'business system analyst',\n",
       "       'process control engineer', 'technical consultant',\n",
       "       'business office manager', 'quality control inspector',\n",
       "       'product design engineer', 'manufacturing engineer',\n",
       "       'seo executive', 'sap analyst', 'software engineere',\n",
       "       'financial service consultant', 'co faculty', 'software analyst',\n",
       "       'desktop support analyst', 'graduate engineer',\n",
       "       'engineering technician', 'it assistant', 'marketing manager',\n",
       "       'human resource assistant', 'hr assistant', 'product developer',\n",
       "       'customer support engineer',\n",
       "       'quality control inspection technician', 'gis/cad engineer',\n",
       "       'senior web developer', 'sql developer', 'research staff member',\n",
       "       'sap abap associate consultant', 'associate qa',\n",
       "       'corporate recruiter', 'project management officer',\n",
       "       'business systems analyst', 'software programmer',\n",
       "       'help desk technician', 'sales manager', 'catalog associate',\n",
       "       'assistant store manager', 'software engg', 'it developer',\n",
       "       'apprentice', 'business consultant', 'controls engineer',\n",
       "       'ruby on rails developer', 'risk consultant', 'account manager',\n",
       "       'professor', 'assistant administrator', 'civil engineer',\n",
       "       'educator', 'service manager', 'teradata dba',\n",
       "       'full-time loss prevention associate', 'junior recruiter',\n",
       "       'associate developer', 'assistant electrical engineer',\n",
       "       'shift engineer', 'dotnet developer', 'rf/dt engineer',\n",
       "       'human resources analyst', 'software test engineerte',\n",
       "       'junior .net developer', 'java trainee', 'maintenance supervisor',\n",
       "       'r&d engineer', 'front end developer', 'engineer-hws',\n",
       "       'operations engineer', 'senior research fellow',\n",
       "       'web designer and joomla administrator',\n",
       "       'enterprise solutions developer',\n",
       "       'information technology specialist', 'graduate trainee engineer',\n",
       "       'quality assurance analyst', 'cnc programmer', 'financial analyst',\n",
       "       'system engineer trainee', 'sap mm consultant',\n",
       "       'assistant system engineer trainee', 'qa trainee',\n",
       "       'teradata developer', 'hr executive', 'senior programmer',\n",
       "       'software test engineer (etl)', 'associate software engg',\n",
       "       'supply chain analyst', 'sales trainer', 'software executive',\n",
       "       'team leader', 'assistant system engineer - trainee',\n",
       "       'seo analyst', 'site engineer', 'risk investigator',\n",
       "       'executive administrative assistant', 'program manager', 'r & d',\n",
       "       'sap functional consultant', 'website developer/tester',\n",
       "       'software designer', 'sales coordinator', 'qa engineer',\n",
       "       'aircraft technician', 'customer care executive',\n",
       "       'senior test engineer', 'program analyst trainee',\n",
       "       'electrical controls engineer', 'trainee decision scientist',\n",
       "       'editor', 'bss engineer', 'dba', 'software eng',\n",
       "       'computer faculty', 'recruitment associate', 'logistics executive',\n",
       "       'quality consultant', 'senior sales executive', 'db2 dba',\n",
       "       'test technician', 'it operations associate',\n",
       "       'software engineering associate', 'research scientist',\n",
       "       'jr. software developer'], dtype=object)"
      ]
     },
     "execution_count": 309,
     "metadata": {},
     "output_type": "execute_result"
    }
   ],
   "source": [
    "df_['Designation'].unique()"
   ]
  },
  {
   "cell_type": "code",
   "execution_count": 310,
   "id": "d53df3a1",
   "metadata": {},
   "outputs": [],
   "source": [
    "grp = df_.groupby('Designation')['Salary']"
   ]
  },
  {
   "cell_type": "code",
   "execution_count": 311,
   "id": "02330df3",
   "metadata": {},
   "outputs": [
    {
     "data": {
      "text/plain": [
       "341547.8"
      ]
     },
     "execution_count": 311,
     "metadata": {},
     "output_type": "execute_result"
    }
   ],
   "source": [
    "grp.get_group('software engineer').mean().round(1)"
   ]
  },
  {
   "cell_type": "code",
   "execution_count": 312,
   "id": "7452cb96",
   "metadata": {},
   "outputs": [
    {
     "data": {
      "text/plain": [
       "260000.0"
      ]
     },
     "execution_count": 312,
     "metadata": {},
     "output_type": "execute_result"
    }
   ],
   "source": [
    "grp.get_group('software engineer').quantile(0.25).round(1)"
   ]
  },
  {
   "cell_type": "code",
   "execution_count": 313,
   "id": "e0e47c91",
   "metadata": {},
   "outputs": [
    {
     "data": {
      "text/plain": [
       "400000.0"
      ]
     },
     "execution_count": 313,
     "metadata": {},
     "output_type": "execute_result"
    }
   ],
   "source": [
    "grp.get_group('software engineer').quantile(0.75).round(1)"
   ]
  },
  {
   "cell_type": "code",
   "execution_count": 314,
   "id": "6f5136c3",
   "metadata": {},
   "outputs": [
    {
     "data": {
      "text/plain": [
       "['Software Enginnering',\n",
       " 'Hardware Engineer',\n",
       " 'Associate Engineer',\n",
       " 'Programming Analyst']"
      ]
     },
     "execution_count": 314,
     "metadata": {},
     "output_type": "execute_result"
    }
   ],
   "source": [
    "['Software Enginnering', 'Hardware Engineer', 'Associate Engineer', 'Programming Analyst']"
   ]
  },
  {
   "cell_type": "code",
   "execution_count": 315,
   "id": "2e9f48f8",
   "metadata": {},
   "outputs": [
    {
     "name": "stderr",
     "output_type": "stream",
     "text": [
      "C:\\Users\\dell\\AppData\\Local\\Temp/ipykernel_6224/337777212.py:1: FutureWarning: obj is deprecated and will be removed in a future version. Do ``df.iloc[gb.indices.get(name)]`` instead of ``gb.get_group(name, obj=df)``.\n",
      "  grp.get_group('software engineer', 'associate engineer').mean().round(1)\n"
     ]
    },
    {
     "ename": "AttributeError",
     "evalue": "'str' object has no attribute '_take_with_is_copy'",
     "output_type": "error",
     "traceback": [
      "\u001b[1;31m---------------------------------------------------------------------------\u001b[0m",
      "\u001b[1;31mAttributeError\u001b[0m                            Traceback (most recent call last)",
      "\u001b[1;32m~\\AppData\\Local\\Temp/ipykernel_6224/337777212.py\u001b[0m in \u001b[0;36m<module>\u001b[1;34m\u001b[0m\n\u001b[1;32m----> 1\u001b[1;33m \u001b[0mgrp\u001b[0m\u001b[1;33m.\u001b[0m\u001b[0mget_group\u001b[0m\u001b[1;33m(\u001b[0m\u001b[1;34m'software engineer'\u001b[0m\u001b[1;33m,\u001b[0m \u001b[1;34m'associate engineer'\u001b[0m\u001b[1;33m)\u001b[0m\u001b[1;33m.\u001b[0m\u001b[0mmean\u001b[0m\u001b[1;33m(\u001b[0m\u001b[1;33m)\u001b[0m\u001b[1;33m.\u001b[0m\u001b[0mround\u001b[0m\u001b[1;33m(\u001b[0m\u001b[1;36m1\u001b[0m\u001b[1;33m)\u001b[0m\u001b[1;33m\u001b[0m\u001b[1;33m\u001b[0m\u001b[0m\n\u001b[0m",
      "\u001b[1;32m~\\anaconda3\\lib\\site-packages\\pandas\\core\\groupby\\groupby.py\u001b[0m in \u001b[0;36mget_group\u001b[1;34m(self, name, obj)\u001b[0m\n\u001b[0;32m   1125\u001b[0m                 \u001b[0mstacklevel\u001b[0m\u001b[1;33m=\u001b[0m\u001b[0mfind_stack_level\u001b[0m\u001b[1;33m(\u001b[0m\u001b[1;33m)\u001b[0m\u001b[1;33m,\u001b[0m\u001b[1;33m\u001b[0m\u001b[1;33m\u001b[0m\u001b[0m\n\u001b[0;32m   1126\u001b[0m             )\n\u001b[1;32m-> 1127\u001b[1;33m             \u001b[1;32mreturn\u001b[0m \u001b[0mobj\u001b[0m\u001b[1;33m.\u001b[0m\u001b[0m_take_with_is_copy\u001b[0m\u001b[1;33m(\u001b[0m\u001b[0minds\u001b[0m\u001b[1;33m,\u001b[0m \u001b[0maxis\u001b[0m\u001b[1;33m=\u001b[0m\u001b[0mself\u001b[0m\u001b[1;33m.\u001b[0m\u001b[0maxis\u001b[0m\u001b[1;33m)\u001b[0m\u001b[1;33m\u001b[0m\u001b[1;33m\u001b[0m\u001b[0m\n\u001b[0m\u001b[0;32m   1128\u001b[0m \u001b[1;33m\u001b[0m\u001b[0m\n\u001b[0;32m   1129\u001b[0m     \u001b[1;33m@\u001b[0m\u001b[0mfinal\u001b[0m\u001b[1;33m\u001b[0m\u001b[1;33m\u001b[0m\u001b[0m\n",
      "\u001b[1;31mAttributeError\u001b[0m: 'str' object has no attribute '_take_with_is_copy'"
     ]
    }
   ],
   "source": [
    "grp.get_group('software engineer', 'associate engineer').mean().round(1)"
   ]
  },
  {
   "cell_type": "code",
   "execution_count": null,
   "id": "ed06b624",
   "metadata": {},
   "outputs": [],
   "source": []
  },
  {
   "cell_type": "code",
   "execution_count": null,
   "id": "0e3dfecc",
   "metadata": {},
   "outputs": [],
   "source": []
  },
  {
   "cell_type": "code",
   "execution_count": 316,
   "id": "568f4a44",
   "metadata": {},
   "outputs": [
    {
     "ename": "AttributeError",
     "evalue": "'SeriesGroupBy' object has no attribute 'sort_values'",
     "output_type": "error",
     "traceback": [
      "\u001b[1;31m---------------------------------------------------------------------------\u001b[0m",
      "\u001b[1;31mAttributeError\u001b[0m                            Traceback (most recent call last)",
      "\u001b[1;32m~\\AppData\\Local\\Temp/ipykernel_6224/3684711322.py\u001b[0m in \u001b[0;36m<module>\u001b[1;34m\u001b[0m\n\u001b[1;32m----> 1\u001b[1;33m \u001b[0mgrp\u001b[0m\u001b[1;33m.\u001b[0m\u001b[0msort_values\u001b[0m\u001b[1;33m(\u001b[0m\u001b[0mascending\u001b[0m\u001b[1;33m=\u001b[0m\u001b[1;32mFalse\u001b[0m\u001b[1;33m)\u001b[0m\u001b[1;33m[\u001b[0m\u001b[1;33m:\u001b[0m\u001b[1;36m10\u001b[0m\u001b[1;33m]\u001b[0m\u001b[1;33m\u001b[0m\u001b[1;33m\u001b[0m\u001b[0m\n\u001b[0m",
      "\u001b[1;32m~\\anaconda3\\lib\\site-packages\\pandas\\core\\groupby\\groupby.py\u001b[0m in \u001b[0;36m__getattr__\u001b[1;34m(self, attr)\u001b[0m\n\u001b[0;32m   1361\u001b[0m             \u001b[1;32mreturn\u001b[0m \u001b[0mself\u001b[0m\u001b[1;33m[\u001b[0m\u001b[0mattr\u001b[0m\u001b[1;33m]\u001b[0m\u001b[1;33m\u001b[0m\u001b[1;33m\u001b[0m\u001b[0m\n\u001b[0;32m   1362\u001b[0m \u001b[1;33m\u001b[0m\u001b[0m\n\u001b[1;32m-> 1363\u001b[1;33m         raise AttributeError(\n\u001b[0m\u001b[0;32m   1364\u001b[0m             \u001b[1;34mf\"'{type(self).__name__}' object has no attribute '{attr}'\"\u001b[0m\u001b[1;33m\u001b[0m\u001b[1;33m\u001b[0m\u001b[0m\n\u001b[0;32m   1365\u001b[0m         )\n",
      "\u001b[1;31mAttributeError\u001b[0m: 'SeriesGroupBy' object has no attribute 'sort_values'"
     ]
    }
   ],
   "source": [
    "grp.sort_values(ascending=False)[:10]"
   ]
  },
  {
   "cell_type": "code",
   "execution_count": 317,
   "id": "ceed8be7",
   "metadata": {
    "scrolled": false
   },
   "outputs": [],
   "source": [
    "statewise_mean = df_.groupby('JobCity')['Salary'].mean().round(1)"
   ]
  },
  {
   "cell_type": "code",
   "execution_count": 318,
   "id": "962f0287",
   "metadata": {},
   "outputs": [
    {
     "data": {
      "text/plain": [
       "<AxesSubplot:ylabel='JobCity'>"
      ]
     },
     "execution_count": 318,
     "metadata": {},
     "output_type": "execute_result"
    },
    {
     "data": {
      "image/png": "[encoded data removed]",
      "text/plain": [
       "<Figure size 432x288 with 1 Axes>"
      ]
     },
     "metadata": {
      "needs_background": "light"
     },
     "output_type": "display_data"
    }
   ],
   "source": [
    "statewise_mean.sort_values(ascending=False)[:10].plot(kind=\"barh\")"
   ]
  },
  {
   "cell_type": "code",
   "execution_count": 319,
   "id": "370f80be",
   "metadata": {},
   "outputs": [
    {
     "ename": "AttributeError",
     "evalue": "'Series' object has no attribute 'columns'",
     "output_type": "error",
     "traceback": [
      "\u001b[1;31m---------------------------------------------------------------------------\u001b[0m",
      "\u001b[1;31mAttributeError\u001b[0m                            Traceback (most recent call last)",
      "\u001b[1;32m~\\AppData\\Local\\Temp/ipykernel_6224/1375821204.py\u001b[0m in \u001b[0;36m<module>\u001b[1;34m\u001b[0m\n\u001b[0;32m      2\u001b[0m \u001b[1;33m\u001b[0m\u001b[0m\n\u001b[0;32m      3\u001b[0m \u001b[1;31m# Plotting individual line plots for each feature\u001b[0m\u001b[1;33m\u001b[0m\u001b[1;33m\u001b[0m\u001b[0m\n\u001b[1;32m----> 4\u001b[1;33m \u001b[1;32mfor\u001b[0m \u001b[0mfeature\u001b[0m \u001b[1;32min\u001b[0m \u001b[0mstatewise_mean\u001b[0m\u001b[1;33m.\u001b[0m\u001b[0mcolumns\u001b[0m\u001b[1;33m:\u001b[0m\u001b[1;33m\u001b[0m\u001b[1;33m\u001b[0m\u001b[0m\n\u001b[0m\u001b[0;32m      5\u001b[0m     \u001b[0mplt\u001b[0m\u001b[1;33m.\u001b[0m\u001b[0mfigure\u001b[0m\u001b[1;33m(\u001b[0m\u001b[0mfigsize\u001b[0m\u001b[1;33m=\u001b[0m\u001b[1;33m(\u001b[0m\u001b[1;36m8\u001b[0m\u001b[1;33m,\u001b[0m \u001b[1;36m6\u001b[0m\u001b[1;33m)\u001b[0m\u001b[1;33m)\u001b[0m\u001b[1;33m\u001b[0m\u001b[1;33m\u001b[0m\u001b[0m\n\u001b[0;32m      6\u001b[0m     \u001b[0mplt\u001b[0m\u001b[1;33m.\u001b[0m\u001b[0mplot\u001b[0m\u001b[1;33m(\u001b[0m\u001b[0mstatewise_mean\u001b[0m\u001b[1;33m.\u001b[0m\u001b[0mindex\u001b[0m\u001b[1;33m,\u001b[0m \u001b[0mstatewise_mean\u001b[0m\u001b[1;33m[\u001b[0m\u001b[0mfeature\u001b[0m\u001b[1;33m]\u001b[0m\u001b[1;33m,\u001b[0m \u001b[0mmarker\u001b[0m\u001b[1;33m=\u001b[0m\u001b[1;34m'o'\u001b[0m\u001b[1;33m,\u001b[0m \u001b[0mcolor\u001b[0m\u001b[1;33m=\u001b[0m\u001b[1;34m'blue'\u001b[0m\u001b[1;33m)\u001b[0m\u001b[1;33m\u001b[0m\u001b[1;33m\u001b[0m\u001b[0m\n",
      "\u001b[1;32m~\\anaconda3\\lib\\site-packages\\pandas\\core\\generic.py\u001b[0m in \u001b[0;36m__getattr__\u001b[1;34m(self, name)\u001b[0m\n\u001b[0;32m   6291\u001b[0m         ):\n\u001b[0;32m   6292\u001b[0m             \u001b[1;32mreturn\u001b[0m \u001b[0mself\u001b[0m\u001b[1;33m[\u001b[0m\u001b[0mname\u001b[0m\u001b[1;33m]\u001b[0m\u001b[1;33m\u001b[0m\u001b[1;33m\u001b[0m\u001b[0m\n\u001b[1;32m-> 6293\u001b[1;33m         \u001b[1;32mreturn\u001b[0m \u001b[0mobject\u001b[0m\u001b[1;33m.\u001b[0m\u001b[0m__getattribute__\u001b[0m\u001b[1;33m(\u001b[0m\u001b[0mself\u001b[0m\u001b[1;33m,\u001b[0m \u001b[0mname\u001b[0m\u001b[1;33m)\u001b[0m\u001b[1;33m\u001b[0m\u001b[1;33m\u001b[0m\u001b[0m\n\u001b[0m\u001b[0;32m   6294\u001b[0m \u001b[1;33m\u001b[0m\u001b[0m\n\u001b[0;32m   6295\u001b[0m     \u001b[1;33m@\u001b[0m\u001b[0mfinal\u001b[0m\u001b[1;33m\u001b[0m\u001b[1;33m\u001b[0m\u001b[0m\n",
      "\u001b[1;31mAttributeError\u001b[0m: 'Series' object has no attribute 'columns'"
     ]
    }
   ],
   "source": [
    "#statewise_mean = df_.groupby('JobCity').mean()\n",
    "\n",
    "# Plotting individual line plots for each feature\n",
    "for feature in statewise_mean.columns:\n",
    "    plt.figure(figsize=(8, 6))\n",
    "    plt.plot(statewise_mean.index, statewise_mean[feature], marker='o', color='blue')\n",
    "    plt.title(f'{feature} Distribution Across Different States')\n",
    "    plt.xlabel('State')\n",
    "    plt.ylabel('Mean Value')\n",
    "    plt.xticks(rotation=45)\n",
    "    plt.grid(True)\n",
    "    plt.tight_layout()\n",
    "    plt.show()\n",
    "\n",
    "# Displaying the corresponding dataframe\n",
    "print(\"Statewise Mean Dataframe:\")\n",
    "print(statewise_mean)"
   ]
  },
  {
   "cell_type": "code",
   "execution_count": 320,
   "id": "bbbb14d8",
   "metadata": {},
   "outputs": [
    {
     "data": {
      "text/plain": [
       "Index(['Salary', 'Designation', 'JobCity', 'Gender', '10percentage', '10board',\n",
       "       '12graduation', '12percentage', '12board', 'CollegeTier', 'Degree',\n",
       "       'Specialization', 'collegeGPA', 'CollegeState', 'GraduationYear',\n",
       "       'English', 'Logical', 'Quant', 'Domain', 'ComputerProgramming',\n",
       "       'ElectronicsAndSemicon', 'ComputerScience', 'MechanicalEngg',\n",
       "       'ElectricalEngg', 'TelecomEngg', 'CivilEngg', 'conscientiousness',\n",
       "       'agreeableness', 'extraversion', 'nueroticism', 'openess_to_experience',\n",
       "       'age', 'Joining_year', 'leaving_year', 'experience', 'School_average'],\n",
       "      dtype='object')"
      ]
     },
     "execution_count": 320,
     "metadata": {},
     "output_type": "execute_result"
    }
   ],
   "source": [
    "df_.columns"
   ]
  },
  {
   "cell_type": "code",
   "execution_count": 321,
   "id": "8dbd49f3",
   "metadata": {},
   "outputs": [],
   "source": [
    "df_n= df_[['Salary','collegeGPA','GraduationYear','age','Joining_year','leaving_year','experience']]"
   ]
  },
  {
   "cell_type": "code",
   "execution_count": 322,
   "id": "f30c9552",
   "metadata": {},
   "outputs": [
    {
     "data": {
      "text/plain": [
       "<AxesSubplot:>"
      ]
     },
     "execution_count": 322,
     "metadata": {},
     "output_type": "execute_result"
    },
    {
     "data": {
      "image/png": "[encoded data removed]",
      "text/plain": [
       "<Figure size 432x288 with 2 Axes>"
      ]
     },
     "metadata": {
      "needs_background": "light"
     },
     "output_type": "display_data"
    }
   ],
   "source": [
    "sns.heatmap(df_n.corr(),annot=True,linewidths=2.0)"
   ]
  },
  {
   "cell_type": "code",
   "execution_count": 323,
   "id": "c76faa91",
   "metadata": {},
   "outputs": [],
   "source": [
    "state = df_.groupby('JobCity')['Designation']"
   ]
  },
  {
   "cell_type": "code",
   "execution_count": 336,
   "id": "1d1d3c7a",
   "metadata": {},
   "outputs": [
    {
     "data": {
      "text/plain": [
       "<AxesSubplot:xlabel='Designation'>"
      ]
     },
     "execution_count": 336,
     "metadata": {},
     "output_type": "execute_result"
    },
    {
     "data": {
      "image/png": "[encoded data removed]",
      "text/plain": [
       "<Figure size 432x288 with 1 Axes>"
      ]
     },
     "metadata": {
      "needs_background": "light"
     },
     "output_type": "display_data"
    }
   ],
   "source": [
    "state.get_group('Bangalore').value_counts()[:5].plot(kind=\"bar\")"
   ]
  },
  {
   "cell_type": "code",
   "execution_count": 338,
   "id": "67b9c360",
   "metadata": {},
   "outputs": [
    {
     "data": {
      "text/plain": [
       "<AxesSubplot:ylabel='Density'>"
      ]
     },
     "execution_count": 338,
     "metadata": {},
     "output_type": "execute_result"
    },
    {
     "data": {
      "image/png": "[encoded data removed]",
      "text/plain": [
       "<Figure size 432x288 with 1 Axes>"
      ]
     },
     "metadata": {
      "needs_background": "light"
     },
     "output_type": "display_data"
    }
   ],
   "source": [
    "df_['Gender'].value_counts(normalize=True).plot(kind=\"kde\")"
   ]
  },
  {
   "cell_type": "code",
   "execution_count": 340,
   "id": "842358ab",
   "metadata": {},
   "outputs": [
    {
     "data": {
      "text/plain": [
       "<AxesSubplot:>"
      ]
     },
     "execution_count": 340,
     "metadata": {},
     "output_type": "execute_result"
    },
    {
     "data": {
      "image/png": "[encoded data removed]",
      "text/plain": [
       "<Figure size 432x288 with 1 Axes>"
      ]
     },
     "metadata": {
      "needs_background": "light"
     },
     "output_type": "display_data"
    }
   ],
   "source": [
    "df_['Gender'].value_counts().plot(kind=\"box\")"
   ]
  },
  {
   "cell_type": "code",
   "execution_count": null,
   "id": "b0597d7f",
   "metadata": {},
   "outputs": [],
   "source": []
  },
  {
   "cell_type": "code",
   "execution_count": null,
   "id": "9039e615",
   "metadata": {},
   "outputs": [],
   "source": []
  },
  {
   "cell_type": "code",
   "execution_count": null,
   "id": "a9e1afdf",
   "metadata": {},
   "outputs": [],
   "source": []
  },
  {
   "cell_type": "code",
   "execution_count": null,
   "id": "19ecb566",
   "metadata": {},
   "outputs": [],
   "source": []
  },
  {
   "cell_type": "code",
   "execution_count": null,
   "id": "67b122f9",
   "metadata": {},
   "outputs": [],
   "source": []
  },
  {
   "cell_type": "code",
   "execution_count": null,
   "id": "ef82b9a8",
   "metadata": {},
   "outputs": [],
   "source": []
  },
  {
   "cell_type": "code",
   "execution_count": null,
   "id": "331f22d4",
   "metadata": {},
   "outputs": [],
   "source": []
  },
  {
   "cell_type": "code",
   "execution_count": 325,
   "id": "f81397c9",
   "metadata": {},
   "outputs": [],
   "source": [
    "from scipy.stats import chi2_contingency\n",
    "from scipy.stats import chi2\n"
   ]
  },
  {
   "cell_type": "code",
   "execution_count": 326,
   "id": "bac5569f",
   "metadata": {},
   "outputs": [],
   "source": [
    "observed = pd.crosstab(df_.Designation, df_.Gender)\n"
   ]
  },
  {
   "cell_type": "code",
   "execution_count": 327,
   "id": "c6fcab9b",
   "metadata": {},
   "outputs": [
    {
     "data": {
      "text/html": [
       "<div>\n",
       "<style scoped>\n",
       "    .dataframe tbody tr th:only-of-type {\n",
       "        vertical-align: middle;\n",
       "    }\n",
       "\n",
       "    .dataframe tbody tr th {\n",
       "        vertical-align: top;\n",
       "    }\n",
       "\n",
       "    .dataframe thead th {\n",
       "        text-align: right;\n",
       "    }\n",
       "</style>\n",
       "<table border=\"1\" class=\"dataframe\">\n",
       "  <thead>\n",
       "    <tr style=\"text-align: right;\">\n",
       "      <th>Gender</th>\n",
       "      <th>female</th>\n",
       "      <th>male</th>\n",
       "    </tr>\n",
       "    <tr>\n",
       "      <th>Designation</th>\n",
       "      <th></th>\n",
       "      <th></th>\n",
       "    </tr>\n",
       "  </thead>\n",
       "  <tbody>\n",
       "    <tr>\n",
       "      <th>.net developer</th>\n",
       "      <td>8</td>\n",
       "      <td>26</td>\n",
       "    </tr>\n",
       "    <tr>\n",
       "      <th>.net web developer</th>\n",
       "      <td>1</td>\n",
       "      <td>3</td>\n",
       "    </tr>\n",
       "    <tr>\n",
       "      <th>account executive</th>\n",
       "      <td>2</td>\n",
       "      <td>2</td>\n",
       "    </tr>\n",
       "    <tr>\n",
       "      <th>account manager</th>\n",
       "      <td>0</td>\n",
       "      <td>1</td>\n",
       "    </tr>\n",
       "    <tr>\n",
       "      <th>admin assistant</th>\n",
       "      <td>0</td>\n",
       "      <td>2</td>\n",
       "    </tr>\n",
       "    <tr>\n",
       "      <th>...</th>\n",
       "      <td>...</td>\n",
       "      <td>...</td>\n",
       "    </tr>\n",
       "    <tr>\n",
       "      <th>web designer and seo</th>\n",
       "      <td>1</td>\n",
       "      <td>0</td>\n",
       "    </tr>\n",
       "    <tr>\n",
       "      <th>web developer</th>\n",
       "      <td>17</td>\n",
       "      <td>37</td>\n",
       "    </tr>\n",
       "    <tr>\n",
       "      <th>web intern</th>\n",
       "      <td>1</td>\n",
       "      <td>0</td>\n",
       "    </tr>\n",
       "    <tr>\n",
       "      <th>website developer/tester</th>\n",
       "      <td>0</td>\n",
       "      <td>1</td>\n",
       "    </tr>\n",
       "    <tr>\n",
       "      <th>windows systems administrator</th>\n",
       "      <td>1</td>\n",
       "      <td>0</td>\n",
       "    </tr>\n",
       "  </tbody>\n",
       "</table>\n",
       "<p>416 rows × 2 columns</p>\n",
       "</div>"
      ],
      "text/plain": [
       "Gender                         female  male\n",
       "Designation                                \n",
       ".net developer                      8    26\n",
       ".net web developer                  1     3\n",
       "account executive                   2     2\n",
       "account manager                     0     1\n",
       "admin assistant                     0     2\n",
       "...                               ...   ...\n",
       "web designer and seo                1     0\n",
       "web developer                      17    37\n",
       "web intern                          1     0\n",
       "website developer/tester            0     1\n",
       "windows systems administrator       1     0\n",
       "\n",
       "[416 rows x 2 columns]"
      ]
     },
     "execution_count": 327,
     "metadata": {},
     "output_type": "execute_result"
    }
   ],
   "source": [
    "observed"
   ]
  },
  {
   "cell_type": "code",
   "execution_count": 328,
   "id": "abb22495",
   "metadata": {},
   "outputs": [],
   "source": [
    "# Computing chi2 test statistic, p-value, degree of freedoms\n",
    "\n",
    "chi2_test_stat = chi2_contingency(observed)[0]\n",
    "pval = chi2_contingency(observed)[1]\n",
    "df__ = chi2_contingency(observed)[2]"
   ]
  },
  {
   "cell_type": "code",
   "execution_count": 329,
   "id": "ae39dc6e",
   "metadata": {},
   "outputs": [
    {
     "data": {
      "text/plain": [
       "452.3228690083158"
      ]
     },
     "execution_count": 329,
     "metadata": {},
     "output_type": "execute_result"
    }
   ],
   "source": [
    "confidence_level = 0.90\n",
    "\n",
    "alpha = 1 - confidence_level\n",
    "\n",
    "chi2_critical = chi2.ppf(1 - alpha, df__)\n",
    "\n",
    "chi2_critical"
   ]
  },
  {
   "cell_type": "code",
   "execution_count": 330,
   "id": "a620fab8",
   "metadata": {},
   "outputs": [
    {
     "data": {
      "text/plain": [
       "<matplotlib.collections.PolyCollection at 0x1fe6a21f640>"
      ]
     },
     "execution_count": 330,
     "metadata": {},
     "output_type": "execute_result"
    },
    {
     "data": {
      "image/png": "[encoded data removed]",
      "text/plain": [
       "<Figure size 432x288 with 1 Axes>"
      ]
     },
     "metadata": {
      "needs_background": "light"
     },
     "output_type": "display_data"
    }
   ],
   "source": [
    "# Ploting the chi2 distribution to visualise\n",
    "\n",
    "# Defining the x minimum and x maximum\n",
    "x_min = 0\n",
    "x_max = 100\n",
    "\n",
    "# Ploting the graph and setting the x limits\n",
    "x = np.linspace(x_min, x_max, 100)\n",
    "y = chi2.pdf(x, df__)\n",
    "plt.xlim(x_min, x_max)\n",
    "plt.plot(x, y)\n",
    "\n",
    "\n",
    "# Setting Chi2 Critical value \n",
    "chi2_critical_right = chi2_critical\n",
    "\n",
    "# Shading the right rejection region\n",
    "x1 = np.linspace(chi2_critical_right, x_max, 100)\n",
    "y1 = chi2.pdf(x1, df__)\n",
    "plt.fill_between(x1, y1, color='orange')"
   ]
  },
  {
   "cell_type": "code",
   "execution_count": 331,
   "id": "916d6a7c",
   "metadata": {},
   "outputs": [
    {
     "name": "stdout",
     "output_type": "stream",
     "text": [
      "Reject Null Hypothesis\n"
     ]
    }
   ],
   "source": [
    "if(chi2_test_stat > chi2_critical):\n",
    "    print(\"Reject Null Hypothesis\")\n",
    "else:\n",
    "    print(\"Fail to Reject Null Hypothesis\")"
   ]
  },
  {
   "cell_type": "code",
   "execution_count": 332,
   "id": "4e6ff87a",
   "metadata": {},
   "outputs": [],
   "source": [
    "observed = pd.crosstab(df_['10board'], df_.Gender)"
   ]
  },
  {
   "cell_type": "code",
   "execution_count": null,
   "id": "d7943a89",
   "metadata": {},
   "outputs": [],
   "source": []
  }
 ],
 "metadata": {
  "kernelspec": {
   "display_name": "Python 3 (ipykernel)",
   "language": "python",
   "name": "python3"
  },
  "language_info": {
   "codemirror_mode": {
    "name": "ipython",
    "version": 3
   },
   "file_extension": ".py",
   "mimetype": "text/x-python",
   "name": "python",
   "nbconvert_exporter": "python",
   "pygments_lexer": "ipython3",
   "version": "3.9.7"
  }
 },
 "nbformat": 4,
 "nbformat_minor": 5
}
